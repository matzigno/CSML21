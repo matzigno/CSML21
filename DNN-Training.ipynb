{
 "cells": [
  {
   "cell_type": "code",
   "execution_count": 44,
   "metadata": {},
   "outputs": [],
   "source": [
    "import tensorflow as tf\n",
    "from tensorflow import keras\n",
    "\n",
    "import numpy as np\n",
    "import matplotlib.pyplot as plt\n",
    "%matplotlib inline\n",
    "\n",
    "from functools import partial"
   ]
  },
  {
   "cell_type": "code",
   "execution_count": 28,
   "metadata": {},
   "outputs": [],
   "source": [
    "(X_train_full, y_train_full), (X_test, y_test) = keras.datasets.fashion_mnist.load_data()\n",
    "X_train_full = X_train_full / 255.0\n",
    "X_test = X_test / 255.0\n",
    "X_valid, X_train = X_train_full[:5000], X_train_full[5000:]\n",
    "y_valid, y_train = y_train_full[:5000], y_train_full[5000:]\n",
    "pixel_means = X_train.mean(axis=0, keepdims=True)\n",
    "pixel_stds = X_train.std(axis=0, keepdims=True)\n",
    "X_train_scaled = (X_train - pixel_means) / pixel_stds\n",
    "X_valid_scaled = (X_valid - pixel_means) / pixel_stds\n",
    "X_test_scaled = (X_test - pixel_means) / pixel_stds"
   ]
  },
  {
   "cell_type": "markdown",
   "metadata": {},
   "source": [
    "Problemi da affrontare per il training di un DNN - Deep Neural Network:\n",
    "\n",
    "- **vanishing** o **exploding gradient**. Il gradiente diminuisce o diventa sempre più grande man mano scendo verso i livelli più vicini all'input --> i livelli più vicini all'inout sono più difficili da addestrare\n",
    "- Non abbastanza dati per il training oppure troppo costoso etichettare i sample\n",
    "- Training molto lento\n",
    "- Rischio overfitting \n",
    "\n",
    "## Vanishing/exploding gradient\n",
    "\n",
    "Esiste il rischio che il gradiente diventi sempre più piccolo man mano il gradient descent si avvicina ai livelli più vicini all'input. In questi casi i pesi rimangono inalterati e non osservo alcun apprendimento = **vanishing gradient**. In altri casi il gradiente continua a crescere e l'algoritmo diverge = **exploding gradient**. In generale si osserva un problema di instabilità del gradiente che ha reso queste reti poco utilizzate  fino ai primi anni del 2000. \n",
    "\n",
    "Nel 2010, Glorot e Bengio mostrano che la funzione di attivazione sigmoide e il metodo di inizializzazione dei pesi determinano una crescita della varianza dopo ogni livello hidden, determinando una saturazione della funzione di attivazione nei livelli vicini all'output. Ciò è amplificato dalla funzione sigmoide che satura quando i valori di input crescono e per questi valori la derivata è prossima allo 0 => nel backpropagation viene diffuso un valore di gradiente già prossimo allo zero che a sua volta deve essere diviso tra i vari pesi. E' difficile che i livelli vicini ad input vengano aggiornati.\n",
    "\n",
    "![](dnn_1.png)\n",
    "\n",
    "### Weight Inizialization\n",
    "Glorot e Bengio osservano che per evitare i precedenti fenomeni la varianza dell'output di un layer deve essere simile alla varianza degli input dello stesso layer; lo stesso dicasi per il gradiente. Dal momento che il numero di input = **fan-in** e il numero di unità di output = **fan-out** sono generalmente diversi le due condizioni sono difficilmente verificabili contemporaneamente. Un compromesso è dato da **Xavier** o **Gorot inizialization**:\n",
    "\n",
    "![](dnn_2.png)\n",
    "\n",
    "Se si rimpiazza $fan_{avg}$ con $fan_{in}$, si ottiene la **LeCun inizialization**. Mediante la Glorot inizialization si rende il training più veloce + promosso il successo delle DNN.\n",
    "\n",
    "Nella seguente tabella vengono riassunte le inizializzazioni per diversi tipi di funzioni di attivazione:\n",
    "\n",
    "![](dnn_3.png)\n",
    "\n",
    "In Keras, l'inizializzazione di default è Glorot con distro uniforme, tuttavia mediante il parametro **kernel_initializer** è possibile modificare il metodo di inizializzazione.\n",
    "\n",
    "### Activation functions\n",
    "Il precedente paper ha evidenziato che anche la forma della funzione di attivazione influenza l'instabilità del gradiente. Anche se la sigmoide è utilizzata nei neuroni biologici, ReLU e funzioni affini si comportano meglio nelle DNN. \n",
    "La ReLU, tuttavia, determina il problema del **dying ReLUs**: molti neuroni della rete emettono 0 in output, poichè i pesi in ingresso sono negativi e la somma pesata è minore di 0. Per risolvere il problema si utilizza la funzione di attivazione **LeakyReLU**:\n",
    "$$LReLU_{\\alpha}(z) = max(\\alpha z, z)$$\n",
    "dove solitamente $\\alpha=0.01$\n",
    "\n",
    "![](dnn_4.png)\n",
    "\n",
    "In un articolo del 2015 sono state comparate diverse versioni di ReLU, e LReLU è risultata sempre migliore della ReLU.\n",
    "\n",
    "In Keras per utilizzare LReLU si crea un **LeakyReLU** layer e lo si aggiunge dopo il layer a cui si vuole applicare la funzione di attivazione."
   ]
  },
  {
   "cell_type": "code",
   "execution_count": 46,
   "metadata": {},
   "outputs": [
    {
     "name": "stdout",
     "output_type": "stream",
     "text": [
      "Epoch 1/10\n",
      "1719/1719 [==============================] - 2s 1ms/step - loss: 1.2819 - accuracy: 0.6229 - val_loss: 0.8886 - val_accuracy: 0.7160\n",
      "Epoch 2/10\n",
      "1719/1719 [==============================] - 2s 1ms/step - loss: 0.7955 - accuracy: 0.7362 - val_loss: 0.7130 - val_accuracy: 0.7656\n",
      "Epoch 3/10\n",
      "1719/1719 [==============================] - 2s 1ms/step - loss: 0.6816 - accuracy: 0.7721 - val_loss: 0.6427 - val_accuracy: 0.7898\n",
      "Epoch 4/10\n",
      "1719/1719 [==============================] - 2s 1ms/step - loss: 0.6217 - accuracy: 0.7944 - val_loss: 0.5900 - val_accuracy: 0.8066\n",
      "Epoch 5/10\n",
      "1719/1719 [==============================] - 2s 1ms/step - loss: 0.5832 - accuracy: 0.8075 - val_loss: 0.5582 - val_accuracy: 0.8200\n",
      "Epoch 6/10\n",
      "1719/1719 [==============================] - 2s 1ms/step - loss: 0.5553 - accuracy: 0.8157 - val_loss: 0.5350 - val_accuracy: 0.8238\n",
      "Epoch 7/10\n",
      "1719/1719 [==============================] - 2s 1ms/step - loss: 0.5338 - accuracy: 0.8224 - val_loss: 0.5157 - val_accuracy: 0.8304\n",
      "Epoch 8/10\n",
      "1719/1719 [==============================] - 2s 1ms/step - loss: 0.5173 - accuracy: 0.8272 - val_loss: 0.5079 - val_accuracy: 0.8286\n",
      "Epoch 9/10\n",
      "1719/1719 [==============================] - 2s 1ms/step - loss: 0.5040 - accuracy: 0.8289 - val_loss: 0.4895 - val_accuracy: 0.8390\n",
      "Epoch 10/10\n",
      "1719/1719 [==============================] - 2s 1ms/step - loss: 0.4924 - accuracy: 0.8321 - val_loss: 0.4817 - val_accuracy: 0.8396\n"
     ]
    }
   ],
   "source": [
    "tf.random.set_seed(42)\n",
    "np.random.seed(42)\n",
    "\n",
    "model = keras.models.Sequential([\n",
    "    keras.layers.Flatten(input_shape=[28, 28]),\n",
    "    keras.layers.Dense(300, kernel_initializer=\"he_normal\"),\n",
    "    keras.layers.LeakyReLU(),\n",
    "    keras.layers.Dense(100, kernel_initializer=\"he_normal\"),\n",
    "    keras.layers.LeakyReLU(),\n",
    "    keras.layers.Dense(10, activation=\"softmax\")\n",
    "])\n",
    "\n",
    "model.compile(loss=\"sparse_categorical_crossentropy\",\n",
    "              optimizer=keras.optimizers.SGD(lr=1e-3),\n",
    "              metrics=[\"accuracy\"])\n",
    "\n",
    "history = model.fit(X_train, y_train, epochs=10,\n",
    "                    validation_data=(X_valid, y_valid))"
   ]
  },
  {
   "cell_type": "markdown",
   "metadata": {},
   "source": [
    "Nello stesso anno è stata proposta anche **ELU - exponential linear unit** che migliora le varie varianti della ReLU.\n",
    "\n",
    "![](dnn_5.png)\n",
    "\n",
    "- $\\alpha$ permette di settare a quale valore negativo la funzione deve tendere con valori negativi molto grandi.\n",
    "- a un gradiente diverso da 0 per valori negativi\n",
    "- se $\\alpha=1$ la derivata non ha salti\n",
    "- computazionalmente è più costosa della ReLU, ma con un convergence rate più veloce. Utile nel training, più lenta nella predizione.\n",
    "\n",
    "Nel 2017 è stata introdotta **Scaled ELU - SELU** che auto-normalizza la rete se tutti gli hidden layer utilizzano SELU e sono densi. Per auto-normalizzazione si intende che la media e la standard deviation dell'output di ogni livello sono 0 e 1 rispettivamente.  Alcune condizioni devono essere verificate:\n",
    "- input feature devono essere standardizzate\n",
    "- LeCun inizializer per ogni hidden layer\n",
    "- architettura sequenziale => no RNN o skip connections in CNN o Wide and Deep.\n",
    "\n",
    "Per utilizzare SELU basta definire il parametro **activation** nella definizione del layer **Dense** relativo."
   ]
  },
  {
   "cell_type": "code",
   "execution_count": 47,
   "metadata": {},
   "outputs": [
    {
     "name": "stdout",
     "output_type": "stream",
     "text": [
      "Epoch 1/5\n",
      "1719/1719 [==============================] - 19s 11ms/step - loss: 1.0076 - accuracy: 0.6162 - val_loss: 0.8929 - val_accuracy: 0.6836\n",
      "Epoch 2/5\n",
      "1719/1719 [==============================] - 19s 11ms/step - loss: 0.6358 - accuracy: 0.7773 - val_loss: 0.5437 - val_accuracy: 0.8146\n",
      "Epoch 3/5\n",
      "1719/1719 [==============================] - 18s 10ms/step - loss: 0.5336 - accuracy: 0.8146 - val_loss: 0.5033 - val_accuracy: 0.8214\n",
      "Epoch 4/5\n",
      "1719/1719 [==============================] - 18s 11ms/step - loss: 0.4889 - accuracy: 0.8297 - val_loss: 0.4757 - val_accuracy: 0.8342\n",
      "Epoch 5/5\n",
      "1719/1719 [==============================] - 19s 11ms/step - loss: 0.4487 - accuracy: 0.8438 - val_loss: 0.4298 - val_accuracy: 0.8504\n"
     ]
    }
   ],
   "source": [
    "np.random.seed(42)\n",
    "tf.random.set_seed(42)\n",
    "\n",
    "model = keras.models.Sequential()\n",
    "model.add(keras.layers.Flatten(input_shape=[28, 28]))\n",
    "model.add(keras.layers.Dense(300, activation=\"selu\",\n",
    "                             kernel_initializer=\"lecun_normal\"))\n",
    "for layer in range(99):\n",
    "    model.add(keras.layers.Dense(100, activation=\"selu\",\n",
    "                                 kernel_initializer=\"lecun_normal\"))\n",
    "model.add(keras.layers.Dense(10, activation=\"softmax\"))\n",
    "\n",
    "model.compile(loss=\"sparse_categorical_crossentropy\",\n",
    "              optimizer=keras.optimizers.SGD(lr=1e-3),\n",
    "              metrics=[\"accuracy\"])\n",
    "\n",
    "history = model.fit(X_train_scaled, y_train, epochs=5,\n",
    "                    validation_data=(X_valid_scaled, y_valid))"
   ]
  },
  {
   "cell_type": "markdown",
   "metadata": {},
   "source": [
    "### Batch Normalization\n",
    "Per ridurre il problema del vanishing/exploding gradient, si può utilizzare la tecnica di **Batch Normalization** che consiste nel porre un'operazione prima o dopo la funzione di attivazione di ogni livello in modo da normalizzare l'input e in seguito applicare un rescaling e uno shifting. I parametri delle ultime due operazioni vengono appresi. \n",
    "\n",
    "![](dnn_6.png)\n",
    "\n",
    "Per normalizzare l'input, si utilizza il mini-batch corrente per stimare la media e la standard deviation. $\\mathbf{\\gamma}$ e $\\mathbf{\\beta}$ vengono appressi e influenzano lo scaling e lo shifting delle istanze/sample del mini-batch. Non variano al variare del mini-batch. Ogni mini-batch non ha una coppia specifica di parametri.\n",
    "\n",
    "Per la predizione di nuove istanze non possiamo calcolare la media e la standard deviation. In pratica le due grandezze vengono calcolate utilizzando un aggiornamento online  durante il training. Keras utilizza questo metodo. In sostanza oltre ai parametri di scaling e shifting vengono stimate anche la media e la deviazione standard.\n",
    "\n",
    "BN ha milgiorato le performance in molti task e con diverse architetture, riducendo il fenomeno del vanishing gradient a tal punto da permettere l'uso di sigmoidi e tanh come funzioni di attivazione.  Inoltre, gli autori di BN hanno potuto utilizzare learning rate più grandi velocizzando il processo di training. Infine BN può agire anche da regularization.\n",
    "\n",
    "Tuttavia BN aggiunge complessita' al modello e rende la predizine piu' lenta a causa delle computazioni extra, anche se e' possibile inglobare i fattori di scala e shifting direttamenta nella matrice dei pesi e nel vettore dei bias.\n",
    "\n",
    "In Keras si deve solo aggiungere il layer **Batch Normalization** prima o dopo ogni funzione di attivazione di un hidden layer."
   ]
  },
  {
   "cell_type": "code",
   "execution_count": 49,
   "metadata": {},
   "outputs": [],
   "source": [
    "model = keras.models.Sequential([\n",
    "    keras.layers.Flatten(input_shape=[28, 28]),\n",
    "    keras.layers.BatchNormalization(),\n",
    "    keras.layers.Dense(300, activation=\"relu\"),\n",
    "    keras.layers.BatchNormalization(),\n",
    "    keras.layers.Dense(100, activation=\"relu\"),\n",
    "    keras.layers.BatchNormalization(),\n",
    "    keras.layers.Dense(10, activation=\"softmax\")\n",
    "])"
   ]
  },
  {
   "cell_type": "code",
   "execution_count": 50,
   "metadata": {},
   "outputs": [
    {
     "name": "stdout",
     "output_type": "stream",
     "text": [
      "Model: \"sequential_14\"\n",
      "_________________________________________________________________\n",
      "Layer (type)                 Output Shape              Param #   \n",
      "=================================================================\n",
      "flatten_13 (Flatten)         (None, 784)               0         \n",
      "_________________________________________________________________\n",
      "batch_normalization_3 (Batch (None, 784)               3136      \n",
      "_________________________________________________________________\n",
      "dense_144 (Dense)            (None, 300)               235500    \n",
      "_________________________________________________________________\n",
      "batch_normalization_4 (Batch (None, 300)               1200      \n",
      "_________________________________________________________________\n",
      "dense_145 (Dense)            (None, 100)               30100     \n",
      "_________________________________________________________________\n",
      "batch_normalization_5 (Batch (None, 100)               400       \n",
      "_________________________________________________________________\n",
      "dense_146 (Dense)            (None, 10)                1010      \n",
      "=================================================================\n",
      "Total params: 271,346\n",
      "Trainable params: 268,978\n",
      "Non-trainable params: 2,368\n",
      "_________________________________________________________________\n"
     ]
    }
   ],
   "source": [
    "model.summary()"
   ]
  },
  {
   "cell_type": "markdown",
   "metadata": {},
   "source": [
    "Ogni layer BN aggiunge quattro parametri (784*4 nel primo livello)."
   ]
  },
  {
   "cell_type": "code",
   "execution_count": 8,
   "metadata": {},
   "outputs": [
    {
     "data": {
      "text/plain": [
       "[('batch_normalization/gamma:0', True),\n",
       " ('batch_normalization/beta:0', True),\n",
       " ('batch_normalization/moving_mean:0', False),\n",
       " ('batch_normalization/moving_variance:0', False)]"
      ]
     },
     "execution_count": 8,
     "metadata": {},
     "output_type": "execute_result"
    }
   ],
   "source": [
    "bn1 = model.layers[1]\n",
    "[(var.name, var.trainable) for var in bn1.variables]"
   ]
  },
  {
   "cell_type": "markdown",
   "metadata": {},
   "source": [
    "Ma $\\mathbf{\\mu}$ e $\\mathbf{\\sigma}$ non sono addestrabili."
   ]
  },
  {
   "cell_type": "code",
   "execution_count": 9,
   "metadata": {},
   "outputs": [],
   "source": [
    "model.compile(loss=\"sparse_categorical_crossentropy\",\n",
    "              optimizer=keras.optimizers.SGD(lr=1e-3),\n",
    "              metrics=[\"accuracy\"])"
   ]
  },
  {
   "cell_type": "code",
   "execution_count": 10,
   "metadata": {},
   "outputs": [
    {
     "name": "stdout",
     "output_type": "stream",
     "text": [
      "Epoch 1/10\n",
      "1719/1719 [==============================] - 4s 2ms/step - loss: 0.8581 - accuracy: 0.7180 - val_loss: 0.5714 - val_accuracy: 0.8096\n",
      "Epoch 2/10\n",
      "1719/1719 [==============================] - 4s 2ms/step - loss: 0.5753 - accuracy: 0.8020 - val_loss: 0.4908 - val_accuracy: 0.8350\n",
      "Epoch 3/10\n",
      "1719/1719 [==============================] - 4s 2ms/step - loss: 0.5130 - accuracy: 0.8223 - val_loss: 0.4509 - val_accuracy: 0.8446\n",
      "Epoch 4/10\n",
      "1719/1719 [==============================] - 4s 2ms/step - loss: 0.4803 - accuracy: 0.8310 - val_loss: 0.4283 - val_accuracy: 0.8516\n",
      "Epoch 5/10\n",
      "1719/1719 [==============================] - 4s 2ms/step - loss: 0.4549 - accuracy: 0.8406 - val_loss: 0.4095 - val_accuracy: 0.8598\n",
      "Epoch 6/10\n",
      "1719/1719 [==============================] - 4s 2ms/step - loss: 0.4366 - accuracy: 0.8452 - val_loss: 0.3998 - val_accuracy: 0.8600\n",
      "Epoch 7/10\n",
      "1719/1719 [==============================] - 4s 2ms/step - loss: 0.4235 - accuracy: 0.8509 - val_loss: 0.3889 - val_accuracy: 0.8652\n",
      "Epoch 8/10\n",
      "1719/1719 [==============================] - 4s 2ms/step - loss: 0.4100 - accuracy: 0.8559 - val_loss: 0.3805 - val_accuracy: 0.8684\n",
      "Epoch 9/10\n",
      "1719/1719 [==============================] - 4s 2ms/step - loss: 0.4021 - accuracy: 0.8579 - val_loss: 0.3750 - val_accuracy: 0.8682\n",
      "Epoch 10/10\n",
      "1719/1719 [==============================] - 4s 2ms/step - loss: 0.3901 - accuracy: 0.8626 - val_loss: 0.3690 - val_accuracy: 0.8672\n"
     ]
    }
   ],
   "source": [
    "history = model.fit(X_train, y_train, epochs=10,\n",
    "                    validation_data=(X_valid, y_valid))"
   ]
  },
  {
   "cell_type": "markdown",
   "metadata": {},
   "source": [
    "Gli autori di BN suggeriscono di inserire BN prima delle funzioni di attivazione, tuttavia il posizionamento e' dipendente dal task. Per aggiungere il layer BN prima della funzione di attivazione, si deve rimuovere la funzione di attivazione del livello denso e aggiungerla come ulteriore layer in seguito."
   ]
  },
  {
   "cell_type": "markdown",
   "metadata": {},
   "source": [
    "Inoltre visto che viene introdotto un parametro di shifting/offset, e' possibile omettere il bias mediante il parametro **use_bias**:"
   ]
  },
  {
   "cell_type": "code",
   "execution_count": 11,
   "metadata": {},
   "outputs": [],
   "source": [
    "model = keras.models.Sequential([\n",
    "    keras.layers.Flatten(input_shape=[28, 28]),\n",
    "    keras.layers.BatchNormalization(),\n",
    "    keras.layers.Dense(300, use_bias=False),\n",
    "    keras.layers.BatchNormalization(),\n",
    "    keras.layers.Activation(\"relu\"),\n",
    "    keras.layers.Dense(100, use_bias=False),\n",
    "    keras.layers.BatchNormalization(),\n",
    "    keras.layers.Activation(\"relu\"),\n",
    "    keras.layers.Dense(10, activation=\"softmax\")\n",
    "])"
   ]
  },
  {
   "cell_type": "markdown",
   "metadata": {},
   "source": [
    "Nel layer BN posso specificare il parametro **momentum** che agisce sulla stima della media e della standard deviation. Il metodo di aggiiornamento della media mobile diventa:\n",
    "$$\\mathbf{\\mu} \\leftarrow \\mathbf{\\mu} * momentum + \\mathbf{v} * (1-momentum)$$\n",
    "\n",
    "Un secondo parametro e' su quale dimensione calcolare la media e la standard deviation. E' specificabile mediante il parametro **axis**.\n",
    "\n",
    "BN e' molto utilizzato tanto da essere omesso nei diagrammi di rappresentazione delle DNN."
   ]
  },
  {
   "cell_type": "markdown",
   "metadata": {},
   "source": [
    "### Gradient Clipping\n",
    "Un ulteriore metodo per ridurre l'instabilita' del gradiente e' **Gradient Clipping**. Questo metodo, utilizzato principalmente nelle RNN, forza il gradiente ad assumere valori compresi tra -1  e 1 (il valore assoluto del range e' un iperparametro - **clipvalue**). Tale metodo modifica la direzione del gradiente. Per evitare questo comportamento e' possibile normalizzare il gradiente utilizzando la norma $L_2$. "
   ]
  },
  {
   "cell_type": "markdown",
   "metadata": {},
   "source": [
    "## Reusing Pretrained Layers\n",
    "In generale non si addestra una DNN da zero, ma si utilizza una rete gia' addestrata su un task simile sfruttano i livelli piu' vicini all'input = **Transfer Learning**. Abbiamo gia' visto questo metodo nella lezione precedente con CNN.\n",
    "\n",
    "I vantaggi sono:\n",
    "- training piu' veloce\n",
    "- training set richiesto meno grande\n",
    "\n",
    "![](dnn_7.png)\n",
    "\n",
    "Il layer di output viene generalmente rimpiazziato da un layer adatto al task da risolvere, cosi' come i layer piu' vicini al layer di output. Solitamente di procede in modo sequenziale, bloccando tutti i livelli e verificando le performance sbloccando prima quelli piu' alti. Il processo puo' essere velocizzato se la dimensione del training set e' elevata. Inoltre per non modificare drasticamente i pesi dei livelli non bloccati si utilizza un learning rate ridotto.\n",
    "\n",
    "Da un modello che addestriamo su 8 categorie di Fashion MNIST, sviluppiamo un modello che distingue tra le 2 categorie rimaste fuori dal primo modello: sandali e magliette.\n",
    "\n",
    "Prepariamo il dataset:"
   ]
  },
  {
   "cell_type": "code",
   "execution_count": 14,
   "metadata": {},
   "outputs": [],
   "source": [
    "def split_dataset(X, y):\n",
    "    y_5_or_6 = (y == 5) | (y == 6) # sandals or shirts\n",
    "    y_A = y[~y_5_or_6]\n",
    "    y_A[y_A > 6] -= 2 # class indices 7, 8, 9 should be moved to 5, 6, 7\n",
    "    y_B = (y[y_5_or_6] == 6).astype(np.float32) # binary classification task: is it a shirt (class 6)?\n",
    "    return ((X[~y_5_or_6], y_A),\n",
    "            (X[y_5_or_6], y_B))\n",
    "\n",
    "(X_train_A, y_train_A), (X_train_B, y_train_B) = split_dataset(X_train, y_train)\n",
    "(X_valid_A, y_valid_A), (X_valid_B, y_valid_B) = split_dataset(X_valid, y_valid)\n",
    "(X_test_A, y_test_A), (X_test_B, y_test_B) = split_dataset(X_test, y_test)\n",
    "X_train_B = X_train_B[:200]\n",
    "y_train_B = y_train_B[:200]"
   ]
  },
  {
   "cell_type": "markdown",
   "metadata": {},
   "source": [
    "Addestriamo il primo  modello sulle 8 categorie:"
   ]
  },
  {
   "cell_type": "code",
   "execution_count": 15,
   "metadata": {},
   "outputs": [
    {
     "name": "stdout",
     "output_type": "stream",
     "text": [
      "Epoch 1/20\n",
      "1375/1375 [==============================] - 2s 1ms/step - loss: 0.5940 - accuracy: 0.8072 - val_loss: 0.3940 - val_accuracy: 0.8702\n",
      "Epoch 2/20\n",
      "1375/1375 [==============================] - 2s 1ms/step - loss: 0.3646 - accuracy: 0.8751 - val_loss: 0.3328 - val_accuracy: 0.8852\n",
      "Epoch 3/20\n",
      "1375/1375 [==============================] - 2s 1ms/step - loss: 0.3239 - accuracy: 0.8871 - val_loss: 0.3092 - val_accuracy: 0.8954\n",
      "Epoch 4/20\n",
      "1375/1375 [==============================] - 2s 1ms/step - loss: 0.3028 - accuracy: 0.8946 - val_loss: 0.2914 - val_accuracy: 0.9038\n",
      "Epoch 5/20\n",
      "1375/1375 [==============================] - 2s 1ms/step - loss: 0.2888 - accuracy: 0.8998 - val_loss: 0.2796 - val_accuracy: 0.9088\n",
      "Epoch 6/20\n",
      "1375/1375 [==============================] - 2s 1ms/step - loss: 0.2783 - accuracy: 0.9041 - val_loss: 0.2710 - val_accuracy: 0.9101\n",
      "Epoch 7/20\n",
      "1375/1375 [==============================] - 2s 1ms/step - loss: 0.2702 - accuracy: 0.9068 - val_loss: 0.2656 - val_accuracy: 0.9096\n",
      "Epoch 8/20\n",
      "1375/1375 [==============================] - 2s 1ms/step - loss: 0.2629 - accuracy: 0.9092 - val_loss: 0.2652 - val_accuracy: 0.9113\n",
      "Epoch 9/20\n",
      "1375/1375 [==============================] - 2s 1ms/step - loss: 0.2573 - accuracy: 0.9118 - val_loss: 0.2583 - val_accuracy: 0.9138\n",
      "Epoch 10/20\n",
      "1375/1375 [==============================] - 2s 1ms/step - loss: 0.2518 - accuracy: 0.9134 - val_loss: 0.2526 - val_accuracy: 0.9168\n",
      "Epoch 11/20\n",
      "1375/1375 [==============================] - 2s 1ms/step - loss: 0.2471 - accuracy: 0.9151 - val_loss: 0.2511 - val_accuracy: 0.9150\n",
      "Epoch 12/20\n",
      "1375/1375 [==============================] - 2s 1ms/step - loss: 0.2431 - accuracy: 0.9174 - val_loss: 0.2485 - val_accuracy: 0.9145\n",
      "Epoch 13/20\n",
      "1375/1375 [==============================] - 2s 1ms/step - loss: 0.2393 - accuracy: 0.9178 - val_loss: 0.2454 - val_accuracy: 0.9168\n",
      "Epoch 14/20\n",
      "1375/1375 [==============================] - 2s 1ms/step - loss: 0.2360 - accuracy: 0.9190 - val_loss: 0.2512 - val_accuracy: 0.9121\n",
      "Epoch 15/20\n",
      "1375/1375 [==============================] - 2s 1ms/step - loss: 0.2328 - accuracy: 0.9201 - val_loss: 0.2400 - val_accuracy: 0.9180\n",
      "Epoch 16/20\n",
      "1375/1375 [==============================] - 2s 1ms/step - loss: 0.2294 - accuracy: 0.9213 - val_loss: 0.2407 - val_accuracy: 0.9168\n",
      "Epoch 17/20\n",
      "1375/1375 [==============================] - 2s 1ms/step - loss: 0.2265 - accuracy: 0.9218 - val_loss: 0.2417 - val_accuracy: 0.9153\n",
      "Epoch 18/20\n",
      "1375/1375 [==============================] - 2s 1ms/step - loss: 0.2242 - accuracy: 0.9229 - val_loss: 0.2380 - val_accuracy: 0.9185\n",
      "Epoch 19/20\n",
      "1375/1375 [==============================] - 2s 1ms/step - loss: 0.2212 - accuracy: 0.9240 - val_loss: 0.2358 - val_accuracy: 0.9145\n",
      "Epoch 20/20\n",
      "1375/1375 [==============================] - 2s 1ms/step - loss: 0.2191 - accuracy: 0.9240 - val_loss: 0.2415 - val_accuracy: 0.9170\n"
     ]
    }
   ],
   "source": [
    "model_A = keras.models.Sequential()\n",
    "model_A.add(keras.layers.Flatten(input_shape=[28, 28]))\n",
    "for n_hidden in (300, 100, 50, 50, 50):\n",
    "    model_A.add(keras.layers.Dense(n_hidden, activation=\"selu\"))\n",
    "model_A.add(keras.layers.Dense(8, activation=\"softmax\"))\n",
    "\n",
    "model_A.compile(loss=\"sparse_categorical_crossentropy\",\n",
    "                optimizer=keras.optimizers.SGD(lr=1e-3),\n",
    "                metrics=[\"accuracy\"])\n",
    "\n",
    "history = model_A.fit(X_train_A, y_train_A, epochs=20,\n",
    "                    validation_data=(X_valid_A, y_valid_A))"
   ]
  },
  {
   "cell_type": "code",
   "execution_count": 16,
   "metadata": {},
   "outputs": [],
   "source": [
    "model_A.save(\"DNN_Fashion8_A.h5\")"
   ]
  },
  {
   "cell_type": "markdown",
   "metadata": {},
   "source": [
    "Ora definiamo la DNN che implementa la classificazione binaria senza Transfer Learning."
   ]
  },
  {
   "cell_type": "code",
   "execution_count": 17,
   "metadata": {},
   "outputs": [
    {
     "name": "stdout",
     "output_type": "stream",
     "text": [
      "Epoch 1/20\n",
      "7/7 [==============================] - 0s 44ms/step - loss: 0.6014 - accuracy: 0.6600 - val_loss: 0.5240 - val_accuracy: 0.7789\n",
      "Epoch 2/20\n",
      "7/7 [==============================] - 0s 6ms/step - loss: 0.4455 - accuracy: 0.8400 - val_loss: 0.4110 - val_accuracy: 0.8611\n",
      "Epoch 3/20\n",
      "7/7 [==============================] - 0s 6ms/step - loss: 0.3489 - accuracy: 0.9050 - val_loss: 0.3421 - val_accuracy: 0.9087\n",
      "Epoch 4/20\n",
      "7/7 [==============================] - 0s 6ms/step - loss: 0.2823 - accuracy: 0.9450 - val_loss: 0.2924 - val_accuracy: 0.9270\n",
      "Epoch 5/20\n",
      "7/7 [==============================] - 0s 6ms/step - loss: 0.2400 - accuracy: 0.9500 - val_loss: 0.2581 - val_accuracy: 0.9361\n",
      "Epoch 6/20\n",
      "7/7 [==============================] - 0s 6ms/step - loss: 0.2072 - accuracy: 0.9800 - val_loss: 0.2304 - val_accuracy: 0.9452\n",
      "Epoch 7/20\n",
      "7/7 [==============================] - 0s 6ms/step - loss: 0.1810 - accuracy: 0.9800 - val_loss: 0.2087 - val_accuracy: 0.9533\n",
      "Epoch 8/20\n",
      "7/7 [==============================] - 0s 6ms/step - loss: 0.1608 - accuracy: 0.9850 - val_loss: 0.1915 - val_accuracy: 0.9564\n",
      "Epoch 9/20\n",
      "7/7 [==============================] - 0s 6ms/step - loss: 0.1450 - accuracy: 0.9850 - val_loss: 0.1783 - val_accuracy: 0.9625\n",
      "Epoch 10/20\n",
      "7/7 [==============================] - 0s 6ms/step - loss: 0.1321 - accuracy: 0.9850 - val_loss: 0.1667 - val_accuracy: 0.9665\n",
      "Epoch 11/20\n",
      "7/7 [==============================] - 0s 6ms/step - loss: 0.1217 - accuracy: 0.9900 - val_loss: 0.1568 - val_accuracy: 0.9686\n",
      "Epoch 12/20\n",
      "7/7 [==============================] - 0s 6ms/step - loss: 0.1126 - accuracy: 0.9900 - val_loss: 0.1486 - val_accuracy: 0.9696\n",
      "Epoch 13/20\n",
      "7/7 [==============================] - 0s 6ms/step - loss: 0.1043 - accuracy: 0.9900 - val_loss: 0.1414 - val_accuracy: 0.9706\n",
      "Epoch 14/20\n",
      "7/7 [==============================] - 0s 6ms/step - loss: 0.0972 - accuracy: 0.9900 - val_loss: 0.1351 - val_accuracy: 0.9716\n",
      "Epoch 15/20\n",
      "7/7 [==============================] - 0s 6ms/step - loss: 0.0910 - accuracy: 0.9950 - val_loss: 0.1293 - val_accuracy: 0.9716\n",
      "Epoch 16/20\n",
      "7/7 [==============================] - 0s 7ms/step - loss: 0.0856 - accuracy: 0.9950 - val_loss: 0.1240 - val_accuracy: 0.9726\n",
      "Epoch 17/20\n",
      "7/7 [==============================] - 0s 6ms/step - loss: 0.0809 - accuracy: 0.9950 - val_loss: 0.1196 - val_accuracy: 0.9726\n",
      "Epoch 18/20\n",
      "7/7 [==============================] - 0s 6ms/step - loss: 0.0768 - accuracy: 0.9950 - val_loss: 0.1156 - val_accuracy: 0.9726\n",
      "Epoch 19/20\n",
      "7/7 [==============================] - 0s 6ms/step - loss: 0.0732 - accuracy: 0.9950 - val_loss: 0.1117 - val_accuracy: 0.9757\n",
      "Epoch 20/20\n",
      "7/7 [==============================] - 0s 6ms/step - loss: 0.0697 - accuracy: 0.9950 - val_loss: 0.1083 - val_accuracy: 0.9746\n"
     ]
    }
   ],
   "source": [
    "model_B = keras.models.Sequential()\n",
    "model_B.add(keras.layers.Flatten(input_shape=[28, 28]))\n",
    "for n_hidden in (300, 100, 50, 50, 50):\n",
    "    model_B.add(keras.layers.Dense(n_hidden, activation=\"selu\"))    \n",
    "model_B.add(keras.layers.Dense(1, activation=\"sigmoid\"))\n",
    "\n",
    "model_B.compile(loss=\"binary_crossentropy\",\n",
    "                optimizer=keras.optimizers.SGD(lr=1e-3),\n",
    "                metrics=[\"accuracy\"])\n",
    "\n",
    "history = model_B.fit(X_train_B, y_train_B, epochs=20,\n",
    "                      validation_data=(X_valid_B, y_valid_B))"
   ]
  },
  {
   "cell_type": "markdown",
   "metadata": {},
   "source": [
    "Ora addestriamo il nostro modello con utilizzando tutti i livelli tranne l'output del modello A:"
   ]
  },
  {
   "cell_type": "code",
   "execution_count": 19,
   "metadata": {},
   "outputs": [],
   "source": [
    "model_A = keras.models.load_model(\"DNN_Fashion8_A.h5\")"
   ]
  },
  {
   "cell_type": "markdown",
   "metadata": {},
   "source": [
    "Dal momento che devo copiare i layer in un altro modello. Il training del modello B modifica i pesi del modello originale A, quindi devo farne una copia:"
   ]
  },
  {
   "cell_type": "code",
   "execution_count": 20,
   "metadata": {},
   "outputs": [],
   "source": [
    "model_A_clone = keras.models.clone_model(model_A)\n",
    "model_A_clone.set_weights(model_A.get_weights())"
   ]
  },
  {
   "cell_type": "markdown",
   "metadata": {},
   "source": [
    "Per non modificare drasticamente i pesi dei livelli piu' bassi, nelle prime epoche vengono bloccati tutti i livelli tra quelli appena introdotti in modo da addestrare solo quelli nuovi e ridurre il gradiente da propagare nelle epoche successive."
   ]
  },
  {
   "cell_type": "code",
   "execution_count": 21,
   "metadata": {},
   "outputs": [
    {
     "name": "stdout",
     "output_type": "stream",
     "text": [
      "Epoch 1/4\n",
      "7/7 [==============================] - 0s 25ms/step - loss: 0.8854 - accuracy: 0.5900 - val_loss: 0.8969 - val_accuracy: 0.6075\n",
      "Epoch 2/4\n",
      "7/7 [==============================] - 0s 6ms/step - loss: 0.8128 - accuracy: 0.6150 - val_loss: 0.8312 - val_accuracy: 0.6146\n",
      "Epoch 3/4\n",
      "7/7 [==============================] - 0s 6ms/step - loss: 0.7485 - accuracy: 0.6250 - val_loss: 0.7727 - val_accuracy: 0.6308\n",
      "Epoch 4/4\n",
      "7/7 [==============================] - 0s 6ms/step - loss: 0.6914 - accuracy: 0.6300 - val_loss: 0.7201 - val_accuracy: 0.6430\n"
     ]
    }
   ],
   "source": [
    "model_B_on_A = keras.models.Sequential(model_A.layers[:-1])\n",
    "model_B_on_A.add(keras.layers.Dense(1, activation=\"sigmoid\"))\n",
    "\n",
    "for layer in model_B_on_A.layers[:-1]:\n",
    "    layer.trainable = False\n",
    "\n",
    "model_B_on_A.compile(loss=\"binary_crossentropy\",\n",
    "                     optimizer=keras.optimizers.SGD(lr=1e-3),\n",
    "                     metrics=[\"accuracy\"])\n",
    "\n",
    "history = model_B_on_A.fit(X_train_B, y_train_B, epochs=4,\n",
    "                           validation_data=(X_valid_B, y_valid_B))"
   ]
  },
  {
   "cell_type": "markdown",
   "metadata": {},
   "source": [
    "Ora possiamo modificare tutti i layer:"
   ]
  },
  {
   "cell_type": "code",
   "execution_count": 22,
   "metadata": {},
   "outputs": [
    {
     "name": "stdout",
     "output_type": "stream",
     "text": [
      "Epoch 1/16\n",
      "7/7 [==============================] - 0s 25ms/step - loss: 0.4002 - accuracy: 0.8400 - val_loss: 0.2537 - val_accuracy: 0.9341\n",
      "Epoch 2/16\n",
      "7/7 [==============================] - 0s 6ms/step - loss: 0.1765 - accuracy: 0.9750 - val_loss: 0.1890 - val_accuracy: 0.9625\n",
      "Epoch 3/16\n",
      "7/7 [==============================] - 0s 6ms/step - loss: 0.1345 - accuracy: 0.9900 - val_loss: 0.1625 - val_accuracy: 0.9686\n",
      "Epoch 4/16\n",
      "7/7 [==============================] - 0s 6ms/step - loss: 0.1137 - accuracy: 0.9900 - val_loss: 0.1443 - val_accuracy: 0.9696\n",
      "Epoch 5/16\n",
      "7/7 [==============================] - 0s 6ms/step - loss: 0.0991 - accuracy: 0.9900 - val_loss: 0.1333 - val_accuracy: 0.9726\n",
      "Epoch 6/16\n",
      "7/7 [==============================] - 0s 6ms/step - loss: 0.0895 - accuracy: 0.9900 - val_loss: 0.1243 - val_accuracy: 0.9746\n",
      "Epoch 7/16\n",
      "7/7 [==============================] - 0s 6ms/step - loss: 0.0817 - accuracy: 0.9900 - val_loss: 0.1167 - val_accuracy: 0.9757\n",
      "Epoch 8/16\n",
      "7/7 [==============================] - 0s 6ms/step - loss: 0.0749 - accuracy: 0.9950 - val_loss: 0.1100 - val_accuracy: 0.9767\n",
      "Epoch 9/16\n",
      "7/7 [==============================] - 0s 7ms/step - loss: 0.0689 - accuracy: 0.9950 - val_loss: 0.1049 - val_accuracy: 0.9767\n",
      "Epoch 10/16\n",
      "7/7 [==============================] - 0s 6ms/step - loss: 0.0644 - accuracy: 0.9950 - val_loss: 0.1002 - val_accuracy: 0.9767\n",
      "Epoch 11/16\n",
      "7/7 [==============================] - 0s 6ms/step - loss: 0.0600 - accuracy: 0.9950 - val_loss: 0.0961 - val_accuracy: 0.9767\n",
      "Epoch 12/16\n",
      "7/7 [==============================] - 0s 6ms/step - loss: 0.0564 - accuracy: 0.9950 - val_loss: 0.0926 - val_accuracy: 0.9777\n",
      "Epoch 13/16\n",
      "7/7 [==============================] - 0s 6ms/step - loss: 0.0530 - accuracy: 0.9950 - val_loss: 0.0892 - val_accuracy: 0.9787\n",
      "Epoch 14/16\n",
      "7/7 [==============================] - 0s 6ms/step - loss: 0.0502 - accuracy: 0.9950 - val_loss: 0.0864 - val_accuracy: 0.9787\n",
      "Epoch 15/16\n",
      "7/7 [==============================] - 0s 6ms/step - loss: 0.0476 - accuracy: 0.9950 - val_loss: 0.0837 - val_accuracy: 0.9797\n",
      "Epoch 16/16\n",
      "7/7 [==============================] - 0s 6ms/step - loss: 0.0453 - accuracy: 0.9950 - val_loss: 0.0814 - val_accuracy: 0.9817\n"
     ]
    }
   ],
   "source": [
    "for layer in model_B_on_A.layers[:-1]:\n",
    "    layer.trainable = True\n",
    "\n",
    "model_B_on_A.compile(loss=\"binary_crossentropy\",\n",
    "                     optimizer=keras.optimizers.SGD(lr=1e-3),\n",
    "                     metrics=[\"accuracy\"])\n",
    "history = model_B_on_A.fit(X_train_B, y_train_B, epochs=16,\n",
    "                           validation_data=(X_valid_B, y_valid_B))"
   ]
  },
  {
   "cell_type": "code",
   "execution_count": 23,
   "metadata": {},
   "outputs": [
    {
     "name": "stdout",
     "output_type": "stream",
     "text": [
      "63/63 [==============================] - 0s 906us/step - loss: 0.1109 - accuracy: 0.9770\n"
     ]
    },
    {
     "data": {
      "text/plain": [
       "[0.11086471378803253, 0.9769999980926514]"
      ]
     },
     "execution_count": 23,
     "metadata": {},
     "output_type": "execute_result"
    }
   ],
   "source": [
    "model_B.evaluate(X_test_B, y_test_B)"
   ]
  },
  {
   "cell_type": "code",
   "execution_count": 24,
   "metadata": {},
   "outputs": [
    {
     "name": "stdout",
     "output_type": "stream",
     "text": [
      "63/63 [==============================] - 0s 1ms/step - loss: 0.0729 - accuracy: 0.9860\n"
     ]
    },
    {
     "data": {
      "text/plain": [
       "[0.07285811752080917, 0.9860000014305115]"
      ]
     },
     "execution_count": 24,
     "metadata": {},
     "output_type": "execute_result"
    }
   ],
   "source": [
    "model_B_on_A.evaluate(X_test_B, y_test_B)"
   ]
  },
  {
   "cell_type": "markdown",
   "metadata": {},
   "source": [
    "## Faster Optimizer\n",
    "Un aumento della performance computazionali nel training e' dato anche dagli algoritmi di ottimizzazione che estendono l'approccio Gradient Descent.\n",
    "\n",
    "### Momentum\n",
    "![](dnn_8.png)\n",
    "\n",
    "$\\mathbf{m}$ tiene traccia degli aggiornamenti precedenti, mentre $\\beta$ riduce l'effetto del vettore momentum. Solitamente momentum permette di uscire piu' facilmente da minimi locali o regioni molto \"piatte\" dal momento che e' come se avvesse un alto learning rate. Un buon valore di $\\beta$, solitamente 0.9, permette di ridurre i tempi di convergenza in presenza di minimo.\n",
    "\n",
    "In Keras posso utilizzare momentum specificando il parametro **momentum** quando creo un oggetto **SGD**. In questo caso definisco il parametro $\\beta$.\n",
    "\n",
    "### Nesterov Accelerated Gradient - NAG\n",
    "![](dnn_9.png)\n",
    "\n",
    "Misura il gradiente della cost function non in $\\theta$ ma nel punto $\\theta+\\beta m$. Dal momento che m punta nella direzione dell'ottimo, viene calcolato la direzione di movimento un \"passo\" avanti. Il metodo e' quindi piu' veloce di momentum.\n",
    "\n",
    "![](dnn_1-.png)\n",
    "\n",
    "Dove $\\nabla_1$ e' il gradiente della funzione in $\\theta$, mentre $\\nabla_2$ e' il gradiente della funzione in $\\theta +\\beta m$\n",
    "\n",
    "### AdaGrad\n",
    "\n",
    "Il metodo riscala il gradiente in modo da direzionarlo nella direzione dell'ottimo:\n",
    "\n",
    "![](dnn_11.png)\n",
    "\n",
    "$s$ accumula il quadrato delle derivate parziali della cost function. In questo modo amplifico le componenti che determinano maggiormente la direzione del gradiente. Nel secondo passo, il gradiente viene riscalato di un fattore $\\sqrt{s+\\epsilon}$. In questo modo il learning rate dipende dalle dimensioni che contribuiscono maggiormente alla discesa. In pratica AdaGrad viene spesso intrappolato in minimi locali e non e' adatto alle DNN.\n",
    "\n",
    "In Keras si ha la classe **Adagrad**.\n",
    "\n",
    "### RMSProp\n",
    "Si basa sulla stessa idea di AdaGrad ma accumula solo il gradiente delle ultime iterazioni utilizzando un decadimento esponenziale:\n",
    "\n",
    "![](dnn_12.png)\n",
    "\n",
    "Solitamente $\\beta=0.9$.\n",
    "\n",
    "In Keras RMSProp e' implemetato dalla classe **RMSProp** con parametri **lr** e **rho**.\n",
    "\n",
    "### Adam e Nadam\n",
    "Adam combina i concetti di momentum e RMSProp:\n",
    "\n",
    "![](dnn_13.png)\n",
    "\n",
    "Con $\\beta_1=0.9$ e $\\beta_2=0.999$.\n",
    "\n",
    "In Keras, Adam e' implementato dalla classe **Adam**.\n",
    "\n",
    "Esistono due varianti:\n",
    "1. **AdaMax**: viene utilizzata la regola di aggiornamento $s\\leftarrow max(\\beta_2s,\\nabla_{\\theta}J(\\theta))$. \n",
    "2. **NAdam**: viene implementato anche il metodo di Nestorov.\n",
    "\n",
    "In sintesi:\n",
    "\n",
    "![](dnn_14.png)"
   ]
  },
  {
   "cell_type": "markdown",
   "metadata": {},
   "source": [
    "### Schedule Learning Rate\n",
    "\n",
    "Ci sono diverse strategie per ridurre il learning rate durante il training = **learning schedule**:\n",
    "1. **power scheduling**: $\\eta(t) = \\eta_0 / (1 + t/s )^c$. Solitamente $c=1$.\n",
    "2. **exponential scheduling**: $\\eta(t) = \\eta_0 0.1 ^ {t/s}$\n",
    "3. **piecewise constant scheduling**: definisco il valore di $eta$ a tratti in funzione dell'epoca\n",
    "4. **performance scaling**: misura il validation error e se l'error non si riduce, riduco il learning rate di un fattore $\\lambda$\n",
    "5. **lcycle scheduling**: inizia aumentando $\\eta_0$ linearmente fino a $\\eta_1$ durante la prima meta' del training, poi ritorna nella seconda meta' a $\\eta_0$. Le ultime epoche il learning rate viene ridotto sensibilmente di alcuni ordini di grandezza."
   ]
  },
  {
   "cell_type": "code",
   "execution_count": 26,
   "metadata": {},
   "outputs": [],
   "source": [
    "## Power Scheduling\n",
    "optimizer = keras.optimizers.SGD(lr=0.01, decay=1e-4)\n",
    "\n",
    "model = keras.models.Sequential([\n",
    "    keras.layers.Flatten(input_shape=[28, 28]),\n",
    "    keras.layers.Dense(300, activation=\"selu\", kernel_initializer=\"lecun_normal\"),\n",
    "    keras.layers.Dense(100, activation=\"selu\", kernel_initializer=\"lecun_normal\"),\n",
    "    keras.layers.Dense(10, activation=\"softmax\")\n",
    "])\n",
    "model.compile(loss=\"sparse_categorical_crossentropy\", optimizer=optimizer, metrics=[\"accuracy\"])"
   ]
  },
  {
   "cell_type": "code",
   "execution_count": 29,
   "metadata": {},
   "outputs": [
    {
     "name": "stdout",
     "output_type": "stream",
     "text": [
      "Epoch 1/25\n",
      "1719/1719 [==============================] - 2s 1ms/step - loss: 0.4910 - accuracy: 0.8289 - val_loss: 0.4135 - val_accuracy: 0.8626\n",
      "Epoch 2/25\n",
      "1719/1719 [==============================] - 2s 1ms/step - loss: 0.3810 - accuracy: 0.8647 - val_loss: 0.3789 - val_accuracy: 0.8674\n",
      "Epoch 3/25\n",
      "1719/1719 [==============================] - 2s 1ms/step - loss: 0.3479 - accuracy: 0.8766 - val_loss: 0.3614 - val_accuracy: 0.8732\n",
      "Epoch 4/25\n",
      "1719/1719 [==============================] - 2s 1ms/step - loss: 0.3258 - accuracy: 0.8851 - val_loss: 0.3508 - val_accuracy: 0.8792\n",
      "Epoch 5/25\n",
      "1719/1719 [==============================] - 2s 1ms/step - loss: 0.3092 - accuracy: 0.8902 - val_loss: 0.3577 - val_accuracy: 0.8702\n",
      "Epoch 6/25\n",
      "1719/1719 [==============================] - 2s 1ms/step - loss: 0.2964 - accuracy: 0.8947 - val_loss: 0.3389 - val_accuracy: 0.8810\n",
      "Epoch 7/25\n",
      "1719/1719 [==============================] - 2s 1ms/step - loss: 0.2859 - accuracy: 0.8989 - val_loss: 0.3432 - val_accuracy: 0.8820\n",
      "Epoch 8/25\n",
      "1719/1719 [==============================] - 2s 1ms/step - loss: 0.2767 - accuracy: 0.9019 - val_loss: 0.3329 - val_accuracy: 0.8816\n",
      "Epoch 9/25\n",
      "1719/1719 [==============================] - 2s 1ms/step - loss: 0.2690 - accuracy: 0.9043 - val_loss: 0.3305 - val_accuracy: 0.8848\n",
      "Epoch 10/25\n",
      "1719/1719 [==============================] - 2s 1ms/step - loss: 0.2624 - accuracy: 0.9065 - val_loss: 0.3317 - val_accuracy: 0.8842\n",
      "Epoch 11/25\n",
      "1719/1719 [==============================] - 2s 1ms/step - loss: 0.2558 - accuracy: 0.9090 - val_loss: 0.3271 - val_accuracy: 0.8840\n",
      "Epoch 12/25\n",
      "1719/1719 [==============================] - 2s 1ms/step - loss: 0.2504 - accuracy: 0.9115 - val_loss: 0.3252 - val_accuracy: 0.8866\n",
      "Epoch 13/25\n",
      "1719/1719 [==============================] - 2s 1ms/step - loss: 0.2451 - accuracy: 0.9136 - val_loss: 0.3236 - val_accuracy: 0.8876\n",
      "Epoch 14/25\n",
      "1719/1719 [==============================] - 2s 1ms/step - loss: 0.2403 - accuracy: 0.9150 - val_loss: 0.3254 - val_accuracy: 0.8866\n",
      "Epoch 15/25\n",
      "1719/1719 [==============================] - 2s 1ms/step - loss: 0.2362 - accuracy: 0.9171 - val_loss: 0.3213 - val_accuracy: 0.8880\n",
      "Epoch 16/25\n",
      "1719/1719 [==============================] - 2s 1ms/step - loss: 0.2322 - accuracy: 0.9186 - val_loss: 0.3215 - val_accuracy: 0.8868\n",
      "Epoch 17/25\n",
      "1719/1719 [==============================] - 2s 1ms/step - loss: 0.2283 - accuracy: 0.9199 - val_loss: 0.3209 - val_accuracy: 0.8870\n",
      "Epoch 18/25\n",
      "1719/1719 [==============================] - 2s 1ms/step - loss: 0.2249 - accuracy: 0.9208 - val_loss: 0.3258 - val_accuracy: 0.8842\n",
      "Epoch 19/25\n",
      "1719/1719 [==============================] - 2s 1ms/step - loss: 0.2215 - accuracy: 0.9220 - val_loss: 0.3221 - val_accuracy: 0.8858\n",
      "Epoch 20/25\n",
      "1719/1719 [==============================] - 2s 1ms/step - loss: 0.2185 - accuracy: 0.9231 - val_loss: 0.3213 - val_accuracy: 0.8866\n",
      "Epoch 21/25\n",
      "1719/1719 [==============================] - 2s 1ms/step - loss: 0.2154 - accuracy: 0.9245 - val_loss: 0.3199 - val_accuracy: 0.8850\n",
      "Epoch 22/25\n",
      "1719/1719 [==============================] - 2s 1ms/step - loss: 0.2130 - accuracy: 0.9251 - val_loss: 0.3230 - val_accuracy: 0.8850\n",
      "Epoch 23/25\n",
      "1719/1719 [==============================] - 2s 1ms/step - loss: 0.2099 - accuracy: 0.9261 - val_loss: 0.3207 - val_accuracy: 0.8854\n",
      "Epoch 24/25\n",
      "1719/1719 [==============================] - 2s 1ms/step - loss: 0.2072 - accuracy: 0.9277 - val_loss: 0.3186 - val_accuracy: 0.8892\n",
      "Epoch 25/25\n",
      "1719/1719 [==============================] - 2s 1ms/step - loss: 0.2052 - accuracy: 0.9288 - val_loss: 0.3219 - val_accuracy: 0.8860\n"
     ]
    }
   ],
   "source": [
    "n_epochs = 25\n",
    "history = model.fit(X_train_scaled, y_train, epochs=n_epochs,\n",
    "                    validation_data=(X_valid_scaled, y_valid))"
   ]
  },
  {
   "cell_type": "code",
   "execution_count": 32,
   "metadata": {},
   "outputs": [
    {
     "data": {
      "image/png": "[encoded data removed]",
      "text/plain": [
       "<Figure size 432x288 with 1 Axes>"
      ]
     },
     "metadata": {
      "needs_background": "light"
     },
     "output_type": "display_data"
    }
   ],
   "source": [
    "learning_rate = 0.01\n",
    "decay = 1e-4\n",
    "batch_size = 32\n",
    "n_steps_per_epoch = len(X_train) // batch_size\n",
    "epochs = np.arange(n_epochs)\n",
    "lrs = learning_rate / (1 + decay * epochs * n_steps_per_epoch)\n",
    "\n",
    "plt.plot(epochs, lrs,  \"o-\")\n",
    "plt.axis([0, n_epochs - 1, 0, 0.01])\n",
    "plt.xlabel(\"Epoch\")\n",
    "plt.ylabel(\"Learning Rate\")\n",
    "plt.title(\"Power Scheduling\", fontsize=14)\n",
    "plt.grid(True)\n",
    "plt.show()"
   ]
  },
  {
   "cell_type": "code",
   "execution_count": 33,
   "metadata": {},
   "outputs": [],
   "source": [
    "## Exponential Scheduling\n",
    "def exponential_decay(lr0, s):\n",
    "    def exponential_decay_fn(epoch):\n",
    "        return lr0 * 0.1**(epoch / s)\n",
    "    return exponential_decay_fn\n",
    "\n",
    "exponential_decay_fn = exponential_decay(lr0=0.01, s=20)"
   ]
  },
  {
   "cell_type": "code",
   "execution_count": 34,
   "metadata": {},
   "outputs": [
    {
     "name": "stdout",
     "output_type": "stream",
     "text": [
      "Epoch 1/25\n",
      "1719/1719 [==============================] - 4s 3ms/step - loss: 0.8295 - accuracy: 0.7602 - val_loss: 0.7660 - val_accuracy: 0.7976\n",
      "Epoch 2/25\n",
      "1719/1719 [==============================] - 4s 2ms/step - loss: 0.6672 - accuracy: 0.7981 - val_loss: 0.7441 - val_accuracy: 0.7976\n",
      "Epoch 3/25\n",
      "1719/1719 [==============================] - 4s 2ms/step - loss: 0.5934 - accuracy: 0.8173 - val_loss: 0.7156 - val_accuracy: 0.7826\n",
      "Epoch 4/25\n",
      "1719/1719 [==============================] - 4s 2ms/step - loss: 0.5269 - accuracy: 0.8380 - val_loss: 0.7140 - val_accuracy: 0.8080\n",
      "Epoch 5/25\n",
      "1719/1719 [==============================] - 4s 2ms/step - loss: 0.5063 - accuracy: 0.8409 - val_loss: 0.6247 - val_accuracy: 0.8298\n",
      "Epoch 6/25\n",
      "1719/1719 [==============================] - 4s 3ms/step - loss: 0.4468 - accuracy: 0.8561 - val_loss: 0.5791 - val_accuracy: 0.8246\n",
      "Epoch 7/25\n",
      "1719/1719 [==============================] - 4s 3ms/step - loss: 0.4211 - accuracy: 0.8633 - val_loss: 0.4660 - val_accuracy: 0.8566\n",
      "Epoch 8/25\n",
      "1719/1719 [==============================] - 4s 2ms/step - loss: 0.3790 - accuracy: 0.8761 - val_loss: 0.4765 - val_accuracy: 0.8616\n",
      "Epoch 9/25\n",
      "1719/1719 [==============================] - 4s 2ms/step - loss: 0.3620 - accuracy: 0.8802 - val_loss: 0.5108 - val_accuracy: 0.8540\n",
      "Epoch 10/25\n",
      "1719/1719 [==============================] - 4s 2ms/step - loss: 0.3362 - accuracy: 0.8881 - val_loss: 0.4643 - val_accuracy: 0.8660\n",
      "Epoch 11/25\n",
      "1719/1719 [==============================] - 4s 2ms/step - loss: 0.3102 - accuracy: 0.8933 - val_loss: 0.5241 - val_accuracy: 0.8594\n",
      "Epoch 12/25\n",
      "1719/1719 [==============================] - 4s 2ms/step - loss: 0.2893 - accuracy: 0.8992 - val_loss: 0.4695 - val_accuracy: 0.8690\n",
      "Epoch 13/25\n",
      "1719/1719 [==============================] - 4s 2ms/step - loss: 0.2767 - accuracy: 0.9045 - val_loss: 0.4659 - val_accuracy: 0.8762\n",
      "Epoch 14/25\n",
      "1719/1719 [==============================] - 4s 3ms/step - loss: 0.2542 - accuracy: 0.9093 - val_loss: 0.4357 - val_accuracy: 0.8820\n",
      "Epoch 15/25\n",
      "1719/1719 [==============================] - 4s 2ms/step - loss: 0.2386 - accuracy: 0.9150 - val_loss: 0.4391 - val_accuracy: 0.8792\n",
      "Epoch 16/25\n",
      "1719/1719 [==============================] - 4s 2ms/step - loss: 0.2255 - accuracy: 0.9182 - val_loss: 0.4622 - val_accuracy: 0.8792\n",
      "Epoch 17/25\n",
      "1719/1719 [==============================] - 4s 2ms/step - loss: 0.2074 - accuracy: 0.9248 - val_loss: 0.4323 - val_accuracy: 0.8840\n",
      "Epoch 18/25\n",
      "1719/1719 [==============================] - 4s 2ms/step - loss: 0.1964 - accuracy: 0.9278 - val_loss: 0.4909 - val_accuracy: 0.8752\n",
      "Epoch 19/25\n",
      "1719/1719 [==============================] - 4s 2ms/step - loss: 0.1828 - accuracy: 0.9318 - val_loss: 0.5291 - val_accuracy: 0.8800\n",
      "Epoch 20/25\n",
      "1719/1719 [==============================] - 4s 2ms/step - loss: 0.1726 - accuracy: 0.9369 - val_loss: 0.4970 - val_accuracy: 0.8824\n",
      "Epoch 21/25\n",
      "1719/1719 [==============================] - 4s 2ms/step - loss: 0.1647 - accuracy: 0.9390 - val_loss: 0.5245 - val_accuracy: 0.8814\n",
      "Epoch 22/25\n",
      "1719/1719 [==============================] - 4s 2ms/step - loss: 0.1550 - accuracy: 0.9435 - val_loss: 0.5119 - val_accuracy: 0.8822\n",
      "Epoch 23/25\n",
      "1719/1719 [==============================] - 4s 2ms/step - loss: 0.1451 - accuracy: 0.9476 - val_loss: 0.5290 - val_accuracy: 0.8872\n",
      "Epoch 24/25\n",
      "1719/1719 [==============================] - 4s 2ms/step - loss: 0.1365 - accuracy: 0.9501 - val_loss: 0.5481 - val_accuracy: 0.8886\n",
      "Epoch 25/25\n",
      "1719/1719 [==============================] - 4s 2ms/step - loss: 0.1296 - accuracy: 0.9541 - val_loss: 0.5882 - val_accuracy: 0.8884\n"
     ]
    }
   ],
   "source": [
    "model = keras.models.Sequential([\n",
    "    keras.layers.Flatten(input_shape=[28, 28]),\n",
    "    keras.layers.Dense(300, activation=\"selu\", kernel_initializer=\"lecun_normal\"),\n",
    "    keras.layers.Dense(100, activation=\"selu\", kernel_initializer=\"lecun_normal\"),\n",
    "    keras.layers.Dense(10, activation=\"softmax\")\n",
    "])\n",
    "\n",
    "model.compile(loss=\"sparse_categorical_crossentropy\", optimizer=\"nadam\", metrics=[\"accuracy\"])\n",
    "\n",
    "lr_scheduler = keras.callbacks.LearningRateScheduler(exponential_decay_fn)\n",
    "\n",
    "history = model.fit(X_train_scaled, y_train, epochs=n_epochs,\n",
    "                    validation_data=(X_valid_scaled, y_valid),\n",
    "                    callbacks=[lr_scheduler])"
   ]
  },
  {
   "cell_type": "code",
   "execution_count": 35,
   "metadata": {},
   "outputs": [
    {
     "data": {
      "image/png": "[encoded data removed]",
      "text/plain": [
       "<Figure size 432x288 with 1 Axes>"
      ]
     },
     "metadata": {
      "needs_background": "light"
     },
     "output_type": "display_data"
    }
   ],
   "source": [
    "plt.plot(history.epoch, history.history[\"lr\"], \"o-\")\n",
    "plt.axis([0, n_epochs - 1, 0, 0.011])\n",
    "plt.xlabel(\"Epoch\")\n",
    "plt.ylabel(\"Learning Rate\")\n",
    "plt.title(\"Exponential Scheduling\", fontsize=14)\n",
    "plt.grid(True)\n",
    "plt.show()"
   ]
  },
  {
   "cell_type": "code",
   "execution_count": 36,
   "metadata": {},
   "outputs": [],
   "source": [
    "## Piecewise constant scheduling\n",
    "def piecewise_constant(boundaries, values):\n",
    "    boundaries = np.array([0] + boundaries)\n",
    "    values = np.array(values)\n",
    "    def piecewise_constant_fn(epoch):\n",
    "        return values[np.argmax(boundaries > epoch) - 1]\n",
    "    return piecewise_constant_fn\n",
    "\n",
    "piecewise_constant_fn = piecewise_constant([5, 15], [0.01, 0.005, 0.001])"
   ]
  },
  {
   "cell_type": "code",
   "execution_count": 37,
   "metadata": {},
   "outputs": [
    {
     "name": "stdout",
     "output_type": "stream",
     "text": [
      "Epoch 1/25\n",
      "1719/1719 [==============================] - 4s 3ms/step - loss: 0.9139 - accuracy: 0.7435 - val_loss: 0.9956 - val_accuracy: 0.6576\n",
      "Epoch 2/25\n",
      "1719/1719 [==============================] - 4s 2ms/step - loss: 0.9046 - accuracy: 0.7290 - val_loss: 0.9662 - val_accuracy: 0.7184\n",
      "Epoch 3/25\n",
      "1719/1719 [==============================] - 4s 2ms/step - loss: 0.9898 - accuracy: 0.6946 - val_loss: 0.7441 - val_accuracy: 0.7690\n",
      "Epoch 4/25\n",
      "1719/1719 [==============================] - 4s 2ms/step - loss: 0.9004 - accuracy: 0.7171 - val_loss: 1.0430 - val_accuracy: 0.5872\n",
      "Epoch 5/25\n",
      "1719/1719 [==============================] - 4s 2ms/step - loss: 1.0519 - accuracy: 0.6448 - val_loss: 0.9499 - val_accuracy: 0.7070\n",
      "Epoch 6/25\n",
      "1719/1719 [==============================] - 4s 2ms/step - loss: 0.6929 - accuracy: 0.7753 - val_loss: 0.6733 - val_accuracy: 0.8114\n",
      "Epoch 7/25\n",
      "1719/1719 [==============================] - 4s 2ms/step - loss: 0.5903 - accuracy: 0.8015 - val_loss: 0.7792 - val_accuracy: 0.7792\n",
      "Epoch 8/25\n",
      "1719/1719 [==============================] - 4s 2ms/step - loss: 0.5679 - accuracy: 0.8171 - val_loss: 0.5871 - val_accuracy: 0.7708\n",
      "Epoch 9/25\n",
      "1719/1719 [==============================] - 4s 2ms/step - loss: 0.5568 - accuracy: 0.8230 - val_loss: 0.7414 - val_accuracy: 0.8180\n",
      "Epoch 10/25\n",
      "1719/1719 [==============================] - 4s 2ms/step - loss: 0.5723 - accuracy: 0.8250 - val_loss: 0.6358 - val_accuracy: 0.8294\n",
      "Epoch 11/25\n",
      "1719/1719 [==============================] - 4s 2ms/step - loss: 0.5044 - accuracy: 0.8438 - val_loss: 0.6550 - val_accuracy: 0.8362\n",
      "Epoch 12/25\n",
      "1719/1719 [==============================] - 4s 2ms/step - loss: 0.5097 - accuracy: 0.8478 - val_loss: 0.6355 - val_accuracy: 0.8284\n",
      "Epoch 13/25\n",
      "1719/1719 [==============================] - 4s 3ms/step - loss: 0.5100 - accuracy: 0.8491 - val_loss: 0.6437 - val_accuracy: 0.8298\n",
      "Epoch 14/25\n",
      "1719/1719 [==============================] - 4s 2ms/step - loss: 0.4789 - accuracy: 0.8553 - val_loss: 0.6515 - val_accuracy: 0.8264\n",
      "Epoch 15/25\n",
      "1719/1719 [==============================] - 4s 3ms/step - loss: 0.4969 - accuracy: 0.8476 - val_loss: 0.6005 - val_accuracy: 0.8532\n",
      "Epoch 16/25\n",
      "1719/1719 [==============================] - 4s 2ms/step - loss: 0.3450 - accuracy: 0.8878 - val_loss: 0.4860 - val_accuracy: 0.8676\n",
      "Epoch 17/25\n",
      "1719/1719 [==============================] - 4s 2ms/step - loss: 0.3261 - accuracy: 0.8922 - val_loss: 0.4753 - val_accuracy: 0.8686\n",
      "Epoch 18/25\n",
      "1719/1719 [==============================] - 4s 2ms/step - loss: 0.3176 - accuracy: 0.8957 - val_loss: 0.5088 - val_accuracy: 0.8624\n",
      "Epoch 19/25\n",
      "1719/1719 [==============================] - 4s 3ms/step - loss: 0.3048 - accuracy: 0.9003 - val_loss: 0.5246 - val_accuracy: 0.8696\n",
      "Epoch 20/25\n",
      "1719/1719 [==============================] - 4s 3ms/step - loss: 0.2948 - accuracy: 0.9039 - val_loss: 0.5197 - val_accuracy: 0.8704\n",
      "Epoch 21/25\n",
      "1719/1719 [==============================] - 4s 3ms/step - loss: 0.2876 - accuracy: 0.9063 - val_loss: 0.5128 - val_accuracy: 0.8740\n",
      "Epoch 22/25\n",
      "1719/1719 [==============================] - 4s 3ms/step - loss: 0.2796 - accuracy: 0.9082 - val_loss: 0.5258 - val_accuracy: 0.8710\n",
      "Epoch 23/25\n",
      "1719/1719 [==============================] - 4s 3ms/step - loss: 0.2754 - accuracy: 0.9117 - val_loss: 0.5447 - val_accuracy: 0.8726\n",
      "Epoch 24/25\n",
      "1719/1719 [==============================] - 4s 3ms/step - loss: 0.2716 - accuracy: 0.9129 - val_loss: 0.5506 - val_accuracy: 0.8746\n",
      "Epoch 25/25\n",
      "1719/1719 [==============================] - 4s 3ms/step - loss: 0.2607 - accuracy: 0.9153 - val_loss: 0.5680 - val_accuracy: 0.8720\n"
     ]
    }
   ],
   "source": [
    "lr_scheduler = keras.callbacks.LearningRateScheduler(piecewise_constant_fn)\n",
    "\n",
    "model = keras.models.Sequential([\n",
    "    keras.layers.Flatten(input_shape=[28, 28]),\n",
    "    keras.layers.Dense(300, activation=\"selu\", kernel_initializer=\"lecun_normal\"),\n",
    "    keras.layers.Dense(100, activation=\"selu\", kernel_initializer=\"lecun_normal\"),\n",
    "    keras.layers.Dense(10, activation=\"softmax\")\n",
    "])\n",
    "model.compile(loss=\"sparse_categorical_crossentropy\", optimizer=\"nadam\", metrics=[\"accuracy\"])\n",
    "n_epochs = 25\n",
    "history = model.fit(X_train_scaled, y_train, epochs=n_epochs,\n",
    "                    validation_data=(X_valid_scaled, y_valid),\n",
    "                    callbacks=[lr_scheduler])"
   ]
  },
  {
   "cell_type": "code",
   "execution_count": 38,
   "metadata": {},
   "outputs": [
    {
     "data": {
      "image/png": "[encoded data removed]",
      "text/plain": [
       "<Figure size 432x288 with 1 Axes>"
      ]
     },
     "metadata": {
      "needs_background": "light"
     },
     "output_type": "display_data"
    }
   ],
   "source": [
    "plt.plot(history.epoch, [piecewise_constant_fn(epoch) for epoch in history.epoch], \"o-\")\n",
    "plt.axis([0, n_epochs - 1, 0, 0.011])\n",
    "plt.xlabel(\"Epoch\")\n",
    "plt.ylabel(\"Learning Rate\")\n",
    "plt.title(\"Piecewise Constant Scheduling\", fontsize=14)\n",
    "plt.grid(True)\n",
    "plt.show()"
   ]
  },
  {
   "cell_type": "code",
   "execution_count": 40,
   "metadata": {},
   "outputs": [
    {
     "name": "stdout",
     "output_type": "stream",
     "text": [
      "Epoch 1/25\n",
      "1719/1719 [==============================] - 3s 1ms/step - loss: 0.5900 - accuracy: 0.8068 - val_loss: 0.4719 - val_accuracy: 0.8506\n",
      "Epoch 2/25\n",
      "1719/1719 [==============================] - 2s 1ms/step - loss: 0.4897 - accuracy: 0.8415 - val_loss: 0.6139 - val_accuracy: 0.8268\n",
      "Epoch 3/25\n",
      "1719/1719 [==============================] - 2s 1ms/step - loss: 0.5159 - accuracy: 0.8403 - val_loss: 0.5231 - val_accuracy: 0.8482\n",
      "Epoch 4/25\n",
      "1719/1719 [==============================] - 2s 1ms/step - loss: 0.5217 - accuracy: 0.8467 - val_loss: 0.4573 - val_accuracy: 0.8538\n",
      "Epoch 5/25\n",
      "1719/1719 [==============================] - 2s 1ms/step - loss: 0.5321 - accuracy: 0.8478 - val_loss: 0.4612 - val_accuracy: 0.8562\n",
      "Epoch 6/25\n",
      "1719/1719 [==============================] - 2s 1ms/step - loss: 0.4952 - accuracy: 0.8553 - val_loss: 0.5051 - val_accuracy: 0.8456\n",
      "Epoch 7/25\n",
      "1719/1719 [==============================] - 2s 1ms/step - loss: 0.4987 - accuracy: 0.8570 - val_loss: 0.5012 - val_accuracy: 0.8610\n",
      "Epoch 8/25\n",
      "1719/1719 [==============================] - 2s 1ms/step - loss: 0.5095 - accuracy: 0.8573 - val_loss: 0.6029 - val_accuracy: 0.8290\n",
      "Epoch 9/25\n",
      "1719/1719 [==============================] - 2s 1ms/step - loss: 0.4786 - accuracy: 0.8629 - val_loss: 0.5068 - val_accuracy: 0.8670\n",
      "Epoch 10/25\n",
      "1719/1719 [==============================] - 2s 1ms/step - loss: 0.2841 - accuracy: 0.9014 - val_loss: 0.4215 - val_accuracy: 0.8824\n",
      "Epoch 11/25\n",
      "1719/1719 [==============================] - 2s 1ms/step - loss: 0.2406 - accuracy: 0.9114 - val_loss: 0.4426 - val_accuracy: 0.8816\n",
      "Epoch 12/25\n",
      "1719/1719 [==============================] - 2s 1ms/step - loss: 0.2236 - accuracy: 0.9182 - val_loss: 0.4655 - val_accuracy: 0.8792\n",
      "Epoch 13/25\n",
      "1719/1719 [==============================] - 2s 1ms/step - loss: 0.2053 - accuracy: 0.9243 - val_loss: 0.4499 - val_accuracy: 0.8836\n",
      "Epoch 14/25\n",
      "1719/1719 [==============================] - 2s 1ms/step - loss: 0.1954 - accuracy: 0.9265 - val_loss: 0.4609 - val_accuracy: 0.8816\n",
      "Epoch 15/25\n",
      "1719/1719 [==============================] - 2s 1ms/step - loss: 0.1814 - accuracy: 0.9316 - val_loss: 0.4581 - val_accuracy: 0.8820\n",
      "Epoch 16/25\n",
      "1719/1719 [==============================] - 3s 1ms/step - loss: 0.1293 - accuracy: 0.9494 - val_loss: 0.4363 - val_accuracy: 0.8970\n",
      "Epoch 17/25\n",
      "1719/1719 [==============================] - 2s 1ms/step - loss: 0.1164 - accuracy: 0.9545 - val_loss: 0.4604 - val_accuracy: 0.8944\n",
      "Epoch 18/25\n",
      "1719/1719 [==============================] - 2s 1ms/step - loss: 0.1083 - accuracy: 0.9579 - val_loss: 0.4803 - val_accuracy: 0.8886\n",
      "Epoch 19/25\n",
      "1719/1719 [==============================] - 2s 1ms/step - loss: 0.1016 - accuracy: 0.9600 - val_loss: 0.5021 - val_accuracy: 0.8948\n",
      "Epoch 20/25\n",
      "1719/1719 [==============================] - 2s 1ms/step - loss: 0.0947 - accuracy: 0.9629 - val_loss: 0.5158 - val_accuracy: 0.8946\n",
      "Epoch 21/25\n",
      "1719/1719 [==============================] - 2s 1ms/step - loss: 0.0762 - accuracy: 0.9715 - val_loss: 0.5115 - val_accuracy: 0.8960\n",
      "Epoch 22/25\n",
      "1719/1719 [==============================] - 2s 1ms/step - loss: 0.0711 - accuracy: 0.9732 - val_loss: 0.5313 - val_accuracy: 0.8982\n",
      "Epoch 23/25\n",
      "1719/1719 [==============================] - 2s 1ms/step - loss: 0.0668 - accuracy: 0.9752 - val_loss: 0.5358 - val_accuracy: 0.8996\n",
      "Epoch 24/25\n",
      "1719/1719 [==============================] - 2s 1ms/step - loss: 0.0644 - accuracy: 0.9759 - val_loss: 0.5494 - val_accuracy: 0.8968\n",
      "Epoch 25/25\n",
      "1719/1719 [==============================] - 2s 1ms/step - loss: 0.0608 - accuracy: 0.9775 - val_loss: 0.5631 - val_accuracy: 0.8968\n"
     ]
    }
   ],
   "source": [
    "## Performance Scaling\n",
    "tf.random.set_seed(42)\n",
    "np.random.seed(42)\n",
    "lr_scheduler = keras.callbacks.ReduceLROnPlateau(factor=0.5, patience=5)\n",
    "\n",
    "model = keras.models.Sequential([\n",
    "    keras.layers.Flatten(input_shape=[28, 28]),\n",
    "    keras.layers.Dense(300, activation=\"selu\", kernel_initializer=\"lecun_normal\"),\n",
    "    keras.layers.Dense(100, activation=\"selu\", kernel_initializer=\"lecun_normal\"),\n",
    "    keras.layers.Dense(10, activation=\"softmax\")\n",
    "])\n",
    "optimizer = keras.optimizers.SGD(lr=0.02, momentum=0.9)\n",
    "model.compile(loss=\"sparse_categorical_crossentropy\", optimizer=optimizer, metrics=[\"accuracy\"])\n",
    "history = model.fit(X_train_scaled, y_train, epochs=n_epochs,\n",
    "                    validation_data=(X_valid_scaled, y_valid),\n",
    "                    callbacks=[lr_scheduler])"
   ]
  },
  {
   "cell_type": "code",
   "execution_count": null,
   "metadata": {},
   "outputs": [],
   "source": [
    "plt.plot(history.epoch, history.history[\"lr\"], \"bo-\")\n",
    "plt.xlabel(\"Epoch\")\n",
    "plt.ylabel(\"Learning Rate\", color='b')\n",
    "plt.tick_params('y', colors='b')\n",
    "plt.gca().set_xlim(0, n_epochs - 1)\n",
    "plt.grid(True)\n",
    "\n",
    "ax2 = plt.gca().twinx()\n",
    "ax2.plot(history.epoch, history.history[\"val_loss\"], \"r^-\")\n",
    "ax2.set_ylabel('Validation Loss', color='r')\n",
    "ax2.tick_params('y', colors='r')\n",
    "\n",
    "plt.title(\"Reduce LR on Plateau\", fontsize=14)\n",
    "plt.show()"
   ]
  },
  {
   "cell_type": "markdown",
   "metadata": {},
   "source": [
    "## Regularization in DNN\n",
    "\n",
    "### $l_1$ and $l_2$ Regularization\n",
    "Come per altri modelli posso vincolare i pesi delle connessioni tra layer utilizzando delle penalizzazioni basate su norme $l_1$ o $l_2$. In Keras introducono tale regolarizzazione mediante il parametro **kernel_regularizer**."
   ]
  },
  {
   "cell_type": "code",
   "execution_count": 42,
   "metadata": {},
   "outputs": [
    {
     "name": "stdout",
     "output_type": "stream",
     "text": [
      "Epoch 1/2\n",
      "1719/1719 [==============================] - 5s 3ms/step - loss: 1.5956 - accuracy: 0.8124 - val_loss: 0.7169 - val_accuracy: 0.8340\n",
      "Epoch 2/2\n",
      "1719/1719 [==============================] - 5s 3ms/step - loss: 0.7197 - accuracy: 0.8274 - val_loss: 0.6850 - val_accuracy: 0.8376\n"
     ]
    }
   ],
   "source": [
    "model = keras.models.Sequential([    \n",
    "    keras.layers.Flatten(input_shape=[28, 28]),\n",
    "    keras.layers.Dense(300, activation=\"elu\",\n",
    "                       kernel_initializer=\"he_normal\",\n",
    "                       kernel_regularizer=keras.regularizers.l2(0.01)),\n",
    "    keras.layers.Dense(100, activation=\"elu\",\n",
    "                       kernel_initializer=\"he_normal\",\n",
    "                       kernel_regularizer=keras.regularizers.l2(0.01)),\n",
    "    keras.layers.Dense(10, activation=\"softmax\",\n",
    "                       kernel_regularizer=keras.regularizers.l2(0.01))\n",
    "])\n",
    "model.compile(loss=\"sparse_categorical_crossentropy\", optimizer=\"nadam\", metrics=[\"accuracy\"])\n",
    "n_epochs = 2\n",
    "history = model.fit(X_train_scaled, y_train, epochs=n_epochs,\n",
    "                    validation_data=(X_valid_scaled, y_valid))"
   ]
  },
  {
   "cell_type": "markdown",
   "metadata": {},
   "source": [
    "### Dropout\n",
    "Dropout e' un metodo di regolarizzazione che si e' dimostrato molto efficace. Ad ogni training step, ogni neurone ha una probabilita' $p$ di essere disattivato, cioe' viene ignorato durante lo step di training. Il parametro $p$ e' detto **dropout rate** ed e' settato tra $0.1$ e $0.5$ nelle feedforward, tra $0.2$ e $0.3$ nelle RNN e tra $0.4$ e $0.5$ nelle CNN.\n",
    "\n",
    "![](dnn_16.png)\n",
    "\n",
    "Dropout genera una sorta di ensemble di reti non indipendenti.\n",
    "\n",
    "Nel testing si deve moltiplicare ogni peso di input per la **keep probability** $1-p$.\n",
    "\n",
    "In Keras, Dropout viene implementato dal layer **Dropout**:"
   ]
  },
  {
   "cell_type": "code",
   "execution_count": null,
   "metadata": {},
   "outputs": [],
   "source": [
    "model = keras.models.Sequential([\n",
    "    keras.layers.Flatten(input_shape=[28, 28]),\n",
    "    keras.layers.Dropout(rate=0.2),\n",
    "    keras.layers.Dense(300, activation=\"elu\", kernel_initializer=\"he_normal\"),\n",
    "    keras.layers.Dropout(rate=0.2),\n",
    "    keras.layers.Dense(100, activation=\"elu\", kernel_initializer=\"he_normal\"),\n",
    "    keras.layers.Dropout(rate=0.2),\n",
    "    keras.layers.Dense(10, activation=\"softmax\")\n",
    "])\n",
    "model.compile(loss=\"sparse_categorical_crossentropy\", optimizer=\"nadam\", metrics=[\"accuracy\"])\n",
    "n_epochs = 2\n",
    "history = model.fit(X_train_scaled, y_train, epochs=n_epochs,\n",
    "                    validation_data=(X_valid_scaled, y_valid))"
   ]
  },
  {
   "cell_type": "markdown",
   "metadata": {},
   "source": [
    "### Max-Norm Regularization\n",
    "Per ogni neurone, si vincolano i pesi in ingresso  tale che $||w||_2\\leq r$. In questo modo non viene aggiunto un termine di regolarizzazione ma una rescaling dei pesi. Riducendo $r$ si aumenta la quantita' di regolarizzazione e riduce l'overfitting. \n",
    "\n",
    "In Keras la max-norm regularization viene inserita mediante il parametro **kernel_constraint**:"
   ]
  },
  {
   "cell_type": "code",
   "execution_count": 45,
   "metadata": {},
   "outputs": [
    {
     "name": "stdout",
     "output_type": "stream",
     "text": [
      "Epoch 1/2\n",
      "1719/1719 [==============================] - 6s 3ms/step - loss: 0.4751 - accuracy: 0.8321 - val_loss: 0.3832 - val_accuracy: 0.8660\n",
      "Epoch 2/2\n",
      "1719/1719 [==============================] - 5s 3ms/step - loss: 0.3534 - accuracy: 0.8721 - val_loss: 0.3857 - val_accuracy: 0.8632\n"
     ]
    }
   ],
   "source": [
    "MaxNormDense = partial(keras.layers.Dense,\n",
    "                       activation=\"selu\", kernel_initializer=\"lecun_normal\",\n",
    "                       kernel_constraint=keras.constraints.max_norm(1.))\n",
    "\n",
    "model = keras.models.Sequential([\n",
    "    keras.layers.Flatten(input_shape=[28, 28]),\n",
    "    MaxNormDense(300),\n",
    "    MaxNormDense(100),\n",
    "    keras.layers.Dense(10, activation=\"softmax\")\n",
    "])\n",
    "model.compile(loss=\"sparse_categorical_crossentropy\", optimizer=\"nadam\", metrics=[\"accuracy\"])\n",
    "n_epochs = 2\n",
    "history = model.fit(X_train_scaled, y_train, epochs=n_epochs,\n",
    "                    validation_data=(X_valid_scaled, y_valid))"
   ]
  },
  {
   "cell_type": "code",
   "execution_count": null,
   "metadata": {},
   "outputs": [],
   "source": []
  }
 ],
 "metadata": {
  "kernelspec": {
   "display_name": "Python 3",
   "language": "python",
   "name": "python3"
  },
  "language_info": {
   "codemirror_mode": {
    "name": "ipython",
    "version": 3
   },
   "file_extension": ".py",
   "mimetype": "text/x-python",
   "name": "python",
   "nbconvert_exporter": "python",
   "pygments_lexer": "ipython3",
   "version": "3.8.6"
  }
 },
 "nbformat": 4,
 "nbformat_minor": 4
}
