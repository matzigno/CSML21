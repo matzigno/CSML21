{
 "cells": [
  {
   "cell_type": "code",
   "execution_count": 1,
   "metadata": {},
   "outputs": [],
   "source": [
    "import tensorflow as tf\n",
    "from tensorflow import keras\n",
    "\n",
    "import numpy as np\n",
    "\n",
    "import matplotlib.pyplot as plt\n",
    "\n",
    "%matplotlib inline"
   ]
  },
  {
   "cell_type": "code",
   "execution_count": 2,
   "metadata": {},
   "outputs": [],
   "source": [
    "def plot_series(series, y=None, y_pred=None, x_label=\"$t$\", y_label=\"$x(t)$\"):\n",
    "    plt.plot(series, \".-\")\n",
    "    if y is not None:\n",
    "        plt.plot(n_steps, y, \"bx\", markersize=10)\n",
    "    if y_pred is not None:\n",
    "        plt.plot(n_steps, y_pred, \"ro\")\n",
    "    plt.grid(True)\n",
    "    if x_label:\n",
    "        plt.xlabel(x_label, fontsize=16)\n",
    "    if y_label:\n",
    "        plt.ylabel(y_label, fontsize=16, rotation=0)\n",
    "    plt.hlines(0, 0, 100, linewidth=1)\n",
    "    plt.axis([0, n_steps + 1, -1, 1])\n",
    "    \n",
    "def plot_multiple_forecasts(X, Y, Y_pred):\n",
    "    n_steps = X.shape[1]\n",
    "    ahead = Y.shape[1]\n",
    "    plot_series(X[0, :, 0])\n",
    "    plt.plot(np.arange(n_steps, n_steps + ahead), Y[0, :, 0], \"ro-\", label=\"Actual\")\n",
    "    plt.plot(np.arange(n_steps, n_steps + ahead), Y_pred[0, :, 0], \"bx-\", label=\"Forecast\", markersize=10)\n",
    "    plt.axis([0, n_steps + ahead, -1, 1])\n",
    "    plt.legend(fontsize=14)"
   ]
  },
  {
   "cell_type": "markdown",
   "metadata": {},
   "source": [
    "# Recurrent Neural Network\n",
    "RNN sono una classe di reti neuronali applicabili a sequenza o serie temporali di lunghezza arbitraria.\n",
    "\n",
    "Le reti feedforward o sequenziali viste sinora seguono un flusso la cui direzione procede dai livelli di input fino a quelli di output in maniera lineare.  Una RNN e' simile a questo tipo di reti tranne che presenta un **collegamento all'indietro**, come mostrato nella seguente figura che riporta la piu' semplice RNN.\n",
    "\n",
    "![](rnn_simple.png)\n",
    "\n",
    "Ad ogni step $t$ , la rete riceve  in input il segnale $\\mathbf{x}_t$ e l'output $\\mathbf{y}_{t-1}$ - l'output al passo precedente. \n",
    "\n",
    "Una rappresentazione equivalente alla precedente e' data dallo _srotolamento_ - **unfolding** della rete, come mostrato in figura:\n",
    "\n",
    "![](unfolding.png)\n",
    "\n",
    "in cui viene creato un layer di unita' ricorrenti o ricorsive.\n",
    "\n",
    "In questa architettura ogni unita' riceve  due insiemi distinti di input:\n",
    "- gli input dal livello di input\n",
    "- le attivazioni dallo stesso livello generate al passo $t-1$\n",
    "\n",
    "Ad ogni passo $t$ le unita' del livello hidden ricevono in input $\\mathbf{x}_t$ e $\\mathbf{h}_{t-1}$, cioe' i valori precedenti del livello hidden.\n",
    "\n",
    "![](unfolding_2.png)\n",
    "\n",
    "Ogni collegamento riportato in figura ha una matrice dei pesi associata che non dipendono dal tempo $t$. Le matrici dei pesi sono:\n",
    "- $\\mathbf{W}_{xh}$: la matrice dei pesi tra input $\\mathbf{x}_t$ e $\\mathbf{h}$\n",
    "- $\\mathbf{W}_{hh}$: la matrice associata al collegamento ricorrente\n",
    "- $\\mathbf{W}_{hy}$: la matrice tra il livello $\\mathbf{h}$ e il livello di output $\\mathbf{y}$\n",
    "\n",
    "Il calcolo dell'attivazione e' simili alle reti sequenziali:\n",
    "\n",
    "$$\\mathbf{z}_h^t = \\mathbf{W}_{hx}\\mathbf{x}_t + \\mathbf{W}_{hh}\\mathbf{h}_{t-1} + \\mathbf{b}_h$$\n",
    "\n",
    "da cui\n",
    "\n",
    "$$\\mathbf{h}_t = \\sigma_h(\\mathbf{z}_h^t)=\\sigma(\\mathbf{W}_{hx}\\mathbf{x}_t + \\mathbf{W}_{hh}\\mathbf{h}_{t-1} + \\mathbf{b}_h) $$\n",
    "\n",
    "riscrivibile come \n",
    "\n",
    "$$\\mathbf{h}_t = \\sigma_h([\\mathbf{W}_{xh};\\mathbf{W}_{hh}][\\mathbf{x}_t^T;\\mathbf{h}_{t-1}^T]^T + \\mathbf{b}_h)$$\n",
    "\n",
    "<br>\n",
    "\n",
    "![](comp_schema.png)\n",
    "\n",
    "Dal momento che l'output di un'unita' al tempo $t$ e' funzione dell'input dei passi precedenti, possiamo dire che esiste una sorta di _memoria_. Un layer con la precedente struttura e' infatti detto $memory cell$. In generale una generica cella di memoria e' una funzione $f(\\mathbf{h}_{t-1},\\mathbf{x}_t)$.\n",
    "\n",
    "### Sequenze di input e output\n",
    "![](rnn_inout.png)"
   ]
  },
  {
   "cell_type": "markdown",
   "metadata": {},
   "source": [
    "## Training RNNs\n",
    "Per addestrare una RNN si sfrutta la rappresentazione estesa della rete nel tempo e si applica backpropagation: **backpropagation through time**\n",
    "\n",
    "![](bptt.png)"
   ]
  },
  {
   "cell_type": "markdown",
   "metadata": {},
   "source": [
    "### Time series\n",
    "Un problema a cui applicare RNN e' il forecasting di serie temporali univariate o multivariate."
   ]
  },
  {
   "cell_type": "code",
   "execution_count": 3,
   "metadata": {},
   "outputs": [],
   "source": [
    "def generate_time_series(batch_size, n_steps):\n",
    "    freq1, freq2, offsets1, offsets2 = np.random.rand(4, batch_size, 1)\n",
    "    time = np.linspace(0, 1, n_steps)\n",
    "    series = 0.5 * np.sin((time - offsets1) * (freq1 * 10 + 10))  #   wave 1\n",
    "    series += 0.2 * np.sin((time - offsets2) * (freq2 * 20 + 20)) # + wave 2\n",
    "    series += 0.1 * (np.random.rand(batch_size, n_steps) - 0.5)   # + noise\n",
    "    return series[..., np.newaxis].astype(np.float32)"
   ]
  },
  {
   "cell_type": "code",
   "execution_count": 6,
   "metadata": {},
   "outputs": [],
   "source": [
    "n_steps = 50\n",
    "series = generate_time_series(10000, n_steps + 1)"
   ]
  },
  {
   "cell_type": "code",
   "execution_count": 8,
   "metadata": {},
   "outputs": [
    {
     "data": {
      "text/plain": [
       "(10000, 51, 1)"
      ]
     },
     "execution_count": 8,
     "metadata": {},
     "output_type": "execute_result"
    }
   ],
   "source": [
    "series.shape"
   ]
  },
  {
   "cell_type": "markdown",
   "metadata": {},
   "source": [
    "Definiamo training, validation e test set:"
   ]
  },
  {
   "cell_type": "code",
   "execution_count": 10,
   "metadata": {},
   "outputs": [],
   "source": [
    "np.random.seed(42)\n",
    "X_train, y_train = series[:7000, :n_steps], series[:7000, -1]\n",
    "X_valid, y_valid = series[7000:9000, :n_steps], series[7000:9000, -1]\n",
    "X_test, y_test = series[9000:, :n_steps], series[9000:, -1]"
   ]
  },
  {
   "cell_type": "code",
   "execution_count": 11,
   "metadata": {},
   "outputs": [
    {
     "data": {
      "image/png": "[encoded data removed]",
      "text/plain": [
       "<Figure size 864x288 with 3 Axes>"
      ]
     },
     "metadata": {
      "needs_background": "light"
     },
     "output_type": "display_data"
    }
   ],
   "source": [
    "fig, axes = plt.subplots(nrows=1, ncols=3, sharey=True, figsize=(12, 4))\n",
    "for col in range(3):\n",
    "    plt.sca(axes[col])\n",
    "    plot_series(X_valid[col, :, 0], y_valid[col, 0],\n",
    "                y_label=(\"$x(t)$\" if col==0 else None))"
   ]
  },
  {
   "cell_type": "markdown",
   "metadata": {},
   "source": [
    "E' utile, come fatto per il perceptron, definire alcuni modelli baseline per confrontare le performance ottenute.\n",
    "\n",
    "Il primo modello restituisce il valore della serie al tempo $t-1$."
   ]
  },
  {
   "cell_type": "code",
   "execution_count": 12,
   "metadata": {},
   "outputs": [
    {
     "data": {
      "text/plain": [
       "0.020709343"
      ]
     },
     "execution_count": 12,
     "metadata": {},
     "output_type": "execute_result"
    }
   ],
   "source": [
    "y_pred = X_valid[:, -1]\n",
    "np.mean(keras.losses.mean_squared_error(y_valid, y_pred))"
   ]
  },
  {
   "cell_type": "code",
   "execution_count": 13,
   "metadata": {},
   "outputs": [
    {
     "data": {
      "image/png": "[encoded data removed]",
      "text/plain": [
       "<Figure size 432x288 with 1 Axes>"
      ]
     },
     "metadata": {
      "needs_background": "light"
     },
     "output_type": "display_data"
    }
   ],
   "source": [
    "plot_series(X_valid[0, :, 0], y_valid[0, 0], y_pred[0, 0])"
   ]
  },
  {
   "cell_type": "markdown",
   "metadata": {},
   "source": [
    "Il secondo modello e' una rete fully connected."
   ]
  },
  {
   "cell_type": "code",
   "execution_count": 14,
   "metadata": {},
   "outputs": [
    {
     "name": "stdout",
     "output_type": "stream",
     "text": [
      "Epoch 1/20\n",
      "219/219 [==============================] - 0s 1ms/step - loss: 0.0823 - val_loss: 0.0449\n",
      "Epoch 2/20\n",
      "219/219 [==============================] - 0s 602us/step - loss: 0.0353 - val_loss: 0.0273\n",
      "Epoch 3/20\n",
      "219/219 [==============================] - 0s 632us/step - loss: 0.0227 - val_loss: 0.0189\n",
      "Epoch 4/20\n",
      "219/219 [==============================] - 0s 578us/step - loss: 0.0161 - val_loss: 0.0141\n",
      "Epoch 5/20\n",
      "219/219 [==============================] - 0s 642us/step - loss: 0.0123 - val_loss: 0.0113\n",
      "Epoch 6/20\n",
      "219/219 [==============================] - 0s 576us/step - loss: 0.0100 - val_loss: 0.0095\n",
      "Epoch 7/20\n",
      "219/219 [==============================] - 0s 600us/step - loss: 0.0086 - val_loss: 0.0084\n",
      "Epoch 8/20\n",
      "219/219 [==============================] - 0s 650us/step - loss: 0.0077 - val_loss: 0.0077\n",
      "Epoch 9/20\n",
      "219/219 [==============================] - 0s 572us/step - loss: 0.0071 - val_loss: 0.0072\n",
      "Epoch 10/20\n",
      "219/219 [==============================] - 0s 646us/step - loss: 0.0066 - val_loss: 0.0068\n",
      "Epoch 11/20\n",
      "219/219 [==============================] - 0s 622us/step - loss: 0.0063 - val_loss: 0.0066\n",
      "Epoch 12/20\n",
      "219/219 [==============================] - 0s 544us/step - loss: 0.0061 - val_loss: 0.0064\n",
      "Epoch 13/20\n",
      "219/219 [==============================] - 0s 629us/step - loss: 0.0059 - val_loss: 0.0062\n",
      "Epoch 14/20\n",
      "219/219 [==============================] - 0s 574us/step - loss: 0.0058 - val_loss: 0.0061\n",
      "Epoch 15/20\n",
      "219/219 [==============================] - 0s 630us/step - loss: 0.0057 - val_loss: 0.0060\n",
      "Epoch 16/20\n",
      "219/219 [==============================] - 0s 578us/step - loss: 0.0055 - val_loss: 0.0058\n",
      "Epoch 17/20\n",
      "219/219 [==============================] - 0s 661us/step - loss: 0.0054 - val_loss: 0.0057\n",
      "Epoch 18/20\n",
      "219/219 [==============================] - 0s 621us/step - loss: 0.0053 - val_loss: 0.0056\n",
      "Epoch 19/20\n",
      "219/219 [==============================] - 0s 639us/step - loss: 0.0053 - val_loss: 0.0056\n",
      "Epoch 20/20\n",
      "219/219 [==============================] - 0s 648us/step - loss: 0.0052 - val_loss: 0.0055\n"
     ]
    }
   ],
   "source": [
    "tf.random.set_seed(42)\n",
    "\n",
    "model = keras.models.Sequential([\n",
    "    keras.layers.Flatten(input_shape=[50, 1]),\n",
    "    keras.layers.Dense(1)\n",
    "])\n",
    "\n",
    "model.compile(loss=\"mse\", optimizer=\"sgd\")\n",
    "history = model.fit(X_train, y_train, epochs=20,\n",
    "                    validation_data=(X_valid, y_valid))"
   ]
  },
  {
   "cell_type": "code",
   "execution_count": 15,
   "metadata": {},
   "outputs": [
    {
     "data": {
      "image/png": "[encoded data removed]",
      "text/plain": [
       "<Figure size 432x288 with 1 Axes>"
      ]
     },
     "metadata": {
      "needs_background": "light"
     },
     "output_type": "display_data"
    }
   ],
   "source": [
    "y_pred = model.predict(X_valid)\n",
    "plot_series(X_valid[0, :, 0], y_valid[0, 0], y_pred[0, 0])"
   ]
  },
  {
   "cell_type": "markdown",
   "metadata": {},
   "source": [
    "Infine definiamo un RNN con una sola unita' ricorrente e funzione di attivazione $tanh$ - default."
   ]
  },
  {
   "cell_type": "code",
   "execution_count": 16,
   "metadata": {},
   "outputs": [
    {
     "name": "stdout",
     "output_type": "stream",
     "text": [
      "Epoch 1/20\n",
      "219/219 [==============================] - 1s 6ms/step - loss: 0.0842 - val_loss: 0.0462\n",
      "Epoch 2/20\n",
      "219/219 [==============================] - 1s 5ms/step - loss: 0.0412 - val_loss: 0.0374\n",
      "Epoch 3/20\n",
      "219/219 [==============================] - 1s 5ms/step - loss: 0.0347 - val_loss: 0.0324\n",
      "Epoch 4/20\n",
      "219/219 [==============================] - 1s 5ms/step - loss: 0.0306 - val_loss: 0.0290\n",
      "Epoch 5/20\n",
      "219/219 [==============================] - 1s 5ms/step - loss: 0.0277 - val_loss: 0.0265\n",
      "Epoch 6/20\n",
      "219/219 [==============================] - 1s 5ms/step - loss: 0.0255 - val_loss: 0.0245\n",
      "Epoch 7/20\n",
      "219/219 [==============================] - 1s 5ms/step - loss: 0.0238 - val_loss: 0.0230\n",
      "Epoch 8/20\n",
      "219/219 [==============================] - 1s 5ms/step - loss: 0.0224 - val_loss: 0.0217\n",
      "Epoch 9/20\n",
      "219/219 [==============================] - 1s 5ms/step - loss: 0.0212 - val_loss: 0.0206\n",
      "Epoch 10/20\n",
      "219/219 [==============================] - 1s 5ms/step - loss: 0.0203 - val_loss: 0.0197\n",
      "Epoch 11/20\n",
      "219/219 [==============================] - 1s 5ms/step - loss: 0.0194 - val_loss: 0.0189\n",
      "Epoch 12/20\n",
      "219/219 [==============================] - 1s 5ms/step - loss: 0.0187 - val_loss: 0.0183\n",
      "Epoch 13/20\n",
      "219/219 [==============================] - 1s 5ms/step - loss: 0.0181 - val_loss: 0.0177\n",
      "Epoch 14/20\n",
      "219/219 [==============================] - 1s 6ms/step - loss: 0.0175 - val_loss: 0.0171\n",
      "Epoch 15/20\n",
      "219/219 [==============================] - 1s 5ms/step - loss: 0.0170 - val_loss: 0.0167\n",
      "Epoch 16/20\n",
      "219/219 [==============================] - 1s 5ms/step - loss: 0.0166 - val_loss: 0.0162\n",
      "Epoch 17/20\n",
      "219/219 [==============================] - 1s 5ms/step - loss: 0.0162 - val_loss: 0.0158\n",
      "Epoch 18/20\n",
      "219/219 [==============================] - 1s 5ms/step - loss: 0.0158 - val_loss: 0.0155\n",
      "Epoch 19/20\n",
      "219/219 [==============================] - 1s 5ms/step - loss: 0.0155 - val_loss: 0.0152\n",
      "Epoch 20/20\n",
      "219/219 [==============================] - 1s 5ms/step - loss: 0.0152 - val_loss: 0.0149\n"
     ]
    }
   ],
   "source": [
    "tf.random.set_seed(42)\n",
    "\n",
    "model = keras.models.Sequential([\n",
    "    keras.layers.SimpleRNN(1, input_shape=[None, 1])\n",
    "])\n",
    "\n",
    "model.compile(loss=\"mse\", optimizer='sgd')\n",
    "history = model.fit(X_train, y_train, epochs=20,\n",
    "                    validation_data=(X_valid, y_valid))"
   ]
  },
  {
   "cell_type": "code",
   "execution_count": 17,
   "metadata": {},
   "outputs": [
    {
     "data": {
      "image/png": "[encoded data removed]",
      "text/plain": [
       "<Figure size 432x288 with 1 Axes>"
      ]
     },
     "metadata": {
      "needs_background": "light"
     },
     "output_type": "display_data"
    }
   ],
   "source": [
    "y_pred = model.predict(X_valid)\n",
    "plot_series(X_valid[0, :, 0], y_valid[0, 0], y_pred[0, 0])"
   ]
  },
  {
   "cell_type": "markdown",
   "metadata": {},
   "source": [
    "Infine inseriamo piu' hidden layer costituiti da piu' unita' ricorrenti"
   ]
  },
  {
   "cell_type": "code",
   "execution_count": 18,
   "metadata": {},
   "outputs": [
    {
     "name": "stdout",
     "output_type": "stream",
     "text": [
      "Epoch 1/20\n",
      "219/219 [==============================] - 4s 18ms/step - loss: 0.0481 - val_loss: 0.0129\n",
      "Epoch 2/20\n",
      "219/219 [==============================] - 4s 17ms/step - loss: 0.0120 - val_loss: 0.0103\n",
      "Epoch 3/20\n",
      "219/219 [==============================] - 4s 17ms/step - loss: 0.0083 - val_loss: 0.0074\n",
      "Epoch 4/20\n",
      "219/219 [==============================] - 4s 16ms/step - loss: 0.0071 - val_loss: 0.0070\n",
      "Epoch 5/20\n",
      "219/219 [==============================] - 4s 16ms/step - loss: 0.0061 - val_loss: 0.0062\n",
      "Epoch 6/20\n",
      "219/219 [==============================] - 4s 16ms/step - loss: 0.0056 - val_loss: 0.0053\n",
      "Epoch 7/20\n",
      "219/219 [==============================] - 4s 16ms/step - loss: 0.0053 - val_loss: 0.0049\n",
      "Epoch 8/20\n",
      "219/219 [==============================] - 4s 16ms/step - loss: 0.0050 - val_loss: 0.0051\n",
      "Epoch 9/20\n",
      "219/219 [==============================] - 4s 16ms/step - loss: 0.0047 - val_loss: 0.0068\n",
      "Epoch 10/20\n",
      "219/219 [==============================] - 4s 16ms/step - loss: 0.0046 - val_loss: 0.0045\n",
      "Epoch 11/20\n",
      "219/219 [==============================] - 4s 16ms/step - loss: 0.0044 - val_loss: 0.0045\n",
      "Epoch 12/20\n",
      "219/219 [==============================] - 4s 16ms/step - loss: 0.0043 - val_loss: 0.0044\n",
      "Epoch 13/20\n",
      "219/219 [==============================] - 4s 16ms/step - loss: 0.0042 - val_loss: 0.0043\n",
      "Epoch 14/20\n",
      "219/219 [==============================] - 4s 16ms/step - loss: 0.0041 - val_loss: 0.0042\n",
      "Epoch 15/20\n",
      "219/219 [==============================] - 4s 16ms/step - loss: 0.0040 - val_loss: 0.0049\n",
      "Epoch 16/20\n",
      "219/219 [==============================] - 4s 16ms/step - loss: 0.0040 - val_loss: 0.0040\n",
      "Epoch 17/20\n",
      "219/219 [==============================] - 4s 16ms/step - loss: 0.0039 - val_loss: 0.0043\n",
      "Epoch 18/20\n",
      "219/219 [==============================] - 4s 16ms/step - loss: 0.0039 - val_loss: 0.0039\n",
      "Epoch 19/20\n",
      "219/219 [==============================] - 4s 16ms/step - loss: 0.0038 - val_loss: 0.0039\n",
      "Epoch 20/20\n",
      "219/219 [==============================] - 4s 17ms/step - loss: 0.0038 - val_loss: 0.0041\n"
     ]
    }
   ],
   "source": [
    "model = keras.models.Sequential([\n",
    "    keras.layers.SimpleRNN(20, return_sequences=True, input_shape=[None, 1]),\n",
    "    keras.layers.SimpleRNN(20, return_sequences=True),\n",
    "    keras.layers.SimpleRNN(1)\n",
    "])\n",
    "\n",
    "model.compile(loss=\"mse\", optimizer=\"sgd\")\n",
    "history = model.fit(X_train, y_train, epochs=20,\n",
    "                    validation_data=(X_valid, y_valid))"
   ]
  },
  {
   "cell_type": "code",
   "execution_count": 19,
   "metadata": {},
   "outputs": [
    {
     "data": {
      "image/png": "[encoded data removed]",
      "text/plain": [
       "<Figure size 432x288 with 1 Axes>"
      ]
     },
     "metadata": {
      "needs_background": "light"
     },
     "output_type": "display_data"
    }
   ],
   "source": [
    "y_pred = model.predict(X_valid)\n",
    "plot_series(X_valid[0, :, 0], y_valid[0, 0], y_pred[0, 0])"
   ]
  },
  {
   "cell_type": "markdown",
   "metadata": {},
   "source": [
    "Dal momento che per l'ultimo layer non ci interessa l'ouput $h_{out}$, possiamo utilizzare un livello denso con una singola unita' di output."
   ]
  },
  {
   "cell_type": "code",
   "execution_count": 20,
   "metadata": {},
   "outputs": [
    {
     "name": "stdout",
     "output_type": "stream",
     "text": [
      "Epoch 1/20\n",
      "219/219 [==============================] - 3s 14ms/step - loss: 0.0375 - val_loss: 0.0147\n",
      "Epoch 2/20\n",
      "219/219 [==============================] - 3s 12ms/step - loss: 0.0114 - val_loss: 0.0091\n",
      "Epoch 3/20\n",
      "219/219 [==============================] - 3s 12ms/step - loss: 0.0077 - val_loss: 0.0070\n",
      "Epoch 4/20\n",
      "219/219 [==============================] - 3s 12ms/step - loss: 0.0061 - val_loss: 0.0059\n",
      "Epoch 5/20\n",
      "219/219 [==============================] - 3s 12ms/step - loss: 0.0052 - val_loss: 0.0054\n",
      "Epoch 6/20\n",
      "219/219 [==============================] - 3s 12ms/step - loss: 0.0047 - val_loss: 0.0048\n",
      "Epoch 7/20\n",
      "219/219 [==============================] - 3s 12ms/step - loss: 0.0044 - val_loss: 0.0045\n",
      "Epoch 8/20\n",
      "219/219 [==============================] - 3s 12ms/step - loss: 0.0041 - val_loss: 0.0043\n",
      "Epoch 9/20\n",
      "219/219 [==============================] - 3s 12ms/step - loss: 0.0039 - val_loss: 0.0041\n",
      "Epoch 10/20\n",
      "219/219 [==============================] - 3s 12ms/step - loss: 0.0038 - val_loss: 0.0039\n",
      "Epoch 11/20\n",
      "219/219 [==============================] - 3s 12ms/step - loss: 0.0037 - val_loss: 0.0039\n",
      "Epoch 12/20\n",
      "219/219 [==============================] - 3s 12ms/step - loss: 0.0036 - val_loss: 0.0037\n",
      "Epoch 13/20\n",
      "219/219 [==============================] - 3s 12ms/step - loss: 0.0035 - val_loss: 0.0037\n",
      "Epoch 14/20\n",
      "219/219 [==============================] - 3s 12ms/step - loss: 0.0034 - val_loss: 0.0035\n",
      "Epoch 15/20\n",
      "219/219 [==============================] - 3s 12ms/step - loss: 0.0033 - val_loss: 0.0034\n",
      "Epoch 16/20\n",
      "219/219 [==============================] - 3s 12ms/step - loss: 0.0032 - val_loss: 0.0035\n",
      "Epoch 17/20\n",
      "219/219 [==============================] - 3s 12ms/step - loss: 0.0032 - val_loss: 0.0033\n",
      "Epoch 18/20\n",
      "219/219 [==============================] - 3s 12ms/step - loss: 0.0031 - val_loss: 0.0033\n",
      "Epoch 19/20\n",
      "219/219 [==============================] - 3s 12ms/step - loss: 0.0031 - val_loss: 0.0033\n",
      "Epoch 20/20\n",
      "219/219 [==============================] - 3s 12ms/step - loss: 0.0031 - val_loss: 0.0032\n"
     ]
    }
   ],
   "source": [
    "model = keras.models.Sequential([\n",
    "    keras.layers.SimpleRNN(20, return_sequences=True, input_shape=[None, 1]),\n",
    "    keras.layers.SimpleRNN(20),\n",
    "    keras.layers.Dense(1)\n",
    "])\n",
    "\n",
    "model.compile(loss=\"mse\", optimizer=\"sgd\")\n",
    "history = model.fit(X_train, y_train, epochs=20,\n",
    "                    validation_data=(X_valid, y_valid))"
   ]
  },
  {
   "cell_type": "code",
   "execution_count": null,
   "metadata": {},
   "outputs": [],
   "source": [
    "y_pred = model.predict(X_valid)\n",
    "plot_series(X_valid[0, :, 0], y_valid[0, 0], y_pred[0, 0])"
   ]
  },
  {
   "cell_type": "markdown",
   "metadata": {},
   "source": [
    "Per predirre i prossimi $k$ valori futuri come primo approccio posso utilizzare le predizioni eseguite fino al passo $t+1$ come input del mio modello. In sostanza, predico sulle predizioni. \n",
    "\n",
    "Ho un problema di accumulazione dell'errore di predizione."
   ]
  },
  {
   "cell_type": "code",
   "execution_count": null,
   "metadata": {},
   "outputs": [],
   "source": [
    "n_steps = 50\n",
    "series = generate_time_series(10000, n_steps + 10)\n",
    "X_train, Y_train = series[:7000, :n_steps], series[:7000, -10:, 0]\n",
    "X_valid, Y_valid = series[7000:9000, :n_steps], series[7000:9000, -10:, 0]\n",
    "X_test, Y_test = series[9000:, :n_steps], series[9000:, -10:, 0]"
   ]
  },
  {
   "cell_type": "code",
   "execution_count": null,
   "metadata": {},
   "outputs": [],
   "source": [
    "X = X_valid\n",
    "for step_ahead in range(10):\n",
    "    y_pred_one = model.predict(X)[:, np.newaxis, :]\n",
    "    X = np.concatenate([X, y_pred_one], axis=1)\n",
    "\n",
    "Y_pred = X[:, n_steps:, 0]"
   ]
  },
  {
   "cell_type": "code",
   "execution_count": null,
   "metadata": {},
   "outputs": [],
   "source": [
    "np.mean(keras.metrics.mean_squared_error(Y_valid, Y_pred))"
   ]
  },
  {
   "cell_type": "code",
   "execution_count": null,
   "metadata": {},
   "outputs": [],
   "source": [
    "Y_naive_pred = Y_valid[:, -1:]\n",
    "np.mean(keras.metrics.mean_squared_error(Y_valid, Y_naive_pred))"
   ]
  },
  {
   "cell_type": "code",
   "execution_count": null,
   "metadata": {},
   "outputs": [],
   "source": [
    "model = keras.models.Sequential([\n",
    "    keras.layers.Flatten(input_shape=[50, 1]),\n",
    "    keras.layers.Dense(10)\n",
    "])\n",
    "\n",
    "model.compile(loss=\"mse\", optimizer=\"sgd\")\n",
    "history = model.fit(X_train, Y_train, epochs=20,\n",
    "                    validation_data=(X_valid, Y_valid))"
   ]
  },
  {
   "cell_type": "markdown",
   "metadata": {},
   "source": [
    "Definiamo un RNN che restituisce un vettore di 10 elementi"
   ]
  },
  {
   "cell_type": "code",
   "execution_count": null,
   "metadata": {},
   "outputs": [],
   "source": [
    "model = keras.models.Sequential([\n",
    "    keras.layers.SimpleRNN(20, return_sequences=True, input_shape=[None, 1]),\n",
    "    keras.layers.SimpleRNN(20),\n",
    "    keras.layers.Dense(10)\n",
    "])\n",
    "\n",
    "model.compile(loss=\"mse\", optimizer=\"sgd\")\n",
    "history = model.fit(X_train, Y_train, epochs=20,\n",
    "                    validation_data=(X_valid, Y_valid))"
   ]
  },
  {
   "cell_type": "code",
   "execution_count": null,
   "metadata": {},
   "outputs": [],
   "source": [
    "X_new, Y_new = series[:, :50, :], series[:, -10:, :]\n",
    "Y_pred = model.predict(X_new)[..., np.newaxis]"
   ]
  },
  {
   "cell_type": "code",
   "execution_count": null,
   "metadata": {},
   "outputs": [],
   "source": [
    "plot_multiple_forecasts(X_new, Y_new, Y_pred)"
   ]
  },
  {
   "cell_type": "markdown",
   "metadata": {},
   "source": [
    "Possiamo addestrare il modello in modo che predica i prossimi $k$ valori ad ogni time step, anziche' all'ultimo step $t=50$. Sfrutto gli aggiornamenti del gradiente provenienti da tutti gli output $y_{t}$. Il modello risultante e' nella categoria many-to-many.\n",
    "\n",
    "Dobbiamo modificare il vettore delle etichette = sequenza di vettori"
   ]
  },
  {
   "cell_type": "code",
   "execution_count": 29,
   "metadata": {},
   "outputs": [],
   "source": [
    "n_steps = 50\n",
    "series = generate_time_series(10000, n_steps + 10)\n",
    "X_train = series[:7000, :n_steps]\n",
    "X_valid = series[7000:9000, :n_steps]\n",
    "X_test = series[9000:, :n_steps]\n",
    "\n",
    "Y = np.empty((10000, n_steps, 10))\n",
    "for step_ahead in range(1, 10 + 1):\n",
    "    Y[..., step_ahead - 1] = series[..., step_ahead:step_ahead + n_steps, 0]\n",
    "Y_train = Y[:7000]\n",
    "Y_valid = Y[7000:9000]\n",
    "Y_test = Y[9000:]"
   ]
  },
  {
   "cell_type": "code",
   "execution_count": 28,
   "metadata": {},
   "outputs": [
    {
     "data": {
      "text/plain": [
       "(50, 10)"
      ]
     },
     "execution_count": 28,
     "metadata": {},
     "output_type": "execute_result"
    }
   ],
   "source": [
    "Y[1].shape"
   ]
  },
  {
   "cell_type": "markdown",
   "metadata": {},
   "source": [
    "Ogni layer deve restituire sempre una sequenza => **return_sequence=True**. Inoltre, possiamo utilizzare il layer **TimeDistributed** per applicare il layer ad ongi time step della sequenza di input."
   ]
  },
  {
   "cell_type": "code",
   "execution_count": null,
   "metadata": {},
   "outputs": [],
   "source": [
    "model = keras.models.Sequential([\n",
    "    keras.layers.SimpleRNN(20, return_sequences=True, input_shape=[None, 1]),\n",
    "    keras.layers.SimpleRNN(20, return_sequences=True),\n",
    "    keras.layers.TimeDistributed(keras.layers.Dense(10))\n",
    "])"
   ]
  },
  {
   "cell_type": "markdown",
   "metadata": {},
   "source": [
    "La loss function si calcola sull'ouput dell'ultimo time step."
   ]
  },
  {
   "cell_type": "code",
   "execution_count": null,
   "metadata": {},
   "outputs": [],
   "source": [
    "@tf.autograph.experimental.do_not_convert\n",
    "def last_time_step_mse(Y_true, Y_pred):\n",
    "    return keras.metrics.mean_squared_error(Y_true[:, -1], Y_pred[:, -1])"
   ]
  },
  {
   "cell_type": "code",
   "execution_count": null,
   "metadata": {},
   "outputs": [],
   "source": [
    "model.compile(loss=\"mse\", optimizer='sgd', metrics=[last_time_step_mse])\n",
    "history = model.fit(X_train, Y_train, epochs=20,\n",
    "                    validation_data=(X_valid, Y_valid))"
   ]
  },
  {
   "cell_type": "code",
   "execution_count": null,
   "metadata": {},
   "outputs": [],
   "source": [
    "np.random.seed(43)\n",
    "\n",
    "series = generate_time_series(1, 50 + 10)\n",
    "X_new, Y_new = series[:, :50, :], series[:, 50:, :]\n",
    "Y_pred = model.predict(X_new)[:, -1][..., np.newaxis]\n",
    "plot_multiple_forecasts(X_new, Y_new, Y_pred)"
   ]
  },
  {
   "cell_type": "markdown",
   "metadata": {},
   "source": [
    "## Long memory cells\n",
    "Usando la cella di memoria base lo stato dei primi elementi della sequenza puo' non influire sulla predizione al tempo $t$. Per alleviare questo fenomeno sono state proposte diversi cell con memoria a lungo termine - long-term memory.\n",
    "\n",
    "### Long short-term memory - LSTM\n",
    "\n",
    "![](lstm_cell.png)\n",
    "\n",
    "dove informalmente $\\mathbf{h}_t$ rappresenta la memoria a breve termine, mentre $\\mathbf{c}_t$ rappresenta la memoria a lungo termine.\n",
    "\n",
    "![](lstm_equation.png)"
   ]
  },
  {
   "cell_type": "markdown",
   "metadata": {},
   "source": [
    "### Gated Recurrent Unit - GRU\n",
    "\n",
    "![](gru.png)\n",
    "\n",
    "I vettori $h$ e $c$ vengono uniti. C'e' un solo gate controller $z$ che controlla forget e input gate. C'e' un nuovo gae controller che agisce sull'input del main gate $g$ e sceglie quale parte dello stato precedente utilizzare. \n",
    "\n",
    "![](gru_equation.png)"
   ]
  },
  {
   "cell_type": "markdown",
   "metadata": {},
   "source": [
    "In Keras vengono rsi disponibili i due layers: **LSTM** e **GRU**"
   ]
  },
  {
   "cell_type": "code",
   "execution_count": null,
   "metadata": {},
   "outputs": [],
   "source": [
    "model = keras.models.Sequential([\n",
    "    keras.layers.LSTM(20, return_sequences=True, input_shape=[None, 1]),\n",
    "    keras.layers.LSTM(20, return_sequences=True),\n",
    "    keras.layers.TimeDistributed(keras.layers.Dense(10))\n",
    "])\n",
    "\n",
    "model.compile(loss=\"mse\", optimizer=\"sgd\", metrics=[last_time_step_mse])\n",
    "history = model.fit(X_train, Y_train, epochs=20,\n",
    "                    validation_data=(X_valid, Y_valid))"
   ]
  },
  {
   "cell_type": "code",
   "execution_count": null,
   "metadata": {},
   "outputs": [],
   "source": [
    "np.random.seed(43)\n",
    "\n",
    "series = generate_time_series(1, 50 + 10)\n",
    "X_new, Y_new = series[:, :50, :], series[:, 50:, :]\n",
    "Y_pred = model.predict(X_new)[:, -1][..., np.newaxis]\n",
    "plot_multiple_forecasts(X_new, Y_new, Y_pred)"
   ]
  },
  {
   "cell_type": "code",
   "execution_count": null,
   "metadata": {},
   "outputs": [],
   "source": [
    "np.random.seed(42)\n",
    "tf.random.set_seed(42)\n",
    "\n",
    "model = keras.models.Sequential([\n",
    "    keras.layers.GRU(20, return_sequences=True, input_shape=[None, 1]),\n",
    "    keras.layers.GRU(20, return_sequences=True),\n",
    "    keras.layers.TimeDistributed(keras.layers.Dense(10))\n",
    "])\n",
    "\n",
    "model.compile(loss=\"mse\", optimizer=\"adam\", metrics=[last_time_step_mse])\n",
    "history = model.fit(X_train, Y_train, epochs=20,\n",
    "                    validation_data=(X_valid, Y_valid))"
   ]
  },
  {
   "cell_type": "code",
   "execution_count": null,
   "metadata": {},
   "outputs": [],
   "source": [
    "np.random.seed(43)\n",
    "\n",
    "series = generate_time_series(1, 50 + 10)\n",
    "X_new, Y_new = series[:, :50, :], series[:, 50:, :]\n",
    "Y_pred = model.predict(X_new)[:, -1][..., np.newaxis]\n",
    "plot_multiple_forecasts(X_new, Y_new, Y_pred)\n"
   ]
  }
 ],
 "metadata": {
  "kernelspec": {
   "display_name": "Python 3",
   "language": "python",
   "name": "python3"
  },
  "language_info": {
   "codemirror_mode": {
    "name": "ipython",
    "version": 3
   },
   "file_extension": ".py",
   "mimetype": "text/x-python",
   "name": "python",
   "nbconvert_exporter": "python",
   "pygments_lexer": "ipython3",
   "version": "3.8.6"
  }
 },
 "nbformat": 4,
 "nbformat_minor": 4
}
