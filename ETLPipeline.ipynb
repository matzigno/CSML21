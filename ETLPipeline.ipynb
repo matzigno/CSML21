{
 "cells": [
  {
   "cell_type": "markdown",
   "metadata": {},
   "source": [
    "# From getting to pre-processing data\n",
    "In questa notebook affronteremo alcuni elementi che fanno parte di un progetto orientato al Machine Learning:\n",
    "1. Ottenere i dati (facilitato)\n",
    "2. Visualizzare i dati ottenuti\n",
    "3. Trasformare/ manipolare i dati per fornire un input agli algoritmi di ML\n",
    "\n",
    "A fine didattici/progetti personali, le fonti per ottenere dataset open sono molteplici:\n",
    "- Kaggle (https://www.kaggle.com/)\n",
    "- Machine Learning repository @ UC Irvine (https://archive.ics.uci.edu/ml/index.php)\n",
    "- Reddit: subreddit dataset (https://www.reddit.com/r/datasets/)\n",
    "\n",
    "Per questa prima esperienza utilizziamo un dataset ottenuto da Kaggle che affronta il problema dall **churn prediction**. Possiamo sintetizzare il problema in questo modo: *dato un insieme di clienti che hanno sottoscritto un servizio e caratterizzati/descritti da un insieme di proprieta', identificare un sottoinsieme di client che molto probabilmente abbondonera' in un dato momento nel futuro (di solito a breve termine) il servizio*. Il problema e' piuttosto generico in quanto riguarda in sostanza la risoluzione di un contratto.\n",
    "\n",
    "<p style=\"border: 3px solid crimson;box-shadow: 5px 6px indianRed;padding:20px;\">Formalmente ogni cliente $c$ e' descritto da un vettore $\\mathbf{c}=<c_1,\\ldots,c_n>$ t.c. $c_i\\in S_i$, dove $S_i$ e' un insieme, denota la proprieta' $i$-esima che caratterizza l'utente $c$. Per predirre qualora un generico utente con determinate proprieta' al tempo $t$, al tempo $t+\\Delta t$ abbandoni il servizio, possiamo **imparare** (learning) in modo automatico (machine) una funzione $f:S_1\\times\\ldots\\times S_n\\rightarrow \\{0,1\\}$, dove $0$ indica la permanenza nel servizio, viceversa $1$ indica l'abbandono del servizio.</p>\n",
    "\n",
    "Nel nostro caso affrontiamo il problema di churn prediction in ambito bancario: credit card churn prediction. \n",
    "\n",
    "Il dataset e' disponibile all'indirizzo https://www.kaggle.com/sakshigoyal7/credit-card-customers e riporta la seguente descrizione:\n",
    "```\n",
    "A manager at the bank is disturbed with more and more customers leaving their credit card services. They would really appreciate if one could predict for them who is gonna get churned so they can proactively go to the customer to provide them better services and turn customers' decisions in the opposite direction.\n",
    "This dataset consists of 10,000 customers mentioning their age, salary, marital_status, credit card limit, credit card category, etc. There are nearly 18 features.\n",
    "We have only 16.07% of customers who have churned. Thus, it's a bit difficult to train our model to predict churning customers.\n",
    "```\n",
    "\n",
    "### Definire l'obiettivo\n",
    "Lo sviluppo di un progetto che utilizzi ML solitamente e' orientato ad un **obiettivo** che non riguarda propriamente il ML, ma che utilizza le metodologie ML per **raggiungere** un'obiettivo. L'obiettivo determina:\n",
    "- come modello il problema\n",
    "    - supervisionato/non supervisionato, classificazione/regressione, batch/online, univariata/multivariata\n",
    "- quali modelli/algoritmi adottare\n",
    "    - fortemente dipendente dal punto precedente\n",
    "- quali misure di performance utilizzare nella valutazione del modello\n",
    "\n",
    "Nel nostro caso (credi card churn prediction) l'obiettivo e'molto specifico e ben definito, e la precedente trattazione ci porta a modellare il problema come un problema _supervisionato_ di _classificazione_ binaria in modalita' batch dato che il dataset e' facilmente caricabile in memoria."
   ]
  },
  {
   "cell_type": "markdown",
   "metadata": {},
   "source": [
    "## Getting and loading the data\n",
    "\n",
    "Per un'analisi preliminare del dataset e caricarlo in memoria utilizziamo il modulo **pandas**"
   ]
  },
  {
   "cell_type": "code",
   "execution_count": null,
   "metadata": {},
   "outputs": [],
   "source": [
    "import pandas as pd"
   ]
  },
  {
   "cell_type": "code",
   "execution_count": null,
   "metadata": {},
   "outputs": [],
   "source": [
    "raw_dataset = pd.read_csv('BankChurners.csv')"
   ]
  },
  {
   "cell_type": "markdown",
   "metadata": {},
   "source": [
    "_Commento_: Potevo avere un'anteprima del file utilizzando anche un foglio di calcolo, dato che il formato e' CSV. E' utile verificare se la prima riga del file sia l'intestazione o header, e quindi contenere il nome delle colonne. Per verificare la presenza dello header posso utilizzare il comando head della shell\n",
    "\n",
    "Per avere una prima intuizione sul tipo di dati messi a disposizione, possiamo visualizzare le prime 5 righe del dataset utilizzando il metodo **head**"
   ]
  },
  {
   "cell_type": "code",
   "execution_count": null,
   "metadata": {},
   "outputs": [],
   "source": [
    "raw_dataset.head()"
   ]
  },
  {
   "cell_type": "markdown",
   "metadata": {},
   "source": [
    "Ci sono 23 colonne.\n",
    "\n",
    "Per avere una piu'completa descrizione della struttura del dataset utilizziamo i metodi **info** oppure **describe**. IL primo metodo e' piu'orientato alla rappresentazione del dato, mentre il secondo metodo riporta le statistiche riguardanti le varie colonne, qualora siano di tipo numerico."
   ]
  },
  {
   "cell_type": "code",
   "execution_count": null,
   "metadata": {},
   "outputs": [],
   "source": [
    "raw_dataset.info()"
   ]
  },
  {
   "cell_type": "markdown",
   "metadata": {},
   "source": [
    "Confermiamo che abbiamo dati riguardanti 10127 clienti e in questo caso non abbiamo dati mancanti (Non-null count). I tipi di dati sono sia numerici sia categorici (Dtype)."
   ]
  },
  {
   "cell_type": "code",
   "execution_count": null,
   "metadata": {},
   "outputs": [],
   "source": [
    "raw_dataset.describe()"
   ]
  },
  {
   "cell_type": "markdown",
   "metadata": {},
   "source": [
    "Per avere anche una prima impressione sulle colonne di tipo categorico/testuale possiamo utilizzare il metodo **value_counts**.\n",
    "\n",
    "🤡 Su diverse microblogging platforms trovare numerosi thread sulla controintuivita' del nome di questo metodo. SPOILER: la probabilita' di scriverlo correttamente al primo colpo e' prossima allo zero 🤡."
   ]
  },
  {
   "cell_type": "code",
   "execution_count": null,
   "metadata": {},
   "outputs": [],
   "source": [
    "raw_dataset['Gender'].value_counts()"
   ]
  },
  {
   "cell_type": "markdown",
   "metadata": {},
   "source": [
    "Infine otteniamo il nome delle varie colonne in modo inferire - qualora non sia specificato in qualche documento - il significato della colonna. Tramite l'attributo **columns** otteniamo questa informazione"
   ]
  },
  {
   "cell_type": "code",
   "execution_count": null,
   "metadata": {},
   "outputs": [],
   "source": [
    "raw_dataset.columns"
   ]
  },
  {
   "cell_type": "markdown",
   "metadata": {},
   "source": [
    "| Nome colonna | Significato|\n",
    "| --- | --- |\n",
    "|CLIENTNUM| ID del cliente|\n",
    "|Attrition_Flag| Indica se il cliente ha abbandonato (valore 1)|\n",
    "|Customer_Age| Eta' del cliente in anni|\n",
    "|Gender|Genere del cliente|\n",
    "|Dependent_count| Numero di dipendenti|\n",
    "|Education_Level| Livello di istruzione del cliente|\n",
    "|Marital_Status| Stato civile|\n",
    "|Income_Category| Livello di reddito in dollari|\n",
    "|Card_Category| Tipo di carta di credito|\n",
    "|Months_on_book| Numero di mesi di iscrizione al servizio|\n",
    "|Total_Relationship_Count| Numero di prodotti in possesso del cliente|\n",
    "|Months_Inactive_12_mon| Numero di mesi di inattivita' negli ultimi 12 mesi|\n",
    "|Contacts_Count_12_mon| Numero di contatti negli ultimi 12 mesi|\n",
    "|Credit_Limit| Limite di credito sulla carta|\n",
    "|Total_Revolving_Bal| Bilancio revolving|\n",
    "|Avg_Open_To_Buy|\n",
    "|Total_Amt_Chng_Q4_Q1| Differenza del totale delle transazioni tra Q4 e Q1|\n",
    "|Total_Trans_Amt| Totale delle transazioni su ultimi 12 mesi|\n",
    "|Total_Trans_Ct| Numero di transazioni negli ultimi 12 mesi|\n",
    "|Total_Ct_Chng_Q4_Q1| Differenza del numero di transazioni in Q4 rispetto a Q1|\n",
    "|Avg_Utilization_Ratio| ?|\n",
    "|Naive_Bayes_Classifier_Attrition_Flag_Card_Category_Contacts_Count_12_mon_Dependent_count_Education_Level_Months_Inactive_12_mon_1| Da eliminare|\n",
    "|Naive_Bayes_Classifier_Attrition_Flag_Card_Category_Contacts_Count_12_mon_Dependent_count_Education_Level_Months_Inactive_12_mon_2| Da eliminare|"
   ]
  },
  {
   "cell_type": "markdown",
   "metadata": {},
   "source": [
    "Un'analisi preliminare delle caratteristiche del dataset puo' avvenire in modo qualitativo attraverso la visualizzazione della distribuzione delle proprieta'. \n",
    "\n",
    "Utilizziamo il modulo **matplotlib** per la visualizzazione nel corso di questo laboratorio."
   ]
  },
  {
   "cell_type": "code",
   "execution_count": null,
   "metadata": {},
   "outputs": [],
   "source": [
    "import matplotlib.pyplot as plt\n",
    "%matplotlib inline"
   ]
  },
  {
   "cell_type": "markdown",
   "metadata": {},
   "source": [
    "In pandas il metodo **hist** permette una rapida visualizzazione della distribuzione delle proprieta' numeriche attraverso istogrammi."
   ]
  },
  {
   "cell_type": "code",
   "execution_count": null,
   "metadata": {},
   "outputs": [],
   "source": [
    "# Prima di visualizzare le distribuzioni, rimuoviamo le colonne che iniziano con Naive Bayes e la colonna con il codice cliente\n",
    "raw_dataset.drop(['Naive_Bayes_Classifier_Attrition_Flag_Card_Category_Contacts_Count_12_mon_Dependent_count_Education_Level_Months_Inactive_12_mon_1','Naive_Bayes_Classifier_Attrition_Flag_Card_Category_Contacts_Count_12_mon_Dependent_count_Education_Level_Months_Inactive_12_mon_2','CLIENTNUM'],\n",
    "                 axis=1,\n",
    "                 inplace=True)"
   ]
  },
  {
   "cell_type": "code",
   "execution_count": null,
   "metadata": {},
   "outputs": [],
   "source": [
    "raw_dataset.hist(figsize=(22,9))"
   ]
  },
  {
   "cell_type": "markdown",
   "metadata": {},
   "source": [
    "Dal momento che il dataset non e' troppo grande, possiamo valutare il coefficiente di correlazione di Pearson mediante il metodo **corr**."
   ]
  },
  {
   "cell_type": "code",
   "execution_count": null,
   "metadata": {},
   "outputs": [],
   "source": [
    "matrice_correlazione = raw_dataset.corr()"
   ]
  },
  {
   "cell_type": "code",
   "execution_count": null,
   "metadata": {},
   "outputs": [],
   "source": [
    "matrice_correlazione['Customer_Age'].sort_values(ascending=False)"
   ]
  },
  {
   "cell_type": "markdown",
   "metadata": {},
   "source": [
    "Modificando il parametro _method_ posso cambiare il tipo di correlazione, verificando l'esistenza di una correlazione non lineare tra le proprieta'. Nel caso che vediamo utilizziamo un coefficiente di rank correlation Spearman (Kendall rank correlation e' altra opzione)."
   ]
  },
  {
   "cell_type": "code",
   "execution_count": null,
   "metadata": {},
   "outputs": [],
   "source": [
    "matrice_ranking_correlazione = raw_dataset.corr(method='spearman')"
   ]
  },
  {
   "cell_type": "code",
   "execution_count": null,
   "metadata": {},
   "outputs": [],
   "source": [
    "matrice_ranking_correlazione['Customer_Age'].sort_values(ascending=False)"
   ]
  },
  {
   "cell_type": "markdown",
   "metadata": {},
   "source": [
    "Ma il risultato non cambia :-)\n",
    "\n",
    "### Visualizing the \"correlation\"\n",
    "Un'analisi qualitativa della correlazione e' effettuabile attraverso la visualizzazione delle distribuzioni congiunte - a coppie - delle propriet' di tipo numerico."
   ]
  },
  {
   "cell_type": "code",
   "execution_count": null,
   "metadata": {},
   "outputs": [],
   "source": [
    "from pandas.plotting import scatter_matrix"
   ]
  },
  {
   "cell_type": "markdown",
   "metadata": {},
   "source": [
    "Scegliamo un sottoinsieme di caratteristiche che hanno un diverso livello di correlazione con l'eta' del cliente."
   ]
  },
  {
   "cell_type": "code",
   "execution_count": null,
   "metadata": {},
   "outputs": [],
   "source": [
    "colonne_interesse = ['Customer_Age', 'Months_on_book', 'Credit_Limit', 'Total_Trans_Amt']"
   ]
  },
  {
   "cell_type": "code",
   "execution_count": null,
   "metadata": {},
   "outputs": [],
   "source": [
    "scatter_matrix(raw_dataset[colonne_interesse], figsize=(22,9))"
   ]
  },
  {
   "cell_type": "markdown",
   "metadata": {},
   "source": [
    "Per aumentare la leggibilita' e' possibile specificare la coppia di proprieta' di cui analizzare la distribuzione congiunta."
   ]
  },
  {
   "cell_type": "code",
   "execution_count": null,
   "metadata": {},
   "outputs": [],
   "source": [
    "raw_dataset.plot(kind='scatter', x = 'Customer_Age', y='Total_Trans_Ct', alpha=0.1)"
   ]
  },
  {
   "cell_type": "code",
   "execution_count": null,
   "metadata": {},
   "outputs": [],
   "source": [
    "raw_dataset.plot(kind='scatter', x = 'Customer_Age', y='Months_on_book', alpha=0.1)"
   ]
  },
  {
   "cell_type": "markdown",
   "metadata": {},
   "source": [
    "In questa fase di sperimentazione posso definire delle proprieta' che combinano le proprieta' iniziali.\n",
    "\n",
    "Per esempio definiamo l'ammontare medio di una transazione engli ultimi 12 mesi."
   ]
  },
  {
   "cell_type": "code",
   "execution_count": null,
   "metadata": {},
   "outputs": [],
   "source": [
    "raw_dataset['Avg_transaction'] = raw_dataset['Total_Trans_Amt']/raw_dataset['Total_Trans_Ct']"
   ]
  },
  {
   "cell_type": "markdown",
   "metadata": {},
   "source": [
    "..e ne visualizziamo la distribuzione."
   ]
  },
  {
   "cell_type": "code",
   "execution_count": null,
   "metadata": {},
   "outputs": [],
   "source": [
    "raw_dataset['Avg_transaction'].hist()"
   ]
  }
 ],
 "metadata": {
  "kernelspec": {
   "display_name": "Python 3",
   "language": "python",
   "name": "python3"
  },
  "language_info": {
   "codemirror_mode": {
    "name": "ipython",
    "version": 3
   },
   "file_extension": ".py",
   "mimetype": "text/x-python",
   "name": "python",
   "nbconvert_exporter": "python",
   "pygments_lexer": "ipython3",
   "version": "3.8.6"
  }
 },
 "nbformat": 4,
 "nbformat_minor": 4
}
