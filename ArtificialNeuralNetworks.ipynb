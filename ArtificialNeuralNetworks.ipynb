{
 "cells": [
  {
   "cell_type": "code",
   "execution_count": 1,
   "metadata": {},
   "outputs": [],
   "source": [
    "import os\n",
    "\n",
    "import time\n",
    "\n",
    "import numpy as np\n",
    "import pandas as pd\n",
    "from scipy.stats import reciprocal\n",
    "\n",
    "import matplotlib.pyplot as plt\n",
    "%matplotlib inline\n",
    "\n",
    "from sklearn.model_selection import RandomizedSearchCV\n",
    "\n",
    "#Dataset\n",
    "from sklearn.datasets import fetch_california_housing\n",
    "from sklearn.model_selection import train_test_split\n",
    "from sklearn.preprocessing import StandardScaler"
   ]
  },
  {
   "cell_type": "markdown",
   "metadata": {},
   "source": [
    "# Artificial Neural Networks\n",
    "\n",
    "L'introduzione delle reti neurali artificiali e' datata al 1943, anno in cui McCulloch e Pitts presentano il primo modello computazionale ispirato al neurone.<br>\n",
    "Attualmente hanno guadagnato notevole interesse per diversi motivi contigenti:\n",
    "- enormi quantita' di dati per l'addestramento\n",
    "- aumento della capacita' computazionale per supportare il training di grandi ANN. Da sottolineare il contributo dall'industria del gaming con l'introduzione di GPU - graphical processing unit - e lo sviluppo di architetture ad hoc come TPU, FPGA o chip neuromorfici.\n",
    "- progressi negli algoritmi di apprendimento ed ottimizzazione\n",
    "\n",
    "Il perceptron e' la piu' semplice architettura ANN ed e' basato su una singola linear threshold unit - LTU.\n",
    "$$y_{\\mathbf{w}}(\\mathbf{x}) = \\phi(\\mathbf{w}^T\\mathbf{x})$$\n",
    "dove $\\phi$ puo' essere una funzione di Heaviside oppure una funzione segno:\n",
    "$$ hs(x) = \n",
    "\\begin{cases}\n",
    "    0 & \\text{se } x<0\\\\\n",
    "    1 & \\text{se} x \\geq 0\n",
    "\\end{cases}\n",
    "\\hspace{1cm}\n",
    "sgn(x) = \n",
    "\\begin{cases}\n",
    "    -1 & \\text{se } x<0\\\\\n",
    "    0 & \\text{se} x == 0\\\\\n",
    "    1 & \\text{se} x\\geq 0\n",
    "\\end{cases}\n",
    "$$\n",
    "\n",
    "In general un perceptron puo' essere composto da una sequenza di LTU - **layer** - dove ogni LTU di un layer e' connessa ad ogni LTU del layer precedente. In questo caso si parla di **fully connected** o **dense layer**. \n",
    "![](perceptron_layer.png)\n",
    "\n",
    "Nella figura vediamo come il bias venga inserito nell'**input layer** come unita' con valore 1.\n",
    "\n",
    "E' possibile formulare la seguente architettura in termini matriciali, considerando l'intero feature matrix o matrice delle istanze $\\mathbf{X}$:\n",
    "$$y_{\\mathbf{W,b}}(\\mathbf{X}) = \\phi(\\mathbf{XW} + \\mathbf{b})$$\n",
    "\n",
    "dove $\\phi$ indica una generica **activation function**.\n",
    "\n",
    "La fase di learning del perceptron utilizza il gradiente discendente, il quale e' ispirato a *Hebbian learning* - la forza della connessione tra due neuroni aumenta quando uno dei due \"innesca\" o \"stimola\" il secondo. Nel caos del perceptron vengono rafforzate i pesi delle connessioni che riducono l'errore di predizione.\n",
    "\n",
    "Sulla base dell'architettura del perceptron si possono creare architetture piu' complesse \"impilando\" diversi dense layers; definendo quindi un **Multilayer Perceptron - MLP**.\n",
    "![](mlp.png)\n",
    "\n",
    "L'elemento caratterizzante questa architettura e' la presenza di 1 o piu' livelli nascosti - **hidden layers**. Ogni hidden layer include anche un'unita di bias.<br>\n",
    "Quando gli hidden layer sono molti si parla di architettura **deep neural network - DNN**. \n",
    "\n",
    "L'utilizzo di un'architettura deep e' resa computazionalmente ammissibile dall'algoritmo di backpropagation (1986) che permette di aggiornare i pesi di tutti i livelli mediante due scansioni della rete: una forward e una backward secondo un approccio di tipo Gradient Descent.\n",
    "\n",
    "Rispetto alla LTU del perceptron viene introdotta un'ulteriore modifica per evitare che il gradiente venga posto a 0 - heaviside e sgn hanno gradiente 0. Le alternative per definire la funzione di attivazione $\\phi$ sono molteplici, tuttavia in pratica vengono utilizzate prevalentemente 3 funzioni:\n",
    "- sigmoid: $\\phi(x) = 1 / (1 + exp(-x))$\n",
    "- hyperbolic tangent: $\\phi(x) = tanh(x)$\n",
    "- ReLU - Rectified Linear Unit: $\\phi(x) = max(0,x)$. Non e' differenziabile in 0 ma e' diventata lo standard de facto per performance e facilita' di computazione.\n",
    "\n",
    "Le activation funciont sono fondamentali nelle architetture DNN perche' introducono la non-linearita'; senza activation function non lineari la composizione dei layer restituirebbe una funzione lineare in quanto ogni layer e' una funzione lineare $\\mathbf{w}^T\\mathbf{x}$."
   ]
  },
  {
   "cell_type": "markdown",
   "metadata": {},
   "source": [
    "### MLP for Regression\n",
    "Per applicare MLP ad un problema di regressione necessitiamo di una singola unita' di output che restituisce un valore reale, il valore predetto. E' possibile aggiungere altre unita' di output di tipo reale in caso di regressione multivariata - predico piu' valori associati ad una nuova istanza. <br>\n",
    "Nel caso di regressione l'activation function non e' necessaria tuttavia, posso utilizzare alcune funzioni se voglio garantire alcune condizioni sull'output:\n",
    "- output positivo: ReLU, softplus $\\phi(x)=log(1+exp(x))$\n",
    "- insieme limitato: logistic o $tanh$\n",
    "Come loss function si possono utilizzare MSE - mean squared error, MAE - mean absolute error oppure Huber loss.\n",
    "\n",
    "### MLP for Classification\n",
    "Per un problema di classificazione binaria e' necessaria una sola unita' di output tra 0 e 1 - probabilita' della classe positiva. Per gestire un problema di multiclass classification viene inserita un'unita' di output per ogni classe a cui applicare una funzione di attivazione softmax. Se $\\mathbf{s}(\\mathbf{x})$ e' il vettore che in posizione $k$ contiene lo score assegnato alla classe $k$, cioe' output della $k$-esima unita' di output, la softmax function di $\\mathbf{s}_k(\\mathbf{x})$ e' data da:\n",
    "$$\\sigma(\\mathbf{s}(\\mathbf{x})_k))=\\frac{exp(\\mathbf{s}_k(\\mathbf{x}))}{\\sum_{j=1}^K exp(\\mathbf{s}_j(\\mathbf{x}))}$$\n",
    "e la classe predetta corrisonde al valore di $k$ con softmax function piu' elevata.<br>\n",
    "Come loss function si utilizza la cross-entropy loss"
   ]
  },
  {
   "cell_type": "markdown",
   "metadata": {},
   "source": [
    "## Implementing MLPs with Keras\n",
    "Keras (https://keras.io/) e' un API di alto livello per il deep learning che permette di definire, addestrare e valutare qualsiasi architettura di tipo ANN.\n",
    "\n",
    "Keras si basa su un backend per la computazione che puo' essere TensorFlow, CNTK o Theano. Tuttavia, TensorFlow viene rilasciato con un'implementazione di Keras a cui si aggiungono delle funzionalita' extra.\n",
    "\n",
    "In questo notebook utilizzeremo l'implementazione delle API di Keras rilasciata in TensorFlow."
   ]
  },
  {
   "cell_type": "code",
   "execution_count": 2,
   "metadata": {},
   "outputs": [],
   "source": [
    "from tensorflow import keras"
   ]
  },
  {
   "cell_type": "markdown",
   "metadata": {},
   "source": [
    "Come esempio applicativo utilizziamo un dataset simile al MNIST, ma relativo ad immagini di capi di abbigliamento a cui e' stata assegnata una label indicante il tipo di capo. Affrontiamo quindi un problema di classificazione multiclasse."
   ]
  },
  {
   "cell_type": "code",
   "execution_count": 4,
   "metadata": {},
   "outputs": [
    {
     "name": "stdout",
     "output_type": "stream",
     "text": [
      "Downloading data from https://storage.googleapis.com/tensorflow/tf-keras-datasets/train-labels-idx1-ubyte.gz\n",
      "32768/29515 [=================================] - 0s 1us/step\n",
      "Downloading data from https://storage.googleapis.com/tensorflow/tf-keras-datasets/train-images-idx3-ubyte.gz\n",
      "26427392/26421880 [==============================] - 3s 0us/step\n",
      "Downloading data from https://storage.googleapis.com/tensorflow/tf-keras-datasets/t10k-labels-idx1-ubyte.gz\n",
      "8192/5148 [===============================================] - 0s 0s/step\n",
      "Downloading data from https://storage.googleapis.com/tensorflow/tf-keras-datasets/t10k-images-idx3-ubyte.gz\n",
      "4423680/4422102 [==============================] - 1s 0us/step\n"
     ]
    },
    {
     "data": {
      "text/plain": [
       "((60000, 28, 28), (10000, 28, 28))"
      ]
     },
     "execution_count": 4,
     "metadata": {},
     "output_type": "execute_result"
    }
   ],
   "source": [
    "(X_train_full, y_train_full),(X_test, y_test) = keras.datasets.fashion_mnist.load_data()\n",
    "X_train_full.shape, X_test.shape"
   ]
  },
  {
   "cell_type": "markdown",
   "metadata": {},
   "source": [
    "Su questo dataset, estraiamo un validation set dal training set e rilascaliamo le immagini."
   ]
  },
  {
   "cell_type": "code",
   "execution_count": 5,
   "metadata": {},
   "outputs": [],
   "source": [
    "X_valid, X_train = X_train_full[:5000] / 255., X_train_full[5000:] / 255.\n",
    "y_valid, y_train = y_train_full[:5000], y_train_full[5000:]"
   ]
  },
  {
   "cell_type": "code",
   "execution_count": 38,
   "metadata": {},
   "outputs": [
    {
     "data": {
      "text/plain": [
       "((55000, 28, 28), (5000, 28, 28))"
      ]
     },
     "execution_count": 38,
     "metadata": {},
     "output_type": "execute_result"
    }
   ],
   "source": [
    "X_train.shape, X_valid.shape"
   ]
  },
  {
   "cell_type": "code",
   "execution_count": 6,
   "metadata": {},
   "outputs": [],
   "source": [
    "class_names = [\"T-shirt/top\", \"Trouser\", \"Pullover\", \"Dress\", \"Coat\", \"Sandal\", \"Shirt\", \"Sneaker\", \"Bag\", \"Ankle boot\"]"
   ]
  },
  {
   "cell_type": "code",
   "execution_count": 7,
   "metadata": {},
   "outputs": [
    {
     "data": {
      "image/png": "[encoded data removed]",
      "text/plain": [
       "<Figure size 432x288 with 1 Axes>"
      ]
     },
     "metadata": {
      "needs_background": "light"
     },
     "output_type": "display_data"
    },
    {
     "data": {
      "text/plain": [
       "'Sneaker'"
      ]
     },
     "execution_count": 7,
     "metadata": {},
     "output_type": "execute_result"
    }
   ],
   "source": [
    "plt.imshow(X_train[2], cmap=\"binary\")\n",
    "plt.axis('off')\n",
    "plt.show()\n",
    "class_names[y_train[2]]"
   ]
  },
  {
   "cell_type": "markdown",
   "metadata": {},
   "source": [
    "### Creazione del modello MLP"
   ]
  },
  {
   "cell_type": "code",
   "execution_count": 8,
   "metadata": {},
   "outputs": [],
   "source": [
    "model = keras.models.Sequential([\n",
    "    keras.layers.Flatten(input_shape=[28, 28]),\n",
    "    keras.layers.Dense(300, activation=\"relu\"),\n",
    "    keras.layers.Dense(100, activation=\"relu\"),\n",
    "    keras.layers.Dense(10, activation=\"softmax\")\n",
    "])"
   ]
  },
  {
   "cell_type": "markdown",
   "metadata": {},
   "source": [
    "Abbiamo creato un modello di tipo **Sequential** - uno dei piu' semplici - in cui i livelli sono messi in sequenza. Stiamo quindi impilando gli hidden layer secondo l'architettura MLP. Il primo livello - quello di input - e' modellato da un oggetto **Flatten** che converte l'input originario (matrice 28x28) in un vettore, linearizzando o flattenizzando la matrice dell'immagine. Attraverso il parametro **input_shape** specifico la dimensionalita' dell'input, cioe' il numero di feature di ogni istanza.\n",
    "\n",
    "Viene aggiunto un hidden layer di tipo fully connected mediante la creazione di un oggetto **Dense**. Devo specificare quante unita' compongono il livello e quale funzione di attivazione utilizzare.\n",
    "\n",
    "Dopo aver aggiunto un ulteriore hidden layer contenente 100 unita' e funzione di attivazione ReLU, viene aggiunto il livello di output. Dal momento che il numero di classi e' 10 e siamo in un contesto di multiclass classification posso utilizzare softmax come funzione di attivazione, in modo da ottenere un singolo input.\n",
    "\n",
    "NB: Ogni livello gestisce la sua matrice dei pesi $\\mathbf{W}$ e il vettore dei bias $\\mathbf{b}$. Tali elementi possono essere ottenuti mediante il metodo **get_weights**"
   ]
  },
  {
   "cell_type": "code",
   "execution_count": 9,
   "metadata": {},
   "outputs": [],
   "source": [
    "W_h1, b_h1 = model.layers[1].get_weights()"
   ]
  },
  {
   "cell_type": "code",
   "execution_count": 21,
   "metadata": {},
   "outputs": [
    {
     "data": {
      "text/plain": [
       "(array([[-0.02966851,  0.06497736, -0.03102705, ...,  0.02661753,\n",
       "         -0.03735466,  0.05685103],\n",
       "        [-0.00971091, -0.02967479,  0.01740143, ...,  0.01935496,\n",
       "         -0.00887664,  0.067968  ],\n",
       "        [ 0.02080519, -0.0449068 ,  0.06666592, ...,  0.05642565,\n",
       "         -0.04088403, -0.05875728],\n",
       "        ...,\n",
       "        [-0.00314967, -0.03852612, -0.05186538, ..., -0.07165267,\n",
       "         -0.05047796, -0.03949234],\n",
       "        [-0.06030037,  0.03175658,  0.00421286, ..., -0.03754115,\n",
       "         -0.06017287, -0.00452667],\n",
       "        [-0.07061649, -0.00258705, -0.03754215, ...,  0.06227942,\n",
       "         -0.04031346, -0.00485733]], dtype=float32),\n",
       " (784, 300),\n",
       " array([0., 0., 0., 0., 0., 0., 0., 0., 0., 0., 0., 0., 0., 0., 0., 0., 0.,\n",
       "        0., 0., 0., 0., 0., 0., 0., 0., 0., 0., 0., 0., 0., 0., 0., 0., 0.,\n",
       "        0., 0., 0., 0., 0., 0., 0., 0., 0., 0., 0., 0., 0., 0., 0., 0., 0.,\n",
       "        0., 0., 0., 0., 0., 0., 0., 0., 0., 0., 0., 0., 0., 0., 0., 0., 0.,\n",
       "        0., 0., 0., 0., 0., 0., 0., 0., 0., 0., 0., 0., 0., 0., 0., 0., 0.,\n",
       "        0., 0., 0., 0., 0., 0., 0., 0., 0., 0., 0., 0., 0., 0., 0., 0., 0.,\n",
       "        0., 0., 0., 0., 0., 0., 0., 0., 0., 0., 0., 0., 0., 0., 0., 0., 0.,\n",
       "        0., 0., 0., 0., 0., 0., 0., 0., 0., 0., 0., 0., 0., 0., 0., 0., 0.,\n",
       "        0., 0., 0., 0., 0., 0., 0., 0., 0., 0., 0., 0., 0., 0., 0., 0., 0.,\n",
       "        0., 0., 0., 0., 0., 0., 0., 0., 0., 0., 0., 0., 0., 0., 0., 0., 0.,\n",
       "        0., 0., 0., 0., 0., 0., 0., 0., 0., 0., 0., 0., 0., 0., 0., 0., 0.,\n",
       "        0., 0., 0., 0., 0., 0., 0., 0., 0., 0., 0., 0., 0., 0., 0., 0., 0.,\n",
       "        0., 0., 0., 0., 0., 0., 0., 0., 0., 0., 0., 0., 0., 0., 0., 0., 0.,\n",
       "        0., 0., 0., 0., 0., 0., 0., 0., 0., 0., 0., 0., 0., 0., 0., 0., 0.,\n",
       "        0., 0., 0., 0., 0., 0., 0., 0., 0., 0., 0., 0., 0., 0., 0., 0., 0.,\n",
       "        0., 0., 0., 0., 0., 0., 0., 0., 0., 0., 0., 0., 0., 0., 0., 0., 0.,\n",
       "        0., 0., 0., 0., 0., 0., 0., 0., 0., 0., 0., 0., 0., 0., 0., 0., 0.,\n",
       "        0., 0., 0., 0., 0., 0., 0., 0., 0., 0., 0.], dtype=float32),\n",
       " (300,))"
      ]
     },
     "execution_count": 21,
     "metadata": {},
     "output_type": "execute_result"
    }
   ],
   "source": [
    "W_h1, W_h1.shape, b_h1, b_h1.shape"
   ]
  },
  {
   "cell_type": "markdown",
   "metadata": {},
   "source": [
    "La matrice dei pesi di ogni layer viene inizializzata in modo casuale, mentre il vettore dei bias viene inizializzato con 0. E' possibile modificare questo comportamento tramite gli argomenti **set_kernel_initializer** e **bias_initializer**.\n",
    "\n",
    "\n",
    "Il metodo **summary** visualizza tutti i livelli del modello e fornisce alcune informazioni sulla dimensione dei livelli e il numero di parametri del modello. Mentre l'attributo **layers** permettere di accedere ad un singolo livello."
   ]
  },
  {
   "cell_type": "code",
   "execution_count": 10,
   "metadata": {},
   "outputs": [
    {
     "name": "stdout",
     "output_type": "stream",
     "text": [
      "Model: \"sequential\"\n",
      "_________________________________________________________________\n",
      "Layer (type)                 Output Shape              Param #   \n",
      "=================================================================\n",
      "flatten (Flatten)            (None, 784)               0         \n",
      "_________________________________________________________________\n",
      "dense (Dense)                (None, 300)               235500    \n",
      "_________________________________________________________________\n",
      "dense_1 (Dense)              (None, 100)               30100     \n",
      "_________________________________________________________________\n",
      "dense_2 (Dense)              (None, 10)                1010      \n",
      "=================================================================\n",
      "Total params: 266,610\n",
      "Trainable params: 266,610\n",
      "Non-trainable params: 0\n",
      "_________________________________________________________________\n"
     ]
    }
   ],
   "source": [
    "model.summary()"
   ]
  },
  {
   "cell_type": "markdown",
   "metadata": {},
   "source": [
    "Il modello ha 266,610 parametri, e' flessibile ma incline all'overfitting. Abbiamo bisogno di avere molti dati di training."
   ]
  },
  {
   "cell_type": "markdown",
   "metadata": {},
   "source": [
    "### Compilazione del modello\n",
    "Dopo la creazione di un modello devo specificare la funzione di loss e l'algoritmo di ottimizzazione, ed eventualmente le metriche di performance da utilizzare. Il metodo **compile** viene invocato per questi scopi"
   ]
  },
  {
   "cell_type": "code",
   "execution_count": 11,
   "metadata": {},
   "outputs": [],
   "source": [
    "model.compile(loss = 'sparse_categorical_crossentropy',\n",
    "              optimizer = 'sgd',\n",
    "              metrics =  ['accuracy']\n",
    "             )"
   ]
  },
  {
   "cell_type": "markdown",
   "metadata": {},
   "source": [
    "### Training\n",
    "Il training del modello avviene invocando il metodo **fit**. Richiede il training set e il relativo label vector, il numero di epoche (quante volte devo scansionare tutto il training set). Posso passare anche un validation set in modo da verificare come il modello si comporta su dati \"nuovi\" attraverso l'argomento **validation_data**.\n",
    "\n",
    "Per definire un validation set posso utilizzare il parametro **validation_split** che indica la percentuale di istanze da inserire nel validation set. \n",
    "\n",
    "Nel caso la distribuzione delle classi non sia bilanciata possiamo applicare un vettore di pesi alle classi in modo da dare piu' peso alle classi sottorappresentate."
   ]
  },
  {
   "cell_type": "code",
   "execution_count": 12,
   "metadata": {},
   "outputs": [
    {
     "name": "stdout",
     "output_type": "stream",
     "text": [
      "(55000, 28, 28) (5000, 28, 28)\n",
      "Epoch 1/30\n",
      "1719/1719 [==============================] - 5s 3ms/step - loss: 0.7076 - accuracy: 0.7675 - val_loss: 0.4990 - val_accuracy: 0.8338\n",
      "Epoch 2/30\n",
      "1719/1719 [==============================] - 5s 3ms/step - loss: 0.4883 - accuracy: 0.8302 - val_loss: 0.4522 - val_accuracy: 0.8470\n",
      "Epoch 3/30\n",
      "1719/1719 [==============================] - 5s 3ms/step - loss: 0.4441 - accuracy: 0.8442 - val_loss: 0.4361 - val_accuracy: 0.8452\n",
      "Epoch 4/30\n",
      "1719/1719 [==============================] - 5s 3ms/step - loss: 0.4179 - accuracy: 0.8541 - val_loss: 0.4309 - val_accuracy: 0.8420\n",
      "Epoch 5/30\n",
      "1719/1719 [==============================] - 5s 3ms/step - loss: 0.3978 - accuracy: 0.8601 - val_loss: 0.3871 - val_accuracy: 0.8656\n",
      "Epoch 6/30\n",
      "1719/1719 [==============================] - 5s 3ms/step - loss: 0.3821 - accuracy: 0.8646 - val_loss: 0.3689 - val_accuracy: 0.8686\n",
      "Epoch 7/30\n",
      "1719/1719 [==============================] - 5s 3ms/step - loss: 0.3680 - accuracy: 0.8693 - val_loss: 0.3600 - val_accuracy: 0.8728\n",
      "Epoch 8/30\n",
      "1719/1719 [==============================] - 5s 3ms/step - loss: 0.3549 - accuracy: 0.8729 - val_loss: 0.3823 - val_accuracy: 0.8602\n",
      "Epoch 9/30\n",
      "1719/1719 [==============================] - 5s 3ms/step - loss: 0.3461 - accuracy: 0.8762 - val_loss: 0.3803 - val_accuracy: 0.8648\n",
      "Epoch 10/30\n",
      "1719/1719 [==============================] - 5s 3ms/step - loss: 0.3359 - accuracy: 0.8791 - val_loss: 0.3457 - val_accuracy: 0.8776\n",
      "Epoch 11/30\n",
      "1719/1719 [==============================] - 5s 3ms/step - loss: 0.3275 - accuracy: 0.8821 - val_loss: 0.3341 - val_accuracy: 0.8802\n",
      "Epoch 12/30\n",
      "1719/1719 [==============================] - 5s 3ms/step - loss: 0.3191 - accuracy: 0.8850 - val_loss: 0.3403 - val_accuracy: 0.8802\n",
      "Epoch 13/30\n",
      "1719/1719 [==============================] - 5s 3ms/step - loss: 0.3117 - accuracy: 0.8878 - val_loss: 0.3321 - val_accuracy: 0.8844\n",
      "Epoch 14/30\n",
      "1719/1719 [==============================] - 5s 3ms/step - loss: 0.3054 - accuracy: 0.8892 - val_loss: 0.3261 - val_accuracy: 0.8806\n",
      "Epoch 15/30\n",
      "1719/1719 [==============================] - 5s 3ms/step - loss: 0.2988 - accuracy: 0.8915 - val_loss: 0.3238 - val_accuracy: 0.8852\n",
      "Epoch 16/30\n",
      "1719/1719 [==============================] - 5s 3ms/step - loss: 0.2924 - accuracy: 0.8943 - val_loss: 0.3444 - val_accuracy: 0.8768\n",
      "Epoch 17/30\n",
      "1719/1719 [==============================] - 5s 3ms/step - loss: 0.2875 - accuracy: 0.8954 - val_loss: 0.3216 - val_accuracy: 0.8854\n",
      "Epoch 18/30\n",
      "1719/1719 [==============================] - 5s 3ms/step - loss: 0.2811 - accuracy: 0.8990 - val_loss: 0.3124 - val_accuracy: 0.8908\n",
      "Epoch 19/30\n",
      "1719/1719 [==============================] - 5s 3ms/step - loss: 0.2763 - accuracy: 0.8997 - val_loss: 0.3186 - val_accuracy: 0.8886\n",
      "Epoch 20/30\n",
      "1719/1719 [==============================] - 5s 3ms/step - loss: 0.2715 - accuracy: 0.9027 - val_loss: 0.3101 - val_accuracy: 0.8870\n",
      "Epoch 21/30\n",
      "1719/1719 [==============================] - 5s 3ms/step - loss: 0.2667 - accuracy: 0.9034 - val_loss: 0.3177 - val_accuracy: 0.8860\n",
      "Epoch 22/30\n",
      "1719/1719 [==============================] - 5s 3ms/step - loss: 0.2615 - accuracy: 0.9049 - val_loss: 0.3079 - val_accuracy: 0.8924\n",
      "Epoch 23/30\n",
      "1719/1719 [==============================] - 5s 3ms/step - loss: 0.2585 - accuracy: 0.9065 - val_loss: 0.3041 - val_accuracy: 0.8928\n",
      "Epoch 24/30\n",
      "1719/1719 [==============================] - 4s 3ms/step - loss: 0.2529 - accuracy: 0.9083 - val_loss: 0.3396 - val_accuracy: 0.8746\n",
      "Epoch 25/30\n",
      "1719/1719 [==============================] - 4s 3ms/step - loss: 0.2490 - accuracy: 0.9096 - val_loss: 0.3250 - val_accuracy: 0.8846\n",
      "Epoch 26/30\n",
      "1719/1719 [==============================] - 4s 3ms/step - loss: 0.2457 - accuracy: 0.9104 - val_loss: 0.3149 - val_accuracy: 0.8860\n",
      "Epoch 27/30\n",
      "1719/1719 [==============================] - 5s 3ms/step - loss: 0.2405 - accuracy: 0.9126 - val_loss: 0.2943 - val_accuracy: 0.8926\n",
      "Epoch 28/30\n",
      "1719/1719 [==============================] - 5s 3ms/step - loss: 0.2373 - accuracy: 0.9136 - val_loss: 0.3028 - val_accuracy: 0.8900\n",
      "Epoch 29/30\n",
      "1719/1719 [==============================] - 5s 3ms/step - loss: 0.2328 - accuracy: 0.9156 - val_loss: 0.3232 - val_accuracy: 0.8868\n",
      "Epoch 30/30\n",
      "1719/1719 [==============================] - 5s 3ms/step - loss: 0.2297 - accuracy: 0.9167 - val_loss: 0.2971 - val_accuracy: 0.8956\n"
     ]
    }
   ],
   "source": [
    "print(X_train.shape, X_valid.shape)\n",
    "history = model.fit(X_train, y_train,\n",
    "          epochs=30,\n",
    "          validation_data=(X_valid,y_valid)\n",
    "         )"
   ]
  },
  {
   "cell_type": "markdown",
   "metadata": {},
   "source": [
    "L'oggetto **History** restituito dal metodo fit contiene i parametri di training (**.params**), la lista delle epoche (**.epoch**) e un dict con i valori della loss function e delle metriche di performance sul training e validation set per ogni epoca."
   ]
  },
  {
   "cell_type": "code",
   "execution_count": 13,
   "metadata": {},
   "outputs": [
    {
     "data": {
      "text/plain": [
       "({'verbose': 1, 'epochs': 30, 'steps': 1719},\n",
       " [0,\n",
       "  1,\n",
       "  2,\n",
       "  3,\n",
       "  4,\n",
       "  5,\n",
       "  6,\n",
       "  7,\n",
       "  8,\n",
       "  9,\n",
       "  10,\n",
       "  11,\n",
       "  12,\n",
       "  13,\n",
       "  14,\n",
       "  15,\n",
       "  16,\n",
       "  17,\n",
       "  18,\n",
       "  19,\n",
       "  20,\n",
       "  21,\n",
       "  22,\n",
       "  23,\n",
       "  24,\n",
       "  25,\n",
       "  26,\n",
       "  27,\n",
       "  28,\n",
       "  29])"
      ]
     },
     "execution_count": 13,
     "metadata": {},
     "output_type": "execute_result"
    }
   ],
   "source": [
    "history.params, history.epoch"
   ]
  },
  {
   "cell_type": "code",
   "execution_count": 14,
   "metadata": {},
   "outputs": [
    {
     "data": {
      "image/png": "[encoded data removed]",
      "text/plain": [
       "<Figure size 864x288 with 1 Axes>"
      ]
     },
     "metadata": {
      "needs_background": "light"
     },
     "output_type": "display_data"
    }
   ],
   "source": [
    "pd.DataFrame(history.history).plot(figsize=(12,4))\n",
    "plt.grid(True)"
   ]
  },
  {
   "cell_type": "markdown",
   "metadata": {},
   "source": [
    "Osserviamo un po' di overfitting.\n",
    "\n",
    "Nel caso venga invocato nuovamente il metodo fit, senza ricreare il modello, il processo di training riprende dall'ultimo stato dei parametri.\n",
    "\n",
    "Per valutare il modello appresso sul test set utilizziamo il metodo **evaluate**."
   ]
  },
  {
   "cell_type": "code",
   "execution_count": 16,
   "metadata": {},
   "outputs": [
    {
     "name": "stdout",
     "output_type": "stream",
     "text": [
      "313/313 [==============================] - 1s 3ms/step - loss: 84.9280 - accuracy: 0.8212\n"
     ]
    },
    {
     "data": {
      "text/plain": [
       "[84.92796325683594, 0.8212000131607056]"
      ]
     },
     "execution_count": 16,
     "metadata": {},
     "output_type": "execute_result"
    }
   ],
   "source": [
    "model.evaluate(X_test, y_test)"
   ]
  },
  {
   "cell_type": "markdown",
   "metadata": {},
   "source": [
    "Mediante il metodo **predict** eseguiamo una predizione circa una nuova istanza."
   ]
  },
  {
   "cell_type": "code",
   "execution_count": 18,
   "metadata": {},
   "outputs": [
    {
     "data": {
      "text/plain": [
       "array([[0., 0., 0., 0., 0., 0., 0., 0., 0., 1.],\n",
       "       [0., 0., 1., 0., 0., 0., 0., 0., 0., 0.],\n",
       "       [0., 1., 0., 0., 0., 0., 0., 0., 0., 0.]], dtype=float32)"
      ]
     },
     "execution_count": 18,
     "metadata": {},
     "output_type": "execute_result"
    }
   ],
   "source": [
    "model.predict(X_test[:3])"
   ]
  },
  {
   "cell_type": "markdown",
   "metadata": {},
   "source": [
    "Se invece voglio ottenere la classe predetta, si utilizza il metodo **predict_classes**.  "
   ]
  },
  {
   "cell_type": "code",
   "execution_count": 21,
   "metadata": {},
   "outputs": [
    {
     "name": "stdout",
     "output_type": "stream",
     "text": [
      "WARNING:tensorflow:From <ipython-input-21-d2054f4546e8>:1: Sequential.predict_classes (from tensorflow.python.keras.engine.sequential) is deprecated and will be removed after 2021-01-01.\n",
      "Instructions for updating:\n",
      "Please use instead:* `np.argmax(model.predict(x), axis=-1)`,   if your model does multi-class classification   (e.g. if it uses a `softmax` last-layer activation).* `(model.predict(x) > 0.5).astype(\"int32\")`,   if your model does binary classification   (e.g. if it uses a `sigmoid` last-layer activation).\n"
     ]
    },
    {
     "data": {
      "text/plain": [
       "array(['Ankle boot', 'Pullover', 'Trouser'], dtype='<U11')"
      ]
     },
     "execution_count": 21,
     "metadata": {},
     "output_type": "execute_result"
    }
   ],
   "source": [
    "np.array(class_names)[model.predict_classes(X_test[:3])]"
   ]
  },
  {
   "cell_type": "markdown",
   "metadata": {},
   "source": [
    "Visto che il metodo è deprecato, seguiamo il consiglio del warning:"
   ]
  },
  {
   "cell_type": "code",
   "execution_count": 26,
   "metadata": {},
   "outputs": [
    {
     "data": {
      "text/plain": [
       "array(['Ankle boot', 'Pullover', 'Trouser'], dtype='<U11')"
      ]
     },
     "execution_count": 26,
     "metadata": {},
     "output_type": "execute_result"
    }
   ],
   "source": [
    "np.array(class_names)[np.argmax(model.predict(X_test[:3]),axis=-1)]"
   ]
  },
  {
   "cell_type": "markdown",
   "metadata": {},
   "source": [
    "## Regression by Sequential API\n",
    "Affrontiamo un problema di regressione utilizzando un'architettura simile.\n",
    "\n",
    "Utilizziamo un dataset in cui siamo interessati a predirre il prezzo di real estate in California"
   ]
  },
  {
   "cell_type": "code",
   "execution_count": 3,
   "metadata": {},
   "outputs": [],
   "source": [
    "housing = fetch_california_housing()\n",
    "\n",
    "X_train_full, X_test, y_train_full, y_test = train_test_split(housing.data, housing.target, random_state=42)\n",
    "X_train, X_valid, y_train, y_valid = train_test_split(X_train_full, y_train_full, random_state=42)\n",
    "\n",
    "scaler = StandardScaler()\n",
    "X_train = scaler.fit_transform(X_train)\n",
    "X_valid = scaler.transform(X_valid)\n",
    "X_test = scaler.transform(X_test)"
   ]
  },
  {
   "cell_type": "markdown",
   "metadata": {},
   "source": [
    "La differenza principale con l'architettura precedente è la presenza di una singola unità di output che non utilizza una funzione di attivazione. Come loss function utilizziamo MSE - mean squared error."
   ]
  },
  {
   "cell_type": "code",
   "execution_count": 28,
   "metadata": {},
   "outputs": [
    {
     "name": "stdout",
     "output_type": "stream",
     "text": [
      "Epoch 1/20\n",
      "363/363 [==============================] - 1s 2ms/step - loss: 1.8096 - val_loss: 0.9276\n",
      "Epoch 2/20\n",
      "363/363 [==============================] - 1s 2ms/step - loss: 0.8117 - val_loss: 0.7210\n",
      "Epoch 3/20\n",
      "363/363 [==============================] - 1s 1ms/step - loss: 0.7064 - val_loss: 0.6624\n",
      "Epoch 4/20\n",
      "363/363 [==============================] - 1s 2ms/step - loss: 0.6611 - val_loss: 0.6486\n",
      "Epoch 5/20\n",
      "363/363 [==============================] - 1s 1ms/step - loss: 0.6283 - val_loss: 0.6064\n",
      "Epoch 6/20\n",
      "363/363 [==============================] - 1s 2ms/step - loss: 0.6017 - val_loss: 0.5780\n",
      "Epoch 7/20\n",
      "363/363 [==============================] - 1s 1ms/step - loss: 0.5796 - val_loss: 0.5464\n",
      "Epoch 8/20\n",
      "363/363 [==============================] - 1s 1ms/step - loss: 0.5606 - val_loss: 0.5918\n",
      "Epoch 9/20\n",
      "363/363 [==============================] - 1s 1ms/step - loss: 0.5450 - val_loss: 0.5618\n",
      "Epoch 10/20\n",
      "363/363 [==============================] - 1s 2ms/step - loss: 0.5312 - val_loss: 0.4960\n",
      "Epoch 11/20\n",
      "363/363 [==============================] - 1s 2ms/step - loss: 0.5192 - val_loss: 0.5154\n",
      "Epoch 12/20\n",
      "363/363 [==============================] - 1s 2ms/step - loss: 0.5085 - val_loss: 0.4946\n",
      "Epoch 13/20\n",
      "363/363 [==============================] - 1s 2ms/step - loss: 0.4993 - val_loss: 0.4659\n",
      "Epoch 14/20\n",
      "363/363 [==============================] - 1s 2ms/step - loss: 0.4907 - val_loss: 0.4703\n",
      "Epoch 15/20\n",
      "363/363 [==============================] - 1s 2ms/step - loss: 0.4830 - val_loss: 0.4501\n",
      "Epoch 16/20\n",
      "363/363 [==============================] - 1s 2ms/step - loss: 0.4763 - val_loss: 0.4440\n",
      "Epoch 17/20\n",
      "363/363 [==============================] - 1s 2ms/step - loss: 0.4699 - val_loss: 0.4400\n",
      "Epoch 18/20\n",
      "363/363 [==============================] - 1s 2ms/step - loss: 0.4645 - val_loss: 0.4371\n",
      "Epoch 19/20\n",
      "363/363 [==============================] - 1s 2ms/step - loss: 0.4593 - val_loss: 0.4282\n",
      "Epoch 20/20\n",
      "363/363 [==============================] - 1s 2ms/step - loss: 0.4545 - val_loss: 0.4227\n",
      "162/162 [==============================] - 0s 1ms/step - loss: 0.4486\n"
     ]
    }
   ],
   "source": [
    "model = keras.models.Sequential([\n",
    "    keras.layers.Dense(30, activation=\"relu\", input_shape=X_train.shape[1:]),\n",
    "    keras.layers.Dense(1)\n",
    "])\n",
    "\n",
    "model.compile(loss=\"mean_squared_error\",\n",
    "              optimizer=keras.optimizers.SGD(lr=1e-3)\n",
    "             )\n",
    "history = model.fit(X_train, y_train,\n",
    "                    epochs=20,\n",
    "                    validation_data=(X_valid, y_valid)\n",
    "                   )\n",
    "mse_test = model.evaluate(X_test, y_test)\n",
    "X_new = X_test[:3]\n",
    "y_pred = model.predict(X_new)"
   ]
  },
  {
   "cell_type": "code",
   "execution_count": 29,
   "metadata": {},
   "outputs": [
    {
     "data": {
      "text/plain": [
       "array([[0.4897409],\n",
       "       [1.5405464],\n",
       "       [3.2732165]], dtype=float32)"
      ]
     },
     "execution_count": 29,
     "metadata": {},
     "output_type": "execute_result"
    }
   ],
   "source": [
    "y_pred"
   ]
  },
  {
   "cell_type": "code",
   "execution_count": 30,
   "metadata": {},
   "outputs": [
    {
     "data": {
      "text/plain": [
       "array([0.477  , 0.458  , 5.00001])"
      ]
     },
     "execution_count": 30,
     "metadata": {},
     "output_type": "execute_result"
    }
   ],
   "source": [
    "y_test[:3]"
   ]
  },
  {
   "cell_type": "markdown",
   "metadata": {},
   "source": [
    "## Complex Models - Functional API\n",
    "Per costruire modelli con topologie più complesse si utilizza **FunctionalAPI**. <br>\n",
    "Si vuole definire un architettura di tipo *Wide and Deep* mostrata in figura:\n",
    "\n",
    "![](wide_deep_1.png)\n",
    "\n",
    "Una parte o tutto il layer di input è connesso direttamente con il layer di output e, allo stesso tempo, il layer di input o parte di esso è alla base di un'architettura MLP deep. In questo modo è possibile apprendere dei pattern più complessi e delle regole più semplici nello stesso momento."
   ]
  },
  {
   "cell_type": "code",
   "execution_count": 31,
   "metadata": {},
   "outputs": [],
   "source": [
    "input_ = keras.layers.Input(shape=X_train.shape[1:])\n",
    "hidden1 = keras.layers.Dense(30, activation=\"relu\")(input_)\n",
    "hidden2 = keras.layers.Dense(30, activation=\"relu\")(hidden1)\n",
    "concat = keras.layers.concatenate([input_, hidden2])\n",
    "output = keras.layers.Dense(1)(concat)\n",
    "model = keras.models.Model(inputs=[input_], outputs=[output])"
   ]
  },
  {
   "cell_type": "markdown",
   "metadata": {},
   "source": [
    "In primis, definiamo l'input layer specificando la dimensione di una singola istanza di input: **shape** e **dtype**. Poi definiamo un hidden layer denso passando il livello di input come argomento di una funzione. In questo modo definiamo una dipendenza funzionale tra hidden layer e input layer ed indichiamo a Keras che i due livelli devono essere connessi.<br>\n",
    "L'elemento di novità è dato dal layer **concatenate**. Questo livello viene generato concatenando i livelli presi come argomento."
   ]
  },
  {
   "cell_type": "code",
   "execution_count": 32,
   "metadata": {},
   "outputs": [
    {
     "name": "stdout",
     "output_type": "stream",
     "text": [
      "Epoch 1/20\n",
      "363/363 [==============================] - 1s 2ms/step - loss: 2.3975 - val_loss: 1.0799\n",
      "Epoch 2/20\n",
      "363/363 [==============================] - 1s 2ms/step - loss: 0.7180 - val_loss: 0.6454\n",
      "Epoch 3/20\n",
      "363/363 [==============================] - 1s 2ms/step - loss: 0.6521 - val_loss: 0.6076\n",
      "Epoch 4/20\n",
      "363/363 [==============================] - 1s 2ms/step - loss: 0.6162 - val_loss: 0.5626\n",
      "Epoch 5/20\n",
      "363/363 [==============================] - 1s 2ms/step - loss: 0.5865 - val_loss: 0.5490\n",
      "Epoch 6/20\n",
      "363/363 [==============================] - 1s 2ms/step - loss: 0.5609 - val_loss: 0.5761\n",
      "Epoch 7/20\n",
      "363/363 [==============================] - 1s 2ms/step - loss: 0.5410 - val_loss: 0.5200\n",
      "Epoch 8/20\n",
      "363/363 [==============================] - 1s 2ms/step - loss: 0.5229 - val_loss: 0.4855\n",
      "Epoch 9/20\n",
      "363/363 [==============================] - 1s 2ms/step - loss: 0.5072 - val_loss: 0.4663\n",
      "Epoch 10/20\n",
      "363/363 [==============================] - 1s 2ms/step - loss: 0.4938 - val_loss: 0.4677\n",
      "Epoch 11/20\n",
      "363/363 [==============================] - 1s 2ms/step - loss: 0.4819 - val_loss: 0.4542\n",
      "Epoch 12/20\n",
      "363/363 [==============================] - 1s 2ms/step - loss: 0.4715 - val_loss: 0.4614\n",
      "Epoch 13/20\n",
      "363/363 [==============================] - 1s 2ms/step - loss: 0.4625 - val_loss: 0.4365\n",
      "Epoch 14/20\n",
      "363/363 [==============================] - 1s 2ms/step - loss: 0.4543 - val_loss: 0.4191\n",
      "Epoch 15/20\n",
      "363/363 [==============================] - 1s 2ms/step - loss: 0.4464 - val_loss: 0.4278\n",
      "Epoch 16/20\n",
      "363/363 [==============================] - 1s 2ms/step - loss: 0.4399 - val_loss: 0.4125\n",
      "Epoch 17/20\n",
      "363/363 [==============================] - 1s 2ms/step - loss: 0.4337 - val_loss: 0.4044\n",
      "Epoch 18/20\n",
      "363/363 [==============================] - 1s 2ms/step - loss: 0.4283 - val_loss: 0.3982\n",
      "Epoch 19/20\n",
      "363/363 [==============================] - ETA: 0s - loss: 0.427 - 1s 2ms/step - loss: 0.4231 - val_loss: 0.4189\n",
      "Epoch 20/20\n",
      "363/363 [==============================] - 1s 2ms/step - loss: 0.4192 - val_loss: 0.3902\n",
      "162/162 [==============================] - 0s 1ms/step - loss: 0.4127\n",
      "0.4127441346645355 [[0.60019404]\n",
      " [1.7839913 ]\n",
      " [3.2653577 ]]\n"
     ]
    }
   ],
   "source": [
    "model.compile(loss=\"mean_squared_error\",\n",
    "              optimizer=keras.optimizers.SGD(lr=1e-3)\n",
    "             )\n",
    "history = model.fit(X_train, y_train,\n",
    "                    epochs=20,\n",
    "                    validation_data=(X_valid, y_valid)\n",
    "                   )\n",
    "mse_test = model.evaluate(X_test, y_test)\n",
    "y_pred = model.predict(X_new)\n",
    "print(mse_test, y_pred)"
   ]
  },
  {
   "cell_type": "markdown",
   "metadata": {},
   "source": [
    "E' anche possibile utilizzare una parte dell'input nel ramo *wide* e una parte di input - anche sovrapposta con la prima - nel ramo *deep*. Come mostrato in figura.\n",
    "\n",
    "![](multi_in_mlp.png)\n",
    "\n",
    "\n",
    "Il precedente modello viene codificato nel seguente modo:"
   ]
  },
  {
   "cell_type": "code",
   "execution_count": 33,
   "metadata": {},
   "outputs": [],
   "source": [
    "input_A = keras.layers.Input(shape=[5], name=\"wide_input\")\n",
    "input_B = keras.layers.Input(shape=[6], name=\"deep_input\")\n",
    "hidden1 = keras.layers.Dense(30, activation=\"relu\")(input_B)\n",
    "hidden2 = keras.layers.Dense(30, activation=\"relu\")(hidden1)\n",
    "concat = keras.layers.concatenate([input_A, hidden2])\n",
    "output = keras.layers.Dense(1, name=\"output\")(concat)\n",
    "model = keras.models.Model(inputs=[input_A, input_B], outputs=[output])"
   ]
  },
  {
   "cell_type": "markdown",
   "metadata": {},
   "source": [
    "La seguente definizione impatta sugli argomenti dei metodo fit, evaluate e predict, dal momento che dobbiamo passare un numero di sottomatrici della feature matrix pari al numero di livelli di input definiti."
   ]
  },
  {
   "cell_type": "code",
   "execution_count": 35,
   "metadata": {},
   "outputs": [
    {
     "name": "stdout",
     "output_type": "stream",
     "text": [
      "Epoch 1/20\n",
      "363/363 [==============================] - 1s 2ms/step - loss: 0.4149 - val_loss: 0.3873\n",
      "Epoch 2/20\n",
      "363/363 [==============================] - 1s 2ms/step - loss: 0.4132 - val_loss: 0.4084\n",
      "Epoch 3/20\n",
      "363/363 [==============================] - 1s 2ms/step - loss: 0.4117 - val_loss: 0.3866\n",
      "Epoch 4/20\n",
      "363/363 [==============================] - 1s 2ms/step - loss: 0.4102 - val_loss: 0.3831\n",
      "Epoch 5/20\n",
      "363/363 [==============================] - 1s 2ms/step - loss: 0.4087 - val_loss: 0.3803\n",
      "Epoch 6/20\n",
      "363/363 [==============================] - 1s 2ms/step - loss: 0.4072 - val_loss: 0.3813\n",
      "Epoch 7/20\n",
      "363/363 [==============================] - 1s 2ms/step - loss: 0.4060 - val_loss: 0.3792\n",
      "Epoch 8/20\n",
      "363/363 [==============================] - 1s 2ms/step - loss: 0.4047 - val_loss: 0.3800\n",
      "Epoch 9/20\n",
      "363/363 [==============================] - 1s 2ms/step - loss: 0.4036 - val_loss: 0.3858\n",
      "Epoch 10/20\n",
      "363/363 [==============================] - 1s 2ms/step - loss: 0.4022 - val_loss: 0.3954\n",
      "Epoch 11/20\n",
      "363/363 [==============================] - 1s 2ms/step - loss: 0.4015 - val_loss: 0.3755\n",
      "Epoch 12/20\n",
      "363/363 [==============================] - 1s 2ms/step - loss: 0.4000 - val_loss: 0.3774\n",
      "Epoch 13/20\n",
      "363/363 [==============================] - 1s 2ms/step - loss: 0.3991 - val_loss: 0.3730\n",
      "Epoch 14/20\n",
      "363/363 [==============================] - 1s 2ms/step - loss: 0.3983 - val_loss: 0.3912\n",
      "Epoch 15/20\n",
      "363/363 [==============================] - 1s 2ms/step - loss: 0.3971 - val_loss: 0.3836\n",
      "Epoch 16/20\n",
      "363/363 [==============================] - 1s 2ms/step - loss: 0.3964 - val_loss: 0.3700\n",
      "Epoch 17/20\n",
      "363/363 [==============================] - 1s 2ms/step - loss: 0.3954 - val_loss: 0.3839\n",
      "Epoch 18/20\n",
      "363/363 [==============================] - 1s 2ms/step - loss: 0.3942 - val_loss: 0.3977\n",
      "Epoch 19/20\n",
      "363/363 [==============================] - 1s 2ms/step - loss: 0.3940 - val_loss: 0.3690\n",
      "Epoch 20/20\n",
      "363/363 [==============================] - 1s 2ms/step - loss: 0.3930 - val_loss: 0.3725\n",
      "162/162 [==============================] - 0s 1ms/step - loss: 0.3911\n",
      "WARNING:tensorflow:5 out of the last 11 calls to <function Model.make_predict_function.<locals>.predict_function at 0x0000024BBC658EE0> triggered tf.function retracing. Tracing is expensive and the excessive number of tracings could be due to (1) creating @tf.function repeatedly in a loop, (2) passing tensors with different shapes, (3) passing Python objects instead of tensors. For (1), please define your @tf.function outside of the loop. For (2), @tf.function has experimental_relax_shapes=True option that relaxes argument shapes that can avoid unnecessary retracing. For (3), please refer to https://www.tensorflow.org/tutorials/customization/performance#python_or_tensor_args and https://www.tensorflow.org/api_docs/python/tf/function for  more details.\n",
      "0.39114031195640564 [[0.61686623]\n",
      " [2.0218587 ]\n",
      " [3.3672397 ]]\n"
     ]
    }
   ],
   "source": [
    "model.compile(loss=\"mse\", \n",
    "              optimizer=keras.optimizers.SGD(lr=1e-3)\n",
    "             )\n",
    "\n",
    "X_train_A, X_train_B = X_train[:, :5], X_train[:, 2:]\n",
    "X_valid_A, X_valid_B = X_valid[:, :5], X_valid[:, 2:]\n",
    "X_test_A, X_test_B = X_test[:, :5], X_test[:, 2:]\n",
    "X_new_A, X_new_B = X_test_A[:3], X_test_B[:3]\n",
    "\n",
    "history = model.fit((X_train_A, X_train_B),\n",
    "                    y_train, epochs=20,\n",
    "                    validation_data=((X_valid_A, X_valid_B), y_valid))\n",
    "mse_test = model.evaluate((X_test_A, X_test_B), y_test)\n",
    "y_pred = model.predict((X_new_A, X_new_B))\n",
    "print(mse_test, y_pred)"
   ]
  },
  {
   "cell_type": "markdown",
   "metadata": {},
   "source": [
    "E' possibile anche definire più output layers, nel caso di multitask classification oppure per inserire un fattore di regolarizzazione. La modalità di aggiunta di livelli di output multipli è analoga a quanto visto in precedenza. Per esempio se volessimo definire il modello mostrato in figura, in cui si applica una regolarizzazione sul ramo *deep*:\n",
    "\n",
    "![](multi_out_mlp.png)\n",
    "\n",
    "Otterremmo il seguente codice:"
   ]
  },
  {
   "cell_type": "code",
   "execution_count": 36,
   "metadata": {},
   "outputs": [],
   "source": [
    "input_A = keras.layers.Input(shape=[5], name=\"wide_input\")\n",
    "input_B = keras.layers.Input(shape=[6], name=\"deep_input\")\n",
    "hidden1 = keras.layers.Dense(30, activation=\"relu\")(input_B)\n",
    "hidden2 = keras.layers.Dense(30, activation=\"relu\")(hidden1)\n",
    "concat = keras.layers.concatenate([input_A, hidden2])\n",
    "output = keras.layers.Dense(1, name=\"main_output\")(concat)\n",
    "aux_output = keras.layers.Dense(1, name=\"aux_output\")(hidden2)\n",
    "model = keras.models.Model(inputs=[input_A, input_B],\n",
    "                           outputs=[output, aux_output])"
   ]
  },
  {
   "cell_type": "markdown",
   "metadata": {},
   "source": [
    "Ogni output layers richiede una specifica loss function.<br>\n",
    "Posso priviligiare il contributo delle diverse loss function mediante il parametro **loss_weight** del metodo compile."
   ]
  },
  {
   "cell_type": "code",
   "execution_count": 37,
   "metadata": {},
   "outputs": [],
   "source": [
    "model.compile(loss=[\"mse\", \"mse\"],\n",
    "              loss_weights=[0.9, 0.1], \n",
    "              optimizer=keras.optimizers.SGD(lr=1e-3)\n",
    "             )"
   ]
  },
  {
   "cell_type": "markdown",
   "metadata": {},
   "source": [
    "Anche in questo caso il numero di label vector passati deve essere uguale al numero di output layer."
   ]
  },
  {
   "cell_type": "code",
   "execution_count": 38,
   "metadata": {},
   "outputs": [
    {
     "name": "stdout",
     "output_type": "stream",
     "text": [
      "Epoch 1/20\n",
      "363/363 [==============================] - 1s 4ms/step - loss: 2.5796 - main_output_loss: 2.4197 - aux_output_loss: 4.0191 - val_loss: 1.2634 - val_main_output_loss: 0.8343 - val_aux_output_loss: 5.1248\n",
      "Epoch 2/20\n",
      "363/363 [==============================] - 1s 2ms/step - loss: 0.8628 - main_output_loss: 0.6842 - aux_output_loss: 2.4707 - val_loss: 1.0841 - val_main_output_loss: 0.6076 - val_aux_output_loss: 5.3723\n",
      "Epoch 3/20\n",
      "363/363 [==============================] - 1s 2ms/step - loss: 0.7297 - main_output_loss: 0.5976 - aux_output_loss: 1.9182 - val_loss: 1.0156 - val_main_output_loss: 0.5601 - val_aux_output_loss: 5.1158\n",
      "Epoch 4/20\n",
      "363/363 [==============================] - 1s 2ms/step - loss: 0.6676 - main_output_loss: 0.5615 - aux_output_loss: 1.6227 - val_loss: 0.9797 - val_main_output_loss: 0.6096 - val_aux_output_loss: 4.3109\n",
      "Epoch 5/20\n",
      "363/363 [==============================] - 1s 2ms/step - loss: 0.6249 - main_output_loss: 0.5350 - aux_output_loss: 1.4340 - val_loss: 0.8900 - val_main_output_loss: 0.5110 - val_aux_output_loss: 4.3009\n",
      "Epoch 6/20\n",
      "363/363 [==============================] - 1s 2ms/step - loss: 0.5943 - main_output_loss: 0.5131 - aux_output_loss: 1.3246 - val_loss: 0.8323 - val_main_output_loss: 0.4945 - val_aux_output_loss: 3.8720\n",
      "Epoch 7/20\n",
      "363/363 [==============================] - 1s 2ms/step - loss: 0.5709 - main_output_loss: 0.4957 - aux_output_loss: 1.2478 - val_loss: 0.7853 - val_main_output_loss: 0.4802 - val_aux_output_loss: 3.5311\n",
      "Epoch 8/20\n",
      "363/363 [==============================] - 1s 2ms/step - loss: 0.5524 - main_output_loss: 0.4815 - aux_output_loss: 1.1904 - val_loss: 0.7837 - val_main_output_loss: 0.5536 - val_aux_output_loss: 2.8547\n",
      "Epoch 9/20\n",
      "363/363 [==============================] - 1s 2ms/step - loss: 0.5384 - main_output_loss: 0.4712 - aux_output_loss: 1.1433 - val_loss: 0.7028 - val_main_output_loss: 0.4566 - val_aux_output_loss: 2.9189\n",
      "Epoch 10/20\n",
      "363/363 [==============================] - 1s 2ms/step - loss: 0.5255 - main_output_loss: 0.4608 - aux_output_loss: 1.1085 - val_loss: 0.6671 - val_main_output_loss: 0.4430 - val_aux_output_loss: 2.6842\n",
      "Epoch 11/20\n",
      "363/363 [==============================] - 1s 2ms/step - loss: 0.5151 - main_output_loss: 0.4528 - aux_output_loss: 1.0758 - val_loss: 0.6369 - val_main_output_loss: 0.4267 - val_aux_output_loss: 2.5282\n",
      "Epoch 12/20\n",
      "363/363 [==============================] - 1s 2ms/step - loss: 0.5065 - main_output_loss: 0.4467 - aux_output_loss: 1.0455 - val_loss: 0.6123 - val_main_output_loss: 0.4178 - val_aux_output_loss: 2.3622\n",
      "Epoch 13/20\n",
      "363/363 [==============================] - 1s 2ms/step - loss: 0.4987 - main_output_loss: 0.4408 - aux_output_loss: 1.0197 - val_loss: 0.5891 - val_main_output_loss: 0.4285 - val_aux_output_loss: 2.0336\n",
      "Epoch 14/20\n",
      "363/363 [==============================] - 1s 2ms/step - loss: 0.4916 - main_output_loss: 0.4360 - aux_output_loss: 0.9923 - val_loss: 0.5666 - val_main_output_loss: 0.4152 - val_aux_output_loss: 1.9293\n",
      "Epoch 15/20\n",
      "363/363 [==============================] - 1s 2ms/step - loss: 0.4854 - main_output_loss: 0.4320 - aux_output_loss: 0.9656 - val_loss: 0.5523 - val_main_output_loss: 0.4029 - val_aux_output_loss: 1.8967\n",
      "Epoch 16/20\n",
      "363/363 [==============================] - 1s 2ms/step - loss: 0.4795 - main_output_loss: 0.4280 - aux_output_loss: 0.9434 - val_loss: 0.5396 - val_main_output_loss: 0.3983 - val_aux_output_loss: 1.8113\n",
      "Epoch 17/20\n",
      "363/363 [==============================] - 1s 2ms/step - loss: 0.4746 - main_output_loss: 0.4249 - aux_output_loss: 0.9213 - val_loss: 0.5209 - val_main_output_loss: 0.3989 - val_aux_output_loss: 1.6192\n",
      "Epoch 18/20\n",
      "363/363 [==============================] - 1s 2ms/step - loss: 0.4702 - main_output_loss: 0.4225 - aux_output_loss: 0.8996 - val_loss: 0.5101 - val_main_output_loss: 0.3940 - val_aux_output_loss: 1.5549\n",
      "Epoch 19/20\n",
      "363/363 [==============================] - 1s 2ms/step - loss: 0.4663 - main_output_loss: 0.4203 - aux_output_loss: 0.8803 - val_loss: 0.5021 - val_main_output_loss: 0.3910 - val_aux_output_loss: 1.5018\n",
      "Epoch 20/20\n",
      "363/363 [==============================] - 1s 2ms/step - loss: 0.4628 - main_output_loss: 0.4185 - aux_output_loss: 0.8615 - val_loss: 0.4926 - val_main_output_loss: 0.3896 - val_aux_output_loss: 1.4196\n"
     ]
    }
   ],
   "source": [
    "history = model.fit([X_train_A, X_train_B],\n",
    "                    [y_train, y_train],\n",
    "                    epochs=20,\n",
    "                    validation_data=([X_valid_A, X_valid_B], [y_valid, y_valid])\n",
    "                   )"
   ]
  },
  {
   "cell_type": "code",
   "execution_count": 39,
   "metadata": {},
   "outputs": [
    {
     "name": "stdout",
     "output_type": "stream",
     "text": [
      "162/162 [==============================] - 0s 1ms/step - loss: 0.4568 - main_output_loss: 0.4151 - aux_output_loss: 0.8328\n",
      "WARNING:tensorflow:6 out of the last 12 calls to <function Model.make_predict_function.<locals>.predict_function at 0x0000024BBC38A3A0> triggered tf.function retracing. Tracing is expensive and the excessive number of tracings could be due to (1) creating @tf.function repeatedly in a loop, (2) passing tensors with different shapes, (3) passing Python objects instead of tensors. For (1), please define your @tf.function outside of the loop. For (2), @tf.function has experimental_relax_shapes=True option that relaxes argument shapes that can avoid unnecessary retracing. For (3), please refer to https://www.tensorflow.org/tutorials/customization/performance#python_or_tensor_args and https://www.tensorflow.org/api_docs/python/tf/function for  more details.\n",
      "0.4568482041358948 0.4150797128677368 0.8327642679214478\n"
     ]
    }
   ],
   "source": [
    "total_loss, main_loss, aux_loss = model.evaluate(\n",
    "    [X_test_A, X_test_B], [y_test, y_test])\n",
    "y_pred_main, y_pred_aux = model.predict([X_new_A, X_new_B])\n",
    "print(total_loss, main_loss, aux_loss)"
   ]
  },
  {
   "cell_type": "markdown",
   "metadata": {},
   "source": [
    "## Saving and Loading a Model\n",
    "Il metodo **save** di Model o di Sequential permette di salvare tutte le componenti di un modello: archiettura, parametri del modello per ogni layer, iperparametri e il metodo di ottimizzazione utilizzato. Il formato utilizzato è HDF5"
   ]
  },
  {
   "cell_type": "code",
   "execution_count": 40,
   "metadata": {},
   "outputs": [],
   "source": [
    "model.save(\"multiin_multiout_test.h5\")"
   ]
  },
  {
   "cell_type": "markdown",
   "metadata": {},
   "source": [
    "Per caricare un modello utilizzo il metodo **load_model**"
   ]
  },
  {
   "cell_type": "code",
   "execution_count": 41,
   "metadata": {},
   "outputs": [],
   "source": [
    "model = keras.models.load_model(\"multiin_multiout_test.h5\")"
   ]
  },
  {
   "cell_type": "markdown",
   "metadata": {},
   "source": [
    "Tuttavia nel caso il processo di training duri molte ore è possibile eseguire dei salvataggi intermedi specificando al momento fit degli oggetti di callback.\n",
    "\n",
    "### Callbacks\n",
    "Il metodo fit accetta un argomento **callbacks** in cui è possibile una lista di oggetti che Keras invoca all'inizio o alla fine del training, all'inizio e/o alla fine di un epoca, all'inizio e/o alla fine di un batch."
   ]
  },
  {
   "cell_type": "code",
   "execution_count": 42,
   "metadata": {},
   "outputs": [],
   "source": [
    "checkpoint_cb = keras.callbacks.ModelCheckpoint(\"simple_mlp.h5\", save_best_only=True)"
   ]
  },
  {
   "cell_type": "markdown",
   "metadata": {},
   "source": [
    "L'oggetto **ModelCheckpoint** salva il modello nel file specificato alla fine di ogni epoca. Nello specifico il salvataggio avviene solo se all'epoca attuale le performance sul validation set sono migliori delle epoche precedenti. "
   ]
  },
  {
   "cell_type": "code",
   "execution_count": 44,
   "metadata": {},
   "outputs": [
    {
     "name": "stdout",
     "output_type": "stream",
     "text": [
      "Epoch 1/10\n",
      "363/363 [==============================] - 1s 2ms/step - loss: 2.2521 - val_loss: 0.9359\n",
      "Epoch 2/10\n",
      "363/363 [==============================] - 1s 2ms/step - loss: 0.7073 - val_loss: 0.6239\n",
      "Epoch 3/10\n",
      "363/363 [==============================] - 1s 2ms/step - loss: 0.6027 - val_loss: 0.5588\n",
      "Epoch 4/10\n",
      "363/363 [==============================] - 1s 2ms/step - loss: 0.5586 - val_loss: 0.5098\n",
      "Epoch 5/10\n",
      "363/363 [==============================] - 1s 2ms/step - loss: 0.5264 - val_loss: 0.4853\n",
      "Epoch 6/10\n",
      "363/363 [==============================] - 1s 2ms/step - loss: 0.5024 - val_loss: 0.4650\n",
      "Epoch 7/10\n",
      "363/363 [==============================] - 1s 2ms/step - loss: 0.4838 - val_loss: 0.4598\n",
      "Epoch 8/10\n",
      "363/363 [==============================] - 1s 2ms/step - loss: 0.4681 - val_loss: 0.4415\n",
      "Epoch 9/10\n",
      "363/363 [==============================] - 1s 2ms/step - loss: 0.4551 - val_loss: 0.4506\n",
      "Epoch 10/10\n",
      "363/363 [==============================] - 1s 2ms/step - loss: 0.4449 - val_loss: 0.4446\n",
      "162/162 [==============================] - 0s 1ms/step - loss: 0.4342\n",
      "0.4341915547847748\n"
     ]
    }
   ],
   "source": [
    "model = keras.models.Sequential([\n",
    "    keras.layers.Dense(30, activation=\"relu\", input_shape=[8]),\n",
    "    keras.layers.Dense(30, activation=\"relu\"),\n",
    "    keras.layers.Dense(1)\n",
    "])\n",
    "\n",
    "model.compile(loss=\"mse\",\n",
    "              optimizer=keras.optimizers.SGD(lr=1e-3)\n",
    "             )\n",
    "\n",
    "history = model.fit(X_train, y_train, epochs=10,\n",
    "                    validation_data=(X_valid, y_valid),\n",
    "                    callbacks=[checkpoint_cb])\n",
    "\n",
    "model = keras.models.load_model(\"simple_mlp.h5\") #carico il modello che best performance su validation set\n",
    "mse_test = model.evaluate(X_test, y_test)\n",
    "print(mse_test)"
   ]
  },
  {
   "cell_type": "markdown",
   "metadata": {},
   "source": [
    "E' possibile implementare, mediante callback, un meccanismo di early stopping, utilizzando la classe **EarlyStopping**. Il processo di training viene interrotto quando non si misurano miglioramenti della loss function sul validation set per un numero specificato di epoche - paramtro **patience**."
   ]
  },
  {
   "cell_type": "code",
   "execution_count": 45,
   "metadata": {},
   "outputs": [
    {
     "name": "stdout",
     "output_type": "stream",
     "text": [
      "Epoch 1/100\n",
      "  1/363 [..............................] - ETA: 0s - loss: 0.2605WARNING:tensorflow:Callbacks method `on_train_batch_begin` is slow compared to the batch time (batch time: 0.0000s vs `on_train_batch_begin` time: 0.0010s). Check your callbacks.\n",
      "363/363 [==============================] - 1s 2ms/step - loss: 0.4342 - val_loss: 0.4382\n",
      "Epoch 2/100\n",
      "363/363 [==============================] - 1s 2ms/step - loss: 0.4260 - val_loss: 0.4108\n",
      "Epoch 3/100\n",
      "363/363 [==============================] - 1s 2ms/step - loss: 0.4199 - val_loss: 0.4191\n",
      "Epoch 4/100\n",
      "363/363 [==============================] - 1s 2ms/step - loss: 0.4147 - val_loss: 0.4283\n",
      "Epoch 5/100\n",
      "363/363 [==============================] - 1s 2ms/step - loss: 0.4109 - val_loss: 0.4086\n",
      "Epoch 6/100\n",
      "363/363 [==============================] - 1s 2ms/step - loss: 0.4059 - val_loss: 0.4008\n",
      "Epoch 7/100\n",
      "363/363 [==============================] - 1s 2ms/step - loss: 0.4039 - val_loss: 0.4022\n",
      "Epoch 8/100\n",
      "363/363 [==============================] - 1s 2ms/step - loss: 0.3999 - val_loss: 0.4163\n",
      "Epoch 9/100\n",
      "363/363 [==============================] - 1s 2ms/step - loss: 0.3979 - val_loss: 0.4067\n",
      "Epoch 10/100\n",
      "363/363 [==============================] - 1s 2ms/step - loss: 0.3953 - val_loss: 0.3904\n",
      "Epoch 11/100\n",
      "363/363 [==============================] - 1s 2ms/step - loss: 0.3918 - val_loss: 0.4201\n",
      "Epoch 12/100\n",
      "363/363 [==============================] - 1s 2ms/step - loss: 0.3898 - val_loss: 0.3968\n",
      "Epoch 13/100\n",
      "363/363 [==============================] - 1s 2ms/step - loss: 0.3877 - val_loss: 0.3799\n",
      "Epoch 14/100\n",
      "363/363 [==============================] - 1s 2ms/step - loss: 0.3857 - val_loss: 0.3737\n",
      "Epoch 15/100\n",
      "363/363 [==============================] - 1s 2ms/step - loss: 0.3839 - val_loss: 0.3849\n",
      "Epoch 16/100\n",
      "363/363 [==============================] - 1s 2ms/step - loss: 0.3828 - val_loss: 0.3770\n",
      "Epoch 17/100\n",
      "363/363 [==============================] - 1s 2ms/step - loss: 0.3809 - val_loss: 0.3973\n",
      "Epoch 18/100\n",
      "363/363 [==============================] - 1s 2ms/step - loss: 0.3790 - val_loss: 0.3854\n",
      "  1/162 [..............................] - ETA: 0s - loss: 0.3287WARNING:tensorflow:Callbacks method `on_test_batch_end` is slow compared to the batch time (batch time: 0.0000s vs `on_test_batch_end` time: 0.0025s). Check your callbacks.\n",
      "162/162 [==============================] - 0s 1ms/step - loss: 0.3858\n"
     ]
    }
   ],
   "source": [
    "model.compile(loss=\"mse\",\n",
    "              optimizer=keras.optimizers.SGD(lr=1e-3)\n",
    "             )\n",
    "\n",
    "early_stopping_cb = keras.callbacks.EarlyStopping(patience=4,\n",
    "                                                  restore_best_weights=True)\n",
    "history = model.fit(X_train, y_train, epochs=100,\n",
    "                    validation_data=(X_valid, y_valid),\n",
    "                    callbacks=[checkpoint_cb, early_stopping_cb])\n",
    "mse_test = model.evaluate(X_test, y_test)"
   ]
  },
  {
   "cell_type": "code",
   "execution_count": 47,
   "metadata": {},
   "outputs": [],
   "source": [
    "model_early = keras.models.load_model('simple_mlp.h5')"
   ]
  },
  {
   "cell_type": "code",
   "execution_count": 49,
   "metadata": {},
   "outputs": [
    {
     "name": "stdout",
     "output_type": "stream",
     "text": [
      "121/121 [==============================] - 0s 1ms/step - loss: 0.3737\n"
     ]
    },
    {
     "data": {
      "text/plain": [
       "0.3736589848995209"
      ]
     },
     "execution_count": 49,
     "metadata": {},
     "output_type": "execute_result"
    }
   ],
   "source": [
    "model_early.evaluate(X_valid,y_valid)"
   ]
  },
  {
   "cell_type": "markdown",
   "metadata": {},
   "source": [
    "## TensorBoard\n",
    "TensorBoard è uno strumento di visualizzazione che permette di osservare le proprietà e le performance del modello definito e appreso in Keras/TensorFlow\n",
    "\n",
    "Per poter utilizzare tale strumento si devono creare dei file binari di log - **event file** - che TB analizza e visualizza\n",
    "\n",
    "Passo 1: Definire una directory che contiene i log per TB."
   ]
  },
  {
   "cell_type": "code",
   "execution_count": 53,
   "metadata": {},
   "outputs": [],
   "source": [
    "def get_run_logdir(root_dir):\n",
    "    return os.path.join(root_dir, time.strftime(\"run_%Y_%m_%d-%H_%M_%S\"))"
   ]
  },
  {
   "cell_type": "code",
   "execution_count": 55,
   "metadata": {},
   "outputs": [
    {
     "name": "stdout",
     "output_type": "stream",
     "text": [
      ".\\tb_logs\\run_2021_02_04-07_03_48\n"
     ]
    }
   ],
   "source": [
    "logdir = get_run_logdir(os.path.join(os.curdir, \"tb_logs\"))\n",
    "print(logdir)"
   ]
  },
  {
   "cell_type": "markdown",
   "metadata": {},
   "source": [
    "Keras fornisce una classe callback **TensorBoard** che si occupa della scrittura degli event file nella directory specificata. Nel caso la directory non esistesse, viene creata.\n",
    "\n",
    "Ogni directory di log contiene due directory: una per il training set e una per il validation set, se utilizzato."
   ]
  },
  {
   "cell_type": "code",
   "execution_count": 56,
   "metadata": {},
   "outputs": [
    {
     "name": "stdout",
     "output_type": "stream",
     "text": [
      "Epoch 1/30\n",
      "  1/363 [..............................] - ETA: 0s - loss: 6.0900WARNING:tensorflow:From C:\\Users\\matte\\anaconda3\\envs\\CSML21\\lib\\site-packages\\tensorflow\\python\\ops\\summary_ops_v2.py:1277: stop (from tensorflow.python.eager.profiler) is deprecated and will be removed after 2020-07-01.\n",
      "Instructions for updating:\n",
      "use `tf.profiler.experimental.stop` instead.\n",
      "  2/363 [..............................] - ETA: 17s - loss: 6.0153WARNING:tensorflow:Callbacks method `on_train_batch_end` is slow compared to the batch time (batch time: 0.0000s vs `on_train_batch_end` time: 0.0968s). Check your callbacks.\n",
      "363/363 [==============================] - 1s 2ms/step - loss: 2.3651 - val_loss: 1.0782\n",
      "Epoch 2/30\n",
      "363/363 [==============================] - 1s 2ms/step - loss: 0.8234 - val_loss: 0.6874\n",
      "Epoch 3/30\n",
      "363/363 [==============================] - 1s 2ms/step - loss: 0.6764 - val_loss: 0.6160\n",
      "Epoch 4/30\n",
      "363/363 [==============================] - 1s 2ms/step - loss: 0.6176 - val_loss: 0.5876\n",
      "Epoch 5/30\n",
      "363/363 [==============================] - 1s 2ms/step - loss: 0.5758 - val_loss: 0.6176\n",
      "Epoch 6/30\n",
      "363/363 [==============================] - 1s 2ms/step - loss: 0.5440 - val_loss: 0.5710\n",
      "Epoch 7/30\n",
      "363/363 [==============================] - 1s 2ms/step - loss: 0.5181 - val_loss: 0.5291\n",
      "Epoch 8/30\n",
      "363/363 [==============================] - 1s 2ms/step - loss: 0.4967 - val_loss: 0.5127\n",
      "Epoch 9/30\n",
      "363/363 [==============================] - 1s 2ms/step - loss: 0.4803 - val_loss: 0.4619\n",
      "Epoch 10/30\n",
      "363/363 [==============================] - 1s 2ms/step - loss: 0.4665 - val_loss: 0.4400\n",
      "Epoch 11/30\n",
      "363/363 [==============================] - 1s 2ms/step - loss: 0.4551 - val_loss: 0.4261\n",
      "Epoch 12/30\n",
      "363/363 [==============================] - 1s 2ms/step - loss: 0.4453 - val_loss: 0.4201\n",
      "Epoch 13/30\n",
      "363/363 [==============================] - 1s 2ms/step - loss: 0.4377 - val_loss: 0.4087\n",
      "Epoch 14/30\n",
      "363/363 [==============================] - 1s 2ms/step - loss: 0.4306 - val_loss: 0.4035\n",
      "Epoch 15/30\n",
      "363/363 [==============================] - 1s 2ms/step - loss: 0.4247 - val_loss: 0.3976\n",
      "Epoch 16/30\n",
      "363/363 [==============================] - 1s 2ms/step - loss: 0.4197 - val_loss: 0.3922\n",
      "Epoch 17/30\n",
      "363/363 [==============================] - 1s 2ms/step - loss: 0.4149 - val_loss: 0.3883\n",
      "Epoch 18/30\n",
      "363/363 [==============================] - 1s 2ms/step - loss: 0.4108 - val_loss: 0.3833\n",
      "Epoch 19/30\n",
      "363/363 [==============================] - 1s 2ms/step - loss: 0.4069 - val_loss: 0.3804\n",
      "Epoch 20/30\n",
      "363/363 [==============================] - 1s 2ms/step - loss: 0.4037 - val_loss: 0.3801\n",
      "Epoch 21/30\n",
      "363/363 [==============================] - 1s 1ms/step - loss: 0.4004 - val_loss: 0.3762\n",
      "Epoch 22/30\n",
      "363/363 [==============================] - 1s 1ms/step - loss: 0.3974 - val_loss: 0.3745\n",
      "Epoch 23/30\n",
      "363/363 [==============================] - 1s 2ms/step - loss: 0.3949 - val_loss: 0.3711\n",
      "Epoch 24/30\n",
      "363/363 [==============================] - 1s 2ms/step - loss: 0.3922 - val_loss: 0.3722\n",
      "Epoch 25/30\n",
      "363/363 [==============================] - 1s 1ms/step - loss: 0.3899 - val_loss: 0.3740\n",
      "Epoch 26/30\n",
      "363/363 [==============================] - 1s 2ms/step - loss: 0.3878 - val_loss: 0.3682\n",
      "Epoch 27/30\n",
      "363/363 [==============================] - 1s 2ms/step - loss: 0.3856 - val_loss: 0.3617\n",
      "Epoch 28/30\n",
      "363/363 [==============================] - 1s 2ms/step - loss: 0.3835 - val_loss: 0.3673\n",
      "Epoch 29/30\n",
      "363/363 [==============================] - 1s 2ms/step - loss: 0.3816 - val_loss: 0.3600\n",
      "Epoch 30/30\n",
      "363/363 [==============================] - 1s 2ms/step - loss: 0.3798 - val_loss: 0.3576\n"
     ]
    }
   ],
   "source": [
    "model = keras.models.Sequential([\n",
    "    keras.layers.Dense(30, activation=\"relu\", input_shape=[8]),\n",
    "    keras.layers.Dense(30, activation=\"relu\"),\n",
    "    keras.layers.Dense(1)\n",
    "])    \n",
    "model.compile(loss=\"mse\",\n",
    "              optimizer=keras.optimizers.SGD(lr=1e-3)\n",
    "             )\n",
    "\n",
    "logdir = get_run_logdir(os.path.join(os.curdir, \"tb_logs\"))\n",
    "tensorboard_cb = keras.callbacks.TensorBoard(logdir)\n",
    "\n",
    "history = model.fit(X_train, y_train, epochs=30,\n",
    "                    validation_data=(X_valid, y_valid),\n",
    "                    callbacks=[checkpoint_cb, tensorboard_cb])"
   ]
  },
  {
   "cell_type": "markdown",
   "metadata": {},
   "source": [
    "Passo 2: Eseguire TensorBoard.\n",
    "\n",
    "In Jupyter si deve caricare l'estensione tensorboard"
   ]
  },
  {
   "cell_type": "code",
   "execution_count": 57,
   "metadata": {},
   "outputs": [
    {
     "data": {
      "text/plain": [
       "ERROR: Timed out waiting for TensorBoard to start. It may still be running as pid 12956."
      ]
     },
     "metadata": {},
     "output_type": "display_data"
    }
   ],
   "source": [
    "%load_ext tensorboard\n",
    "%tensorboard --logdir=./tb_logs --port=6006"
   ]
  },
  {
   "cell_type": "markdown",
   "metadata": {},
   "source": [
    "## Tuning Hyperparameters\n",
    "Nelle DNN il numero di iperparametri è elevato ed aumenta in modo proporzionale alla profondità dell'architettura.\n",
    "\n",
    "E' in ogni caso possibile utilizzare gli strumenti di ricerca degli iperparametri migliori forniti da SKL. Mediante l'oggetto **KerasRegressor** o **KerasClassifier** è possibile costruire un wrapper del modello definito in Keras."
   ]
  },
  {
   "cell_type": "code",
   "execution_count": 4,
   "metadata": {},
   "outputs": [],
   "source": [
    "def build_model(n_hidden=1, n_neurons=30, learning_rate=3e-3, input_shape=[8]):\n",
    "    model = keras.models.Sequential()\n",
    "    model.add(keras.layers.InputLayer(input_shape=input_shape))\n",
    "    for layer in range(n_hidden):\n",
    "        model.add(keras.layers.Dense(n_neurons, activation=\"relu\"))\n",
    "    model.add(keras.layers.Dense(1))\n",
    "    optimizer = keras.optimizers.SGD(lr=learning_rate)\n",
    "    model.compile(loss=\"mse\", optimizer=optimizer)\n",
    "    return model"
   ]
  },
  {
   "cell_type": "code",
   "execution_count": 5,
   "metadata": {},
   "outputs": [],
   "source": [
    "keras_reg = keras.wrappers.scikit_learn.KerasRegressor(build_model)"
   ]
  },
  {
   "cell_type": "code",
   "execution_count": 60,
   "metadata": {},
   "outputs": [
    {
     "name": "stdout",
     "output_type": "stream",
     "text": [
      "Epoch 1/100\n",
      "363/363 [==============================] - 1s 2ms/step - loss: 1.4683 - val_loss: 3.7223\n",
      "Epoch 2/100\n",
      "363/363 [==============================] - 1s 1ms/step - loss: 0.6129 - val_loss: 1.6306\n",
      "Epoch 3/100\n",
      "363/363 [==============================] - 0s 1ms/step - loss: 0.5199 - val_loss: 0.6703\n",
      "Epoch 4/100\n",
      "363/363 [==============================] - 1s 1ms/step - loss: 0.4818 - val_loss: 0.4984\n",
      "Epoch 5/100\n",
      "363/363 [==============================] - 0s 1ms/step - loss: 0.4561 - val_loss: 0.4225\n",
      "Epoch 6/100\n",
      "363/363 [==============================] - 1s 1ms/step - loss: 0.4417 - val_loss: 0.4725\n",
      "Epoch 7/100\n",
      "363/363 [==============================] - 0s 1ms/step - loss: 0.4320 - val_loss: 0.4058\n",
      "Epoch 8/100\n",
      "363/363 [==============================] - 1s 1ms/step - loss: 0.4258 - val_loss: 0.4985\n",
      "Epoch 9/100\n",
      "363/363 [==============================] - 0s 1ms/step - loss: 0.4212 - val_loss: 0.3900\n",
      "Epoch 10/100\n",
      "363/363 [==============================] - 1s 1ms/step - loss: 0.4137 - val_loss: 0.4220\n",
      "Epoch 11/100\n",
      "363/363 [==============================] - 0s 1ms/step - loss: 0.4097 - val_loss: 0.4429\n",
      "Epoch 12/100\n",
      "363/363 [==============================] - 1s 1ms/step - loss: 0.4045 - val_loss: 0.3935\n",
      "Epoch 13/100\n",
      "363/363 [==============================] - 0s 1ms/step - loss: 0.4013 - val_loss: 0.4484\n",
      "Epoch 14/100\n",
      "363/363 [==============================] - 1s 2ms/step - loss: 0.3977 - val_loss: 0.3729\n",
      "Epoch 15/100\n",
      "363/363 [==============================] - 0s 1ms/step - loss: 0.3945 - val_loss: 0.4085\n",
      "Epoch 16/100\n",
      "363/363 [==============================] - 1s 2ms/step - loss: 0.3916 - val_loss: 0.4281\n",
      "Epoch 17/100\n",
      "363/363 [==============================] - 1s 2ms/step - loss: 0.3892 - val_loss: 0.3678\n",
      "Epoch 18/100\n",
      "363/363 [==============================] - 0s 1ms/step - loss: 0.3859 - val_loss: 0.4197\n",
      "Epoch 19/100\n",
      "363/363 [==============================] - 1s 2ms/step - loss: 0.3837 - val_loss: 0.4221\n",
      "Epoch 20/100\n",
      "363/363 [==============================] - 0s 1ms/step - loss: 0.3820 - val_loss: 0.4073\n",
      "Epoch 21/100\n",
      "363/363 [==============================] - 1s 2ms/step - loss: 0.3805 - val_loss: 0.3718\n",
      "Epoch 22/100\n",
      "363/363 [==============================] - 0s 1ms/step - loss: 0.3775 - val_loss: 0.3727\n",
      "Epoch 23/100\n",
      "363/363 [==============================] - 1s 2ms/step - loss: 0.3760 - val_loss: 0.3509\n",
      "Epoch 24/100\n",
      "363/363 [==============================] - 0s 1ms/step - loss: 0.3741 - val_loss: 0.3750\n",
      "Epoch 25/100\n",
      "363/363 [==============================] - 1s 2ms/step - loss: 0.3728 - val_loss: 0.4148\n",
      "Epoch 26/100\n",
      "363/363 [==============================] - 1s 2ms/step - loss: 0.3714 - val_loss: 0.3927\n",
      "Epoch 27/100\n",
      "363/363 [==============================] - 1s 1ms/step - loss: 0.3704 - val_loss: 0.3757\n",
      "Epoch 28/100\n",
      "363/363 [==============================] - 1s 2ms/step - loss: 0.3681 - val_loss: 0.3456\n",
      "Epoch 29/100\n",
      "363/363 [==============================] - 0s 1ms/step - loss: 0.3672 - val_loss: 0.3469\n",
      "Epoch 30/100\n",
      "363/363 [==============================] - 1s 2ms/step - loss: 0.3660 - val_loss: 0.5741\n",
      "Epoch 31/100\n",
      "363/363 [==============================] - 0s 1ms/step - loss: 0.3659 - val_loss: 0.3501\n",
      "Epoch 32/100\n",
      "363/363 [==============================] - 1s 1ms/step - loss: 0.3635 - val_loss: 0.4960\n",
      "Epoch 33/100\n",
      "363/363 [==============================] - 0s 1ms/step - loss: 0.3639 - val_loss: 0.5660\n",
      "Epoch 34/100\n",
      "363/363 [==============================] - 1s 1ms/step - loss: 0.3627 - val_loss: 0.8667\n",
      "Epoch 35/100\n",
      "363/363 [==============================] - 0s 1ms/step - loss: 0.3649 - val_loss: 0.4152\n",
      "Epoch 36/100\n",
      "363/363 [==============================] - 1s 1ms/step - loss: 0.3611 - val_loss: 0.8390\n",
      "Epoch 37/100\n",
      "363/363 [==============================] - 1s 2ms/step - loss: 0.3639 - val_loss: 0.3734\n",
      "Epoch 38/100\n",
      "363/363 [==============================] - 1s 1ms/step - loss: 0.3591 - val_loss: 0.8023\n"
     ]
    },
    {
     "data": {
      "text/plain": [
       "<tensorflow.python.keras.callbacks.History at 0x24ba26524f0>"
      ]
     },
     "execution_count": 60,
     "metadata": {},
     "output_type": "execute_result"
    }
   ],
   "source": [
    "keras_reg.fit(X_train, y_train, epochs=100,\n",
    "              validation_data=(X_valid, y_valid),\n",
    "              callbacks=[keras.callbacks.EarlyStopping(patience=10)])"
   ]
  },
  {
   "cell_type": "code",
   "execution_count": 61,
   "metadata": {},
   "outputs": [
    {
     "name": "stdout",
     "output_type": "stream",
     "text": [
      "162/162 [==============================] - 0s 852us/step - loss: 0.3557\n"
     ]
    }
   ],
   "source": [
    "mse_test = keras_reg.score(X_test, y_test)"
   ]
  },
  {
   "cell_type": "markdown",
   "metadata": {},
   "source": [
    "Possiamo ora applicare un RandomizedSearchCV"
   ]
  },
  {
   "cell_type": "code",
   "execution_count": 6,
   "metadata": {},
   "outputs": [
    {
     "name": "stdout",
     "output_type": "stream",
     "text": [
      "Fitting 3 folds for each of 5 candidates, totalling 15 fits\n",
      "121/121 [==============================] - 0s 843us/step - loss: 0.3597\n",
      "[CV] END learning_rate=0.004844485688815631, n_hidden=3, n_neurons=66; total time=   4.0s\n",
      "121/121 [==============================] - 0s 1ms/step - loss: 0.3584\n",
      "[CV] END learning_rate=0.004844485688815631, n_hidden=3, n_neurons=66; total time=   3.5s\n",
      "121/121 [==============================] - 0s 1ms/step - loss: 0.3541\n",
      "[CV] END learning_rate=0.004844485688815631, n_hidden=3, n_neurons=66; total time=   3.1s\n",
      "121/121 [==============================] - 0s 1ms/step - loss: 0.4091\n",
      "[CV] END learning_rate=0.013109740391288613, n_hidden=2, n_neurons=32; total time=   5.6s\n",
      "121/121 [==============================] - 0s 849us/step - loss: 0.3643\n",
      "[CV] END learning_rate=0.013109740391288613, n_hidden=2, n_neurons=32; total time=   2.0s\n",
      "121/121 [==============================] - 0s 844us/step - loss: 0.3428\n",
      "[CV] END learning_rate=0.013109740391288613, n_hidden=2, n_neurons=32; total time=   3.4s\n",
      "121/121 [==============================] - 0s 951us/step - loss: 0.3517\n",
      "[CV] END learning_rate=0.00952217690072429, n_hidden=2, n_neurons=27; total time=   5.9s\n",
      "121/121 [==============================] - 0s 850us/step - loss: 0.3904\n",
      "[CV] END learning_rate=0.00952217690072429, n_hidden=2, n_neurons=27; total time=   2.1s\n",
      "121/121 [==============================] - 0s 1ms/step - loss: 0.3489\n",
      "[CV] END learning_rate=0.00952217690072429, n_hidden=2, n_neurons=27; total time=   4.6s\n",
      "121/121 [==============================] - 0s 824us/step - loss: 0.4056\n",
      "[CV] END learning_rate=0.0035284734198815573, n_hidden=3, n_neurons=2; total time=  10.9s\n",
      "121/121 [==============================] - 0s 836us/step - loss: 0.6721\n",
      "[CV] END learning_rate=0.0035284734198815573, n_hidden=3, n_neurons=2; total time=   3.7s\n",
      "121/121 [==============================] - 0s 874us/step - loss: 1.3472\n",
      "[CV] END learning_rate=0.0035284734198815573, n_hidden=3, n_neurons=2; total time=   1.9s\n",
      "121/121 [==============================] - 0s 1ms/step - loss: 0.3920\n",
      "[CV] END learning_rate=0.001369074180788194, n_hidden=2, n_neurons=67; total time=   6.9s\n",
      "121/121 [==============================] - 0s 985us/step - loss: 0.5252\n",
      "[CV] END learning_rate=0.001369074180788194, n_hidden=2, n_neurons=67; total time=   2.8s\n",
      "121/121 [==============================] - 0s 1ms/step - loss: 0.3897\n",
      "[CV] END learning_rate=0.001369074180788194, n_hidden=2, n_neurons=67; total time=   4.8s\n"
     ]
    },
    {
     "ename": "RuntimeError",
     "evalue": "Cannot clone object <tensorflow.python.keras.wrappers.scikit_learn.KerasRegressor object at 0x000001EC1B9C1BB0>, as the constructor either does not set or modifies parameter learning_rate",
     "output_type": "error",
     "traceback": [
      "\u001b[1;31m---------------------------------------------------------------------------\u001b[0m",
      "\u001b[1;31mRuntimeError\u001b[0m                              Traceback (most recent call last)",
      "\u001b[1;32m<ipython-input-6-79df4feb575f>\u001b[0m in \u001b[0;36m<module>\u001b[1;34m\u001b[0m\n\u001b[0;32m      6\u001b[0m \u001b[1;33m\u001b[0m\u001b[0m\n\u001b[0;32m      7\u001b[0m \u001b[0mrnd_search_cv\u001b[0m \u001b[1;33m=\u001b[0m \u001b[0mRandomizedSearchCV\u001b[0m\u001b[1;33m(\u001b[0m\u001b[0mkeras_reg\u001b[0m\u001b[1;33m,\u001b[0m \u001b[0mparam_distribs\u001b[0m\u001b[1;33m,\u001b[0m \u001b[0mn_iter\u001b[0m\u001b[1;33m=\u001b[0m\u001b[1;36m5\u001b[0m\u001b[1;33m,\u001b[0m \u001b[0mcv\u001b[0m\u001b[1;33m=\u001b[0m\u001b[1;36m3\u001b[0m\u001b[1;33m,\u001b[0m \u001b[0mverbose\u001b[0m\u001b[1;33m=\u001b[0m\u001b[1;36m2\u001b[0m\u001b[1;33m)\u001b[0m\u001b[1;33m\u001b[0m\u001b[1;33m\u001b[0m\u001b[0m\n\u001b[1;32m----> 8\u001b[1;33m rnd_search_cv.fit(X_train, y_train, epochs=50,\n\u001b[0m\u001b[0;32m      9\u001b[0m                   \u001b[0mvalidation_data\u001b[0m\u001b[1;33m=\u001b[0m\u001b[1;33m(\u001b[0m\u001b[0mX_valid\u001b[0m\u001b[1;33m,\u001b[0m \u001b[0my_valid\u001b[0m\u001b[1;33m)\u001b[0m\u001b[1;33m,\u001b[0m\u001b[1;33m\u001b[0m\u001b[1;33m\u001b[0m\u001b[0m\n\u001b[0;32m     10\u001b[0m                   \u001b[0mcallbacks\u001b[0m\u001b[1;33m=\u001b[0m\u001b[1;33m[\u001b[0m\u001b[0mkeras\u001b[0m\u001b[1;33m.\u001b[0m\u001b[0mcallbacks\u001b[0m\u001b[1;33m.\u001b[0m\u001b[0mEarlyStopping\u001b[0m\u001b[1;33m(\u001b[0m\u001b[0mpatience\u001b[0m\u001b[1;33m=\u001b[0m\u001b[1;36m4\u001b[0m\u001b[1;33m)\u001b[0m\u001b[1;33m]\u001b[0m\u001b[1;33m,\u001b[0m\u001b[1;33m\u001b[0m\u001b[1;33m\u001b[0m\u001b[0m\n",
      "\u001b[1;32m~\\anaconda3\\envs\\CSML21\\lib\\site-packages\\sklearn\\utils\\validation.py\u001b[0m in \u001b[0;36minner_f\u001b[1;34m(*args, **kwargs)\u001b[0m\n\u001b[0;32m     61\u001b[0m             \u001b[0mextra_args\u001b[0m \u001b[1;33m=\u001b[0m \u001b[0mlen\u001b[0m\u001b[1;33m(\u001b[0m\u001b[0margs\u001b[0m\u001b[1;33m)\u001b[0m \u001b[1;33m-\u001b[0m \u001b[0mlen\u001b[0m\u001b[1;33m(\u001b[0m\u001b[0mall_args\u001b[0m\u001b[1;33m)\u001b[0m\u001b[1;33m\u001b[0m\u001b[1;33m\u001b[0m\u001b[0m\n\u001b[0;32m     62\u001b[0m             \u001b[1;32mif\u001b[0m \u001b[0mextra_args\u001b[0m \u001b[1;33m<=\u001b[0m \u001b[1;36m0\u001b[0m\u001b[1;33m:\u001b[0m\u001b[1;33m\u001b[0m\u001b[1;33m\u001b[0m\u001b[0m\n\u001b[1;32m---> 63\u001b[1;33m                 \u001b[1;32mreturn\u001b[0m \u001b[0mf\u001b[0m\u001b[1;33m(\u001b[0m\u001b[1;33m*\u001b[0m\u001b[0margs\u001b[0m\u001b[1;33m,\u001b[0m \u001b[1;33m**\u001b[0m\u001b[0mkwargs\u001b[0m\u001b[1;33m)\u001b[0m\u001b[1;33m\u001b[0m\u001b[1;33m\u001b[0m\u001b[0m\n\u001b[0m\u001b[0;32m     64\u001b[0m \u001b[1;33m\u001b[0m\u001b[0m\n\u001b[0;32m     65\u001b[0m             \u001b[1;31m# extra_args > 0\u001b[0m\u001b[1;33m\u001b[0m\u001b[1;33m\u001b[0m\u001b[1;33m\u001b[0m\u001b[0m\n",
      "\u001b[1;32m~\\anaconda3\\envs\\CSML21\\lib\\site-packages\\sklearn\\model_selection\\_search.py\u001b[0m in \u001b[0;36mfit\u001b[1;34m(self, X, y, groups, **fit_params)\u001b[0m\n\u001b[0;32m    874\u001b[0m             \u001b[1;31m# we clone again after setting params in case some\u001b[0m\u001b[1;33m\u001b[0m\u001b[1;33m\u001b[0m\u001b[1;33m\u001b[0m\u001b[0m\n\u001b[0;32m    875\u001b[0m             \u001b[1;31m# of the params are estimators as well.\u001b[0m\u001b[1;33m\u001b[0m\u001b[1;33m\u001b[0m\u001b[1;33m\u001b[0m\u001b[0m\n\u001b[1;32m--> 876\u001b[1;33m             self.best_estimator_ = clone(clone(base_estimator).set_params(\n\u001b[0m\u001b[0;32m    877\u001b[0m                 **self.best_params_))\n\u001b[0;32m    878\u001b[0m             \u001b[0mrefit_start_time\u001b[0m \u001b[1;33m=\u001b[0m \u001b[0mtime\u001b[0m\u001b[1;33m.\u001b[0m\u001b[0mtime\u001b[0m\u001b[1;33m(\u001b[0m\u001b[1;33m)\u001b[0m\u001b[1;33m\u001b[0m\u001b[1;33m\u001b[0m\u001b[0m\n",
      "\u001b[1;32m~\\anaconda3\\envs\\CSML21\\lib\\site-packages\\sklearn\\utils\\validation.py\u001b[0m in \u001b[0;36minner_f\u001b[1;34m(*args, **kwargs)\u001b[0m\n\u001b[0;32m     61\u001b[0m             \u001b[0mextra_args\u001b[0m \u001b[1;33m=\u001b[0m \u001b[0mlen\u001b[0m\u001b[1;33m(\u001b[0m\u001b[0margs\u001b[0m\u001b[1;33m)\u001b[0m \u001b[1;33m-\u001b[0m \u001b[0mlen\u001b[0m\u001b[1;33m(\u001b[0m\u001b[0mall_args\u001b[0m\u001b[1;33m)\u001b[0m\u001b[1;33m\u001b[0m\u001b[1;33m\u001b[0m\u001b[0m\n\u001b[0;32m     62\u001b[0m             \u001b[1;32mif\u001b[0m \u001b[0mextra_args\u001b[0m \u001b[1;33m<=\u001b[0m \u001b[1;36m0\u001b[0m\u001b[1;33m:\u001b[0m\u001b[1;33m\u001b[0m\u001b[1;33m\u001b[0m\u001b[0m\n\u001b[1;32m---> 63\u001b[1;33m                 \u001b[1;32mreturn\u001b[0m \u001b[0mf\u001b[0m\u001b[1;33m(\u001b[0m\u001b[1;33m*\u001b[0m\u001b[0margs\u001b[0m\u001b[1;33m,\u001b[0m \u001b[1;33m**\u001b[0m\u001b[0mkwargs\u001b[0m\u001b[1;33m)\u001b[0m\u001b[1;33m\u001b[0m\u001b[1;33m\u001b[0m\u001b[0m\n\u001b[0m\u001b[0;32m     64\u001b[0m \u001b[1;33m\u001b[0m\u001b[0m\n\u001b[0;32m     65\u001b[0m             \u001b[1;31m# extra_args > 0\u001b[0m\u001b[1;33m\u001b[0m\u001b[1;33m\u001b[0m\u001b[1;33m\u001b[0m\u001b[0m\n",
      "\u001b[1;32m~\\anaconda3\\envs\\CSML21\\lib\\site-packages\\sklearn\\base.py\u001b[0m in \u001b[0;36mclone\u001b[1;34m(estimator, safe)\u001b[0m\n\u001b[0;32m     83\u001b[0m         \u001b[0mparam2\u001b[0m \u001b[1;33m=\u001b[0m \u001b[0mparams_set\u001b[0m\u001b[1;33m[\u001b[0m\u001b[0mname\u001b[0m\u001b[1;33m]\u001b[0m\u001b[1;33m\u001b[0m\u001b[1;33m\u001b[0m\u001b[0m\n\u001b[0;32m     84\u001b[0m         \u001b[1;32mif\u001b[0m \u001b[0mparam1\u001b[0m \u001b[1;32mis\u001b[0m \u001b[1;32mnot\u001b[0m \u001b[0mparam2\u001b[0m\u001b[1;33m:\u001b[0m\u001b[1;33m\u001b[0m\u001b[1;33m\u001b[0m\u001b[0m\n\u001b[1;32m---> 85\u001b[1;33m             raise RuntimeError('Cannot clone object %s, as the constructor '\n\u001b[0m\u001b[0;32m     86\u001b[0m                                \u001b[1;34m'either does not set or modifies parameter %s'\u001b[0m \u001b[1;33m%\u001b[0m\u001b[1;33m\u001b[0m\u001b[1;33m\u001b[0m\u001b[0m\n\u001b[0;32m     87\u001b[0m                                (estimator, name))\n",
      "\u001b[1;31mRuntimeError\u001b[0m: Cannot clone object <tensorflow.python.keras.wrappers.scikit_learn.KerasRegressor object at 0x000001EC1B9C1BB0>, as the constructor either does not set or modifies parameter learning_rate"
     ]
    }
   ],
   "source": [
    "param_distribs = {\n",
    "    \"n_hidden\": [0, 1, 2, 3],\n",
    "    \"n_neurons\": np.arange(1, 100),\n",
    "    \"learning_rate\": reciprocal(3e-4, 3e-2),\n",
    "}\n",
    "\n",
    "rnd_search_cv = RandomizedSearchCV(keras_reg, param_distribs, n_iter=5, cv=3, verbose=2)\n",
    "rnd_search_cv.fit(X_train, y_train, epochs=50,\n",
    "                  validation_data=(X_valid, y_valid),\n",
    "                  callbacks=[keras.callbacks.EarlyStopping(patience=4)],\n",
    "                  verbose = 0\n",
    "                 )"
   ]
  },
  {
   "cell_type": "code",
   "execution_count": 7,
   "metadata": {},
   "outputs": [],
   "source": [
    "import tensorflow as tf"
   ]
  },
  {
   "cell_type": "code",
   "execution_count": 8,
   "metadata": {},
   "outputs": [
    {
     "data": {
      "text/plain": [
       "'2.3.0'"
      ]
     },
     "execution_count": 8,
     "metadata": {},
     "output_type": "execute_result"
    }
   ],
   "source": [
    "tf.__version__"
   ]
  },
  {
   "cell_type": "code",
   "execution_count": 67,
   "metadata": {},
   "outputs": [
    {
     "name": "stdout",
     "output_type": "stream",
     "text": [
      "^C\n"
     ]
    }
   ],
   "source": [
    "!conda update tensorflow"
   ]
  },
  {
   "cell_type": "code",
   "execution_count": null,
   "metadata": {},
   "outputs": [],
   "source": []
  }
 ],
 "metadata": {
  "kernelspec": {
   "display_name": "Python 3",
   "language": "python",
   "name": "python3"
  },
  "language_info": {
   "codemirror_mode": {
    "name": "ipython",
    "version": 3
   },
   "file_extension": ".py",
   "mimetype": "text/x-python",
   "name": "python",
   "nbconvert_exporter": "python",
   "pygments_lexer": "ipython3",
   "version": "3.8.5"
  }
 },
 "nbformat": 4,
 "nbformat_minor": 4
}
