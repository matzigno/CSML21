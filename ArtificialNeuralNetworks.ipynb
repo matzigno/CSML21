{
 "cells": [
  {
   "cell_type": "code",
   "execution_count": 27,
   "metadata": {},
   "outputs": [],
   "source": [
    "import pandas as pd\n",
    "\n",
    "import matplotlib.pyplot as plt\n",
    "%matplotlib inline"
   ]
  },
  {
   "cell_type": "markdown",
   "metadata": {},
   "source": [
    "# Artificial Neural Networks\n",
    "\n",
    "L'introduzione delle reti neurali artificiali e' datata al 1943, anno in cui McCulloch e Pitts presentano il primo modello computazionale ispirato al neurone.<br>\n",
    "Attualmente hanno guadagnato notevole interesse per diversi motivi contigenti:\n",
    "- enormi quantita' di dati per l'addestramento\n",
    "- aumento della capacita' computazionale per supportare il training di grandi ANN. Da sottolineare il contributo dall'industria del gaming con l'introduzione di GPU - graphical processing unit - e lo sviluppo di architetture ad hoc come TPU, FPGA o chip neuromorfici.\n",
    "- progressi negli algoritmi di apprendimento ed ottimizzazione\n",
    "\n",
    "Il perceptron e' la piu' semplice architettura ANN ed e' basato su una singola linear threshold unit - LTU.\n",
    "$$y_{\\mathbf{w}}(\\mathbf{x}) = \\phi(\\mathbf{w}^T\\mathbf{x})$$\n",
    "dove $\\phi$ puo' essere una funzione di Heaviside oppure una funzione segno:\n",
    "$$ hs(x) = \n",
    "\\begin{cases}\n",
    "    0 & \\text{se } x<0\\\\\n",
    "    1 & \\text{se} x \\geq 0\n",
    "\\end{cases}\n",
    "\\hspace{1cm}\n",
    "sgn(x) = \n",
    "\\begin{cases}\n",
    "    -1 & \\text{se } x<0\\\\\n",
    "    0 & \\text{se} x == 0\\\\\n",
    "    1 & \\text{se} x\\geq 0\n",
    "\\end{cases}\n",
    "$$\n",
    "\n",
    "In general un perceptron puo' essere composto da una sequenza di LTU - **layer** - dove ogni LTU di un layer e' connessa ad ogni LTU del layer precedente. In questo caso si parla di **fully connected** o **dense layer**. \n",
    "![](perceptron_layer.png)\n",
    "\n",
    "Nella figura vediamo come il bias venga inserito nell'**input layer** come unita' con valore 1.\n",
    "\n",
    "E' possibile formulare la seguente architettura in termini matriciali, considerando l'intero feature matrix o matrice delle istanze $\\mathbf{X}$:\n",
    "$$y_{\\mathbf{W,b}}(\\mathbf{X}) = \\phi(\\mathbf{XW} + \\mathbf{b})$$\n",
    "\n",
    "dove $\\phi$ indica una generica **activation function**.\n",
    "\n",
    "La fase di learning del perceptron utilizza il gradiente discendente, il quale e' ispirato a *Hebbian learning* - la forza della connessione tra due neuroni aumenta quando uno dei due \"innesca\" o \"stimola\" il secondo. Nel caos del perceptron vengono rafforzate i pesi delle connessioni che riducono l'errore di predizione.\n",
    "\n",
    "Sulla base dell'architettura del perceptron si possono creare architetture piu' complesse \"impilando\" diversi dense layers; definendo quindi un **Multilayer Perceptron - MLP**.\n",
    "![](mlp.png)\n",
    "\n",
    "L'elemento caratterizzante questa architettura e' la presenza di 1 o piu' livelli nascosti - **hidden layers**. Ogni hidden layer include anche un'unita di bias.<br>\n",
    "Quando gli hidden layer sono molti si parla di architettura **deep neural network - DNN**. \n",
    "\n",
    "L'utilizzo di un'architettura deep e' resa computazionalmente ammissibile dall'algoritmo di backpropagation (1986) che permette di aggiornare i pesi di tutti i livelli mediante due scansioni della rete: una forward e una backward secondo un approccio di tipo Gradient Descent.\n",
    "\n",
    "Rispetto alla LTU del perceptron viene introdotta un'ulteriore modifica per evitare che il gradiente venga posto a 0 - heaviside e sgn hanno gradiente 0. Le alternative per definire la funzione di attivazione $\\phi$ sono molteplici, tuttavia in pratica vengono utilizzate prevalentemente 3 funzioni:\n",
    "- sigmoid: $\\phi(x) = 1 / (1 + exp(-x))$\n",
    "- hyperbolic tangent: $\\phi(x) = tanh(x)$\n",
    "- ReLU - Rectified Linear Unit: $\\phi(x) = max(0,x)$. Non e' differenziabile in 0 ma e' diventata lo standard de facto per performance e facilita' di computazione.\n",
    "\n",
    "Le activation funciont sono fondamentali nelle architetture DNN perche' introducono la non-linearita'; senza activation function non lineari la composizione dei layer restituirebbe una funzione lineare in quanto ogni layer e' una funzione lineare $\\mathbf{w}^T\\mathbf{x}$."
   ]
  },
  {
   "cell_type": "markdown",
   "metadata": {},
   "source": [
    "### MLP for Regression\n",
    "Per applicare MLP ad un problema di regressione necessitiamo di una singola unita' di output che restituisce un valore reale, il valore predetto. E' possibile aggiungere altre unita' di output di tipo reale in caso di regressione multivariata - predico piu' valori associati ad una nuova istanza. <br>\n",
    "Nel caso di regressione l'activation function non e' necessaria tuttavia, posso utilizzare alcune funzioni se voglio garantire alcune condizioni sull'output:\n",
    "- output positivo: ReLU, softplus $\\phi(x)=log(1+exp(x))$\n",
    "- insieme limitato: logistic o $tanh$\n",
    "Come loss function si possono utilizzare MSE - mean squared error, MAE - mean absolute error oppure Huber loss.\n",
    "\n",
    "### MLP for Classification\n",
    "Per un problema di classificazione binaria e' necessaria una sola unita' di output tra 0 e 1 - probabilita' della classe positiva. Per gestire un problema di multiclass classification viene inserita un'unita' di output per ogni classe a cui applicare una funzione di attivazione softmax. Se $\\mathbf{s}(\\mathbf{x})$ e' il vettore che in posizione $k$ contiene lo score assegnato alla classe $k$, cioe' output della $k$-esima unita' di output, la softmax function di $\\mathbf{s}_k(\\mathbf{x})$ e' data da:\n",
    "$$\\sigma(\\mathbf{s}(\\mathbf{x})_k))=\\frac{exp(\\mathbf{s}_k(\\mathbf{x}))}{\\sum_{j=1}^K exp(\\mathbf{s}_j(\\mathbf{x}))}$$\n",
    "e la classe predetta corrisonde al valore di $k$ con softmax function piu' elevata.<br>\n",
    "Come loss function si utilizza la cross-entropy loss"
   ]
  },
  {
   "cell_type": "markdown",
   "metadata": {},
   "source": [
    "## Implementing MLPs with Keras\n",
    "Keras (https://keras.io/) e' un API di alto livello per il deep learning che permette di definire, addestrare e valutare qualsiasi architettura di tipo ANN.\n",
    "\n",
    "Keras si basa su un backend per la computazione che puo' essere TensorFlow, CNTK o Theano. Tuttavia, TensorFlow viene rilasciato con un'implementazione di Keras a cui si aggiungono delle funzionalita' extra.\n",
    "\n",
    "In questo notebook utilizzeremo l'implementazione delle API di Keras rilasciata in TensorFlow."
   ]
  },
  {
   "cell_type": "code",
   "execution_count": 1,
   "metadata": {},
   "outputs": [],
   "source": [
    "from tensorflow import keras"
   ]
  },
  {
   "cell_type": "markdown",
   "metadata": {},
   "source": [
    "Come esempio applicativo utilizziamo un dataset simile al MNIST, ma relativo ad immagini di capi di abbigliamento a cui e' stata assegnata una label indicante il tipo di capo. Affrontiamo quindi un problema di classificazione multiclasse."
   ]
  },
  {
   "cell_type": "code",
   "execution_count": 36,
   "metadata": {},
   "outputs": [
    {
     "data": {
      "text/plain": [
       "((60000, 28, 28), (10000, 28, 28))"
      ]
     },
     "execution_count": 36,
     "metadata": {},
     "output_type": "execute_result"
    }
   ],
   "source": [
    "(X_train_full, y_train_full),(X_test, y_test) = keras.datasets.fashion_mnist.load_data()\n",
    "X_train_full.shape, X_test.shape"
   ]
  },
  {
   "cell_type": "markdown",
   "metadata": {},
   "source": [
    "Su questo dataset, estraiamo un validation set dal training set e rilascaliamo le immagini."
   ]
  },
  {
   "cell_type": "code",
   "execution_count": 37,
   "metadata": {},
   "outputs": [],
   "source": [
    "X_valid, X_train = X_train_full[:5000] / 255., X_train_full[5000:] / 255.\n",
    "y_valid, y_train = y_train_full[:5000], y_train_full[5000:]"
   ]
  },
  {
   "cell_type": "code",
   "execution_count": 38,
   "metadata": {},
   "outputs": [
    {
     "data": {
      "text/plain": [
       "((55000, 28, 28), (5000, 28, 28))"
      ]
     },
     "execution_count": 38,
     "metadata": {},
     "output_type": "execute_result"
    }
   ],
   "source": [
    "X_train.shape, X_valid.shape"
   ]
  },
  {
   "cell_type": "code",
   "execution_count": 39,
   "metadata": {},
   "outputs": [],
   "source": [
    "class_names = [\"T-shirt/top\", \"Trouser\", \"Pullover\", \"Dress\", \"Coat\", \"Sandal\", \"Shirt\", \"Sneaker\", \"Bag\", \"Ankle boot\"]"
   ]
  },
  {
   "cell_type": "code",
   "execution_count": 13,
   "metadata": {},
   "outputs": [
    {
     "data": {
      "image/png": "[encoded data removed]",
      "text/plain": [
       "<Figure size 432x288 with 1 Axes>"
      ]
     },
     "metadata": {
      "needs_background": "light"
     },
     "output_type": "display_data"
    },
    {
     "data": {
      "text/plain": [
       "'Sneaker'"
      ]
     },
     "execution_count": 13,
     "metadata": {},
     "output_type": "execute_result"
    }
   ],
   "source": [
    "plt.imshow(X_train[2], cmap=\"binary\")\n",
    "plt.axis('off')\n",
    "plt.show()\n",
    "class_names[y_train[2]]"
   ]
  },
  {
   "cell_type": "markdown",
   "metadata": {},
   "source": [
    "### Creazione del modello MLP"
   ]
  },
  {
   "cell_type": "code",
   "execution_count": 46,
   "metadata": {},
   "outputs": [],
   "source": [
    "model = keras.models.Sequential([\n",
    "    keras.layers.Flatten(input_shape=[28, 28]),\n",
    "    keras.layers.Dense(300, activation=\"relu\"),\n",
    "    keras.layers.Dense(100, activation=\"relu\"),\n",
    "    keras.layers.Dense(10, activation=\"softmax\")\n",
    "])"
   ]
  },
  {
   "cell_type": "markdown",
   "metadata": {},
   "source": [
    "Abbiamo creato un modello di tipo **Sequential** - uno dei piu' semplici - in cui i livelli sono messi in sequenza. Stiamo quindi impilando gli hidden layer secondo l'architettura MLP. Il primo livello - quello di input - e' modellato da un oggetto **Flatten** che converte l'input originario (matrice 28x28) in un vettore, linearizzando o flattenizzando la matrice dell'immagine. Attraverso il parametro **input_shape** specifico la dimensionalita' dell'input, cioe' il numero di feature di ogni istanza.\n",
    "\n",
    "Viene aggiunto un hidden layer di tipo fully connected mediante la creazione di un oggetto **Dense**. Devo specificare quante unita' compongono il livello e quale funzione di attivazione utilizzare.\n",
    "\n",
    "Dopo aver aggiunto un ulteriore hidden layer contenente 100 unita' e funzione di attivazione ReLU, viene aggiunto il livello di output. Dal momento che il numero di classi e' 10 e siamo in un contesto di multiclass classification posso utilizzare softmax come funzione di attivazione, in modo da ottenere un singolo input.\n",
    "\n",
    "NB: Ogni livello gestisce la sua matrice dei pesi $\\mathbf{W}$ e il vettore dei bias $\\mathbf{b}$. Tali elementi possono essere ottenuti mediante il metodo **get_weights**"
   ]
  },
  {
   "cell_type": "code",
   "execution_count": 16,
   "metadata": {},
   "outputs": [],
   "source": [
    "W_h1, b_h1 = model.layers[1].get_weights()"
   ]
  },
  {
   "cell_type": "code",
   "execution_count": 21,
   "metadata": {},
   "outputs": [
    {
     "data": {
      "text/plain": [
       "(array([[-0.02966851,  0.06497736, -0.03102705, ...,  0.02661753,\n",
       "         -0.03735466,  0.05685103],\n",
       "        [-0.00971091, -0.02967479,  0.01740143, ...,  0.01935496,\n",
       "         -0.00887664,  0.067968  ],\n",
       "        [ 0.02080519, -0.0449068 ,  0.06666592, ...,  0.05642565,\n",
       "         -0.04088403, -0.05875728],\n",
       "        ...,\n",
       "        [-0.00314967, -0.03852612, -0.05186538, ..., -0.07165267,\n",
       "         -0.05047796, -0.03949234],\n",
       "        [-0.06030037,  0.03175658,  0.00421286, ..., -0.03754115,\n",
       "         -0.06017287, -0.00452667],\n",
       "        [-0.07061649, -0.00258705, -0.03754215, ...,  0.06227942,\n",
       "         -0.04031346, -0.00485733]], dtype=float32),\n",
       " (784, 300),\n",
       " array([0., 0., 0., 0., 0., 0., 0., 0., 0., 0., 0., 0., 0., 0., 0., 0., 0.,\n",
       "        0., 0., 0., 0., 0., 0., 0., 0., 0., 0., 0., 0., 0., 0., 0., 0., 0.,\n",
       "        0., 0., 0., 0., 0., 0., 0., 0., 0., 0., 0., 0., 0., 0., 0., 0., 0.,\n",
       "        0., 0., 0., 0., 0., 0., 0., 0., 0., 0., 0., 0., 0., 0., 0., 0., 0.,\n",
       "        0., 0., 0., 0., 0., 0., 0., 0., 0., 0., 0., 0., 0., 0., 0., 0., 0.,\n",
       "        0., 0., 0., 0., 0., 0., 0., 0., 0., 0., 0., 0., 0., 0., 0., 0., 0.,\n",
       "        0., 0., 0., 0., 0., 0., 0., 0., 0., 0., 0., 0., 0., 0., 0., 0., 0.,\n",
       "        0., 0., 0., 0., 0., 0., 0., 0., 0., 0., 0., 0., 0., 0., 0., 0., 0.,\n",
       "        0., 0., 0., 0., 0., 0., 0., 0., 0., 0., 0., 0., 0., 0., 0., 0., 0.,\n",
       "        0., 0., 0., 0., 0., 0., 0., 0., 0., 0., 0., 0., 0., 0., 0., 0., 0.,\n",
       "        0., 0., 0., 0., 0., 0., 0., 0., 0., 0., 0., 0., 0., 0., 0., 0., 0.,\n",
       "        0., 0., 0., 0., 0., 0., 0., 0., 0., 0., 0., 0., 0., 0., 0., 0., 0.,\n",
       "        0., 0., 0., 0., 0., 0., 0., 0., 0., 0., 0., 0., 0., 0., 0., 0., 0.,\n",
       "        0., 0., 0., 0., 0., 0., 0., 0., 0., 0., 0., 0., 0., 0., 0., 0., 0.,\n",
       "        0., 0., 0., 0., 0., 0., 0., 0., 0., 0., 0., 0., 0., 0., 0., 0., 0.,\n",
       "        0., 0., 0., 0., 0., 0., 0., 0., 0., 0., 0., 0., 0., 0., 0., 0., 0.,\n",
       "        0., 0., 0., 0., 0., 0., 0., 0., 0., 0., 0., 0., 0., 0., 0., 0., 0.,\n",
       "        0., 0., 0., 0., 0., 0., 0., 0., 0., 0., 0.], dtype=float32),\n",
       " (300,))"
      ]
     },
     "execution_count": 21,
     "metadata": {},
     "output_type": "execute_result"
    }
   ],
   "source": [
    "W_h1, W_h1.shape, b_h1, b_h1.shape"
   ]
  },
  {
   "cell_type": "markdown",
   "metadata": {},
   "source": [
    "La matrice dei pesi di ogni layer viene inizializzata in modo casuale, mentre il vettore dei bias viene inizializzato con 0. E' possibile modificare questo comportamento tramite gli argomenti **set_kernel_initializer** e **bias_initializer**.\n",
    "\n",
    "\n",
    "Il metodo **summary** visualizza tutti i livelli del modello e fornisce alcune informazioni sulla dimensione dei livelli e il numero di parametri del modello. Mentre l'attributo **layers** permettere di accedere ad un singolo livello."
   ]
  },
  {
   "cell_type": "code",
   "execution_count": 22,
   "metadata": {},
   "outputs": [
    {
     "name": "stdout",
     "output_type": "stream",
     "text": [
      "Model: \"sequential\"\n",
      "_________________________________________________________________\n",
      "Layer (type)                 Output Shape              Param #   \n",
      "=================================================================\n",
      "flatten (Flatten)            (None, 784)               0         \n",
      "_________________________________________________________________\n",
      "dense (Dense)                (None, 300)               235500    \n",
      "_________________________________________________________________\n",
      "dense_1 (Dense)              (None, 100)               30100     \n",
      "_________________________________________________________________\n",
      "dense_2 (Dense)              (None, 10)                1010      \n",
      "=================================================================\n",
      "Total params: 266,610\n",
      "Trainable params: 266,610\n",
      "Non-trainable params: 0\n",
      "_________________________________________________________________\n"
     ]
    }
   ],
   "source": [
    "model.summary()"
   ]
  },
  {
   "cell_type": "markdown",
   "metadata": {},
   "source": [
    "Il modello ha 266,610 parametri, e' flessibile ma incline all'overfitting. Abbiamo bisogno di avere molti dati di training."
   ]
  },
  {
   "cell_type": "markdown",
   "metadata": {},
   "source": [
    "### Compilazione del modello\n",
    "Dopo la creazione di un modello devo specificare la funzione di loss e l'algoritmo di ottimizzazione, ed eventualmente le metriche di performance da utilizzare. Il metodo **compile** viene invocato per questi scopi"
   ]
  },
  {
   "cell_type": "code",
   "execution_count": 47,
   "metadata": {},
   "outputs": [],
   "source": [
    "model.compile(loss = 'sparse_categorical_crossentropy',\n",
    "              optimizer = 'sgd',\n",
    "              metrics =  ['accuracy']\n",
    "             )"
   ]
  },
  {
   "cell_type": "markdown",
   "metadata": {},
   "source": [
    "### Training\n",
    "Il training del modello avviene invocando il metodo **fit**. Richiede il training set e il relativo label vector, il numero di epoche (quante volte devo scansionare tutto il training set). Posso passare anche un validation set in modo da verificare come il modello si comporta su dati \"nuovi\" attraverso l'argomento **validation_data**.\n",
    "\n",
    "Per definire un validation set posso utilizzare il parametro **validation_split** che indica la percentuale di istanze da inserire nel validation set. \n",
    "\n",
    "Nel caso la distribuzione delle classi non sia bilanciata possiamo applicare un vettore di pesi alle classi in modo da dare piu' peso alle classi sottorappresentate."
   ]
  },
  {
   "cell_type": "code",
   "execution_count": 50,
   "metadata": {},
   "outputs": [
    {
     "name": "stdout",
     "output_type": "stream",
     "text": [
      "(55000, 28, 28) (5000, 28, 28)\n",
      "Epoch 1/30\n",
      "WARNING:tensorflow:Callbacks method `on_test_batch_end` is slow compared to the batch time (batch time: 0.0000s vs `on_test_batch_end` time: 0.0010s). Check your callbacks.\n",
      "1719/1719 - 2s - loss: 0.2601 - accuracy: 0.9051 - val_loss: 0.2949 - val_accuracy: 0.8944\n",
      "Epoch 2/30\n",
      "1719/1719 - 2s - loss: 0.2556 - accuracy: 0.9073 - val_loss: 0.3173 - val_accuracy: 0.8860\n",
      "Epoch 3/30\n",
      "1719/1719 - 2s - loss: 0.2513 - accuracy: 0.9087 - val_loss: 0.3179 - val_accuracy: 0.8812\n",
      "Epoch 4/30\n",
      "1719/1719 - 2s - loss: 0.2469 - accuracy: 0.9114 - val_loss: 0.3181 - val_accuracy: 0.8814\n",
      "Epoch 5/30\n",
      "1719/1719 - 2s - loss: 0.2427 - accuracy: 0.9125 - val_loss: 0.2954 - val_accuracy: 0.8932\n",
      "Epoch 6/30\n",
      "1719/1719 - 2s - loss: 0.2381 - accuracy: 0.9140 - val_loss: 0.2991 - val_accuracy: 0.8940\n",
      "Epoch 7/30\n",
      "1719/1719 - 2s - loss: 0.2346 - accuracy: 0.9149 - val_loss: 0.2947 - val_accuracy: 0.8924\n",
      "Epoch 8/30\n",
      "1719/1719 - 2s - loss: 0.2308 - accuracy: 0.9165 - val_loss: 0.2978 - val_accuracy: 0.8942\n",
      "Epoch 9/30\n",
      "1719/1719 - 2s - loss: 0.2270 - accuracy: 0.9193 - val_loss: 0.3029 - val_accuracy: 0.8888\n",
      "Epoch 10/30\n",
      "1719/1719 - 2s - loss: 0.2236 - accuracy: 0.9195 - val_loss: 0.2942 - val_accuracy: 0.8918\n",
      "Epoch 11/30\n",
      "1719/1719 - 2s - loss: 0.2196 - accuracy: 0.9209 - val_loss: 0.2956 - val_accuracy: 0.8924\n",
      "Epoch 12/30\n",
      "1719/1719 - 2s - loss: 0.2169 - accuracy: 0.9221 - val_loss: 0.3520 - val_accuracy: 0.8792\n",
      "Epoch 13/30\n",
      "1719/1719 - 2s - loss: 0.2130 - accuracy: 0.9243 - val_loss: 0.2986 - val_accuracy: 0.8928\n",
      "Epoch 14/30\n",
      "1719/1719 - 2s - loss: 0.2094 - accuracy: 0.9245 - val_loss: 0.2975 - val_accuracy: 0.8936\n",
      "Epoch 15/30\n",
      "1719/1719 - 2s - loss: 0.2062 - accuracy: 0.9268 - val_loss: 0.3087 - val_accuracy: 0.8888\n",
      "Epoch 16/30\n",
      "1719/1719 - 2s - loss: 0.2036 - accuracy: 0.9271 - val_loss: 0.2826 - val_accuracy: 0.8996\n",
      "Epoch 17/30\n",
      "1719/1719 - 2s - loss: 0.1993 - accuracy: 0.9295 - val_loss: 0.2950 - val_accuracy: 0.8910\n",
      "Epoch 18/30\n",
      "1719/1719 - 2s - loss: 0.1973 - accuracy: 0.9299 - val_loss: 0.2935 - val_accuracy: 0.8938\n",
      "Epoch 19/30\n",
      "1719/1719 - 2s - loss: 0.1939 - accuracy: 0.9310 - val_loss: 0.3191 - val_accuracy: 0.8836\n",
      "Epoch 20/30\n",
      "1719/1719 - 2s - loss: 0.1893 - accuracy: 0.9326 - val_loss: 0.3051 - val_accuracy: 0.8892\n",
      "Epoch 21/30\n",
      "1719/1719 - 2s - loss: 0.1869 - accuracy: 0.9340 - val_loss: 0.3014 - val_accuracy: 0.8910\n",
      "Epoch 22/30\n",
      "1719/1719 - 2s - loss: 0.1842 - accuracy: 0.9337 - val_loss: 0.3133 - val_accuracy: 0.8890\n",
      "Epoch 23/30\n",
      "1719/1719 - 2s - loss: 0.1819 - accuracy: 0.9354 - val_loss: 0.2975 - val_accuracy: 0.8924\n",
      "Epoch 24/30\n",
      "1719/1719 - 2s - loss: 0.1790 - accuracy: 0.9367 - val_loss: 0.3021 - val_accuracy: 0.8954\n",
      "Epoch 25/30\n",
      "1719/1719 - 2s - loss: 0.1755 - accuracy: 0.9374 - val_loss: 0.2921 - val_accuracy: 0.8938\n",
      "Epoch 26/30\n",
      "1719/1719 - 2s - loss: 0.1725 - accuracy: 0.9383 - val_loss: 0.2807 - val_accuracy: 0.8994\n",
      "Epoch 27/30\n",
      "1719/1719 - 2s - loss: 0.1701 - accuracy: 0.9389 - val_loss: 0.3033 - val_accuracy: 0.8968\n",
      "Epoch 28/30\n",
      "1719/1719 - 2s - loss: 0.1677 - accuracy: 0.9408 - val_loss: 0.3032 - val_accuracy: 0.8932\n",
      "Epoch 29/30\n",
      "1719/1719 - 2s - loss: 0.1644 - accuracy: 0.9409 - val_loss: 0.2932 - val_accuracy: 0.8962\n",
      "Epoch 30/30\n",
      "1719/1719 - 2s - loss: 0.1634 - accuracy: 0.9417 - val_loss: 0.2829 - val_accuracy: 0.8986\n"
     ]
    }
   ],
   "source": [
    "print(X_train.shape, X_valid.shape)\n",
    "history = model.fit(X_train, y_train,\n",
    "          epochs=30,\n",
    "          validation_data=(X_valid,y_valid),\n",
    "          verbose = 2\n",
    "         )"
   ]
  },
  {
   "cell_type": "markdown",
   "metadata": {},
   "source": [
    "L'oggetto **History** restituito dal metodo fit contiene i parametri di training (**.params**), la lista delle epoche (**.epoch**) e un dict con i valori della loss function e delle metriche di performance sul training e validation set per ogni epoca."
   ]
  },
  {
   "cell_type": "code",
   "execution_count": 51,
   "metadata": {},
   "outputs": [
    {
     "data": {
      "text/plain": [
       "({'verbose': 2, 'epochs': 30, 'steps': 1719},\n",
       " [0,\n",
       "  1,\n",
       "  2,\n",
       "  3,\n",
       "  4,\n",
       "  5,\n",
       "  6,\n",
       "  7,\n",
       "  8,\n",
       "  9,\n",
       "  10,\n",
       "  11,\n",
       "  12,\n",
       "  13,\n",
       "  14,\n",
       "  15,\n",
       "  16,\n",
       "  17,\n",
       "  18,\n",
       "  19,\n",
       "  20,\n",
       "  21,\n",
       "  22,\n",
       "  23,\n",
       "  24,\n",
       "  25,\n",
       "  26,\n",
       "  27,\n",
       "  28,\n",
       "  29])"
      ]
     },
     "execution_count": 51,
     "metadata": {},
     "output_type": "execute_result"
    }
   ],
   "source": [
    "history.params, history.epoch"
   ]
  },
  {
   "cell_type": "code",
   "execution_count": 52,
   "metadata": {},
   "outputs": [
    {
     "data": {
      "image/png": "[encoded data removed]",
      "text/plain": [
       "<Figure size 864x288 with 1 Axes>"
      ]
     },
     "metadata": {
      "needs_background": "light"
     },
     "output_type": "display_data"
    }
   ],
   "source": [
    "pd.DataFrame(history.history).plot(figsize=(12,4))\n",
    "plt.grid(True)"
   ]
  },
  {
   "cell_type": "markdown",
   "metadata": {},
   "source": [
    "Osserviamo un po' di overfitting.\n",
    "\n",
    "Nel caso venga invocato nuovamente il metodo fit, senza ricreare il modello, il processo di training riprende dall'ultimo stato dei parametri.\n",
    "\n",
    "Per valutare il modello appresso sul test set utilizziamo il metodo **evaluate**."
   ]
  },
  {
   "cell_type": "code",
   "execution_count": 55,
   "metadata": {},
   "outputs": [
    {
     "name": "stdout",
     "output_type": "stream",
     "text": [
      "313/313 [==============================] - 0s 1ms/step - loss: 70.0301 - accuracy: 0.8520\n"
     ]
    },
    {
     "data": {
      "text/plain": [
       "0.2237383077700679"
      ]
     },
     "execution_count": 55,
     "metadata": {},
     "output_type": "execute_result"
    }
   ],
   "source": [
    "model.evaluate(X_test, y_test)[0]/313"
   ]
  },
  {
   "cell_type": "code",
   "execution_count": null,
   "metadata": {},
   "outputs": [],
   "source": []
  }
 ],
 "metadata": {
  "kernelspec": {
   "display_name": "Python 3",
   "language": "python",
   "name": "python3"
  },
  "language_info": {
   "codemirror_mode": {
    "name": "ipython",
    "version": 3
   },
   "file_extension": ".py",
   "mimetype": "text/x-python",
   "name": "python",
   "nbconvert_exporter": "python",
   "pygments_lexer": "ipython3",
   "version": "3.8.6"
  }
 },
 "nbformat": 4,
 "nbformat_minor": 4
}
